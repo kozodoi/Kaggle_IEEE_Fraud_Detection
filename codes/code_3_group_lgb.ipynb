{
 "cells": [
  {
   "cell_type": "markdown",
   "metadata": {
    "colab_type": "text",
    "id": "rDg2hoRrG4UL"
   },
   "source": [
    "# SETTINGS"
   ]
  },
  {
   "cell_type": "code",
   "execution_count": 1,
   "metadata": {
    "colab": {},
    "colab_type": "code",
    "id": "2QpPWtHZG4UM"
   },
   "outputs": [],
   "source": [
    "############ LIBRARIES\n",
    "\n",
    "import numpy as np\n",
    "import pandas as pd\n",
    "pd.set_option('display.max_columns', None)\n",
    "\n",
    "import matplotlib.pyplot as plt\n",
    "import seaborn as sns\n",
    "plt.style.use('dark_background')\n",
    "%matplotlib inline\n",
    "\n",
    "import os\n",
    "import time\n",
    "import random\n",
    "import multiprocessing\n",
    "import pickle\n",
    "\n",
    "import scipy.stats\n",
    "\n",
    "import gc\n",
    "gc.enable()\n",
    "\n",
    "import warnings\n",
    "warnings.filterwarnings('ignore')\n",
    "\n",
    "import lightgbm as lgb\n",
    "\n",
    "from sklearn.model_selection import KFold, StratifiedKFold, GroupKFold\n",
    "from sklearn.preprocessing import RobustScaler, LabelEncoder\n",
    "from sklearn.decomposition import PCA, FastICA, FactorAnalysis\n",
    "from sklearn.metrics import log_loss, roc_auc_score, confusion_matrix\n",
    "from sklearn.neighbors import NearestNeighbors"
   ]
  },
  {
   "cell_type": "code",
   "execution_count": 2,
   "metadata": {},
   "outputs": [],
   "source": [
    "############ HELPER FUNCTIONS\n",
    "\n",
    "import functions\n",
    "import importlib\n",
    "importlib.reload(functions)\n",
    "from functions import *"
   ]
  },
  {
   "cell_type": "code",
   "execution_count": 3,
   "metadata": {},
   "outputs": [],
   "source": [
    "############ RANDOMNESS\n",
    "\n",
    "# seed function\n",
    "def seed_everything(seed = 23):\n",
    "    os.environ['PYTHONHASHSEED'] = str(seed)\n",
    "    random.seed(seed)\n",
    "    np.random.seed(seed)\n",
    "    \n",
    "# set seed\n",
    "seed = 23\n",
    "seed_everything(seed)"
   ]
  },
  {
   "cell_type": "markdown",
   "metadata": {
    "colab_type": "text",
    "id": "NraN1BCPG4Uc"
   },
   "source": [
    "# DATA PREPARATION"
   ]
  },
  {
   "cell_type": "code",
   "execution_count": 4,
   "metadata": {
    "colab": {
     "base_uri": "https://localhost:8080/",
     "height": 34
    },
    "colab_type": "code",
    "executionInfo": {
     "elapsed": 1771,
     "status": "ok",
     "timestamp": 1557933093757,
     "user": {
      "displayName": "Elizaveta",
      "photoUrl": "https://lh3.googleusercontent.com/-3-3kSLC4Mzw/AAAAAAAAAAI/AAAAAAAAABg/Usb9K3n3cRI/s64/photo.jpg",
      "userId": "01253993997636551956"
     },
     "user_tz": -120
    },
    "id": "7QV5eQHHG4Ud",
    "outputId": "2389881e-8c0a-4518-c185-d0a84d1d4a67"
   },
   "outputs": [
    {
     "name": "stdout",
     "output_type": "stream",
     "text": [
      "(1097231, 791)\n"
     ]
    }
   ],
   "source": [
    "# import CSV\n",
    "df = pd.read_pickle('../input/data_v5.pkl')\n",
    "print(df.shape)"
   ]
  },
  {
   "cell_type": "code",
   "execution_count": 5,
   "metadata": {
    "colab": {},
    "colab_type": "code",
    "id": "qfsTSMBAG4Uf"
   },
   "outputs": [],
   "source": [
    "# target variable\n",
    "target = 'isFraud'"
   ]
  },
  {
   "cell_type": "code",
   "execution_count": 6,
   "metadata": {
    "colab": {
     "base_uri": "https://localhost:8080/",
     "height": 51
    },
    "colab_type": "code",
    "executionInfo": {
     "elapsed": 1334,
     "status": "ok",
     "timestamp": 1557933093762,
     "user": {
      "displayName": "Elizaveta",
      "photoUrl": "https://lh3.googleusercontent.com/-3-3kSLC4Mzw/AAAAAAAAAAI/AAAAAAAAABg/Usb9K3n3cRI/s64/photo.jpg",
      "userId": "01253993997636551956"
     },
     "user_tz": -120
    },
    "id": "hxJatDSBG4Uh",
    "outputId": "9b7dd4d7-fbf6-493b-d23c-25fdbf58ee37"
   },
   "outputs": [
    {
     "name": "stdout",
     "output_type": "stream",
     "text": [
      "(590540, 791)\n",
      "(506691, 791)\n"
     ]
    }
   ],
   "source": [
    "# partitioning\n",
    "full_train = df[df[target].isnull() == False].reset_index(drop = True)\n",
    "full_test  = df[df[target].isnull() == True].reset_index(drop = True)\n",
    "print(full_train.shape)\n",
    "print(full_test.shape)\n",
    "del df"
   ]
  },
  {
   "cell_type": "raw",
   "metadata": {
    "colab": {},
    "colab_type": "code",
    "id": "vMbdrUNnG4Uk"
   },
   "source": [
    "# extract target\n",
    "y_full = full_train[target]\n",
    "del full_train[target], full_test[target]"
   ]
  },
  {
   "cell_type": "markdown",
   "metadata": {
    "colab_type": "text",
    "id": "nPX4ljoNG4Un"
   },
   "source": [
    "# MODELING"
   ]
  },
  {
   "cell_type": "markdown",
   "metadata": {
    "colab_type": "text",
    "id": "B69Fdhg0G4Uo"
   },
   "source": [
    "### PARAMETERS"
   ]
  },
  {
   "cell_type": "code",
   "execution_count": 7,
   "metadata": {
    "colab": {
     "base_uri": "https://localhost:8080/",
     "height": 34
    },
    "colab_type": "code",
    "executionInfo": {
     "elapsed": 648,
     "status": "ok",
     "timestamp": 1557933094450,
     "user": {
      "displayName": "Elizaveta",
      "photoUrl": "https://lh3.googleusercontent.com/-3-3kSLC4Mzw/AAAAAAAAAAI/AAAAAAAAABg/Usb9K3n3cRI/s64/photo.jpg",
      "userId": "01253993997636551956"
     },
     "user_tz": -120
    },
    "id": "eWm2I0jDG4Uo",
    "outputId": "89ecbd36-3fac-47aa-dc7f-5b04b4d6081a"
   },
   "outputs": [
    {
     "name": "stdout",
     "output_type": "stream",
     "text": [
      "(590540, 773)\n"
     ]
    }
   ],
   "source": [
    "############ FEAUTERS\n",
    "\n",
    "# drop bad features\n",
    "excluded_feats = [target,\n",
    "                  'TransactionID', 'TransactionDT',\n",
    "                  'bank_type',\n",
    "                  'uid1', 'uid2', 'uid3', 'uid4', 'uid5', \n",
    "                  'DT', 'DT_D', 'DT_W', 'DT_M', 'DT_hour', 'DT_day_week', 'DT_day_month', 'DT_D_total', 'DT_W_total', 'DT_M_total']\n",
    "full_features = [f for f in full_train.columns if f not in excluded_feats]\n",
    "print(full_train[full_features].shape)"
   ]
  },
  {
   "cell_type": "code",
   "execution_count": 8,
   "metadata": {
    "colab": {},
    "colab_type": "code",
    "id": "ynozDG6yivwQ"
   },
   "outputs": [],
   "source": [
    "############ PARAMETERS\n",
    "\n",
    "# cores\n",
    "cores = 20\n",
    "\n",
    "# cross-validation\n",
    "num_folds = 6\n",
    "shuffle   = True\n",
    "\n",
    "# number of trees\n",
    "max_rounds = 10000\n",
    "stopping   = 200\n",
    "verbose    = 200\n",
    "\n",
    "# LGB parameters\n",
    "lgb_params = {\n",
    "    'boosting_type':     'gbdt',\n",
    "    'objective':         'binary',\n",
    "    'metric':            'auc',\n",
    "    'bagging_fraction':  0.9,\n",
    "    'feature_fraction':  0.9,\n",
    "    'lambda_l1':         0.1,\n",
    "    'lambda_l2':         0.1,\n",
    "    'min_split_gain':    0,\n",
    "    'min_child_weight':  0.1,\n",
    "    'min_child_samples': 20,\n",
    "    'silent':            True,\n",
    "    'verbosity':         -1,\n",
    "    'learning_rate':     0.01,\n",
    "    'max_depth':         5,\n",
    "    'num_leaves':        100,\n",
    "    'scale_pos_weight':  1,\n",
    "    'n_estimators':      max_rounds,\n",
    "    'nthread' :          cores,\n",
    "    'random_state':      seed,\n",
    "}\n",
    "\n",
    "lgb_params = {\n",
    "                    'objective':'binary',\n",
    "                    'boosting_type':'gbdt',\n",
    "                    'metric':'auc',\n",
    "                    'n_jobs':cores,\n",
    "                    'learning_rate':0.01,\n",
    "                    'num_leaves': 2**8,\n",
    "                    'max_depth':-1,\n",
    "                    'tree_learner':'serial',\n",
    "                    'colsample_bytree': 0.5,\n",
    "                    'subsample_freq':1,\n",
    "                    'subsample':0.7,\n",
    "                    'n_estimators':max_rounds,\n",
    "                    'max_bin':255,\n",
    "                    'verbose':-1,\n",
    "                    'seed': seed,\n",
    "                } \n",
    "\n",
    "# data partitinoing\n",
    "#folds = StratifiedKFold(n_splits = num_folds, random_state = seed, shuffle = shuffle)\n",
    "folds = GroupKFold(n_splits = num_folds)\n",
    "\n",
    "# SMOTE settings\n",
    "#from imblearn.over_sampling import SMOTE\n",
    "#sm = SMOTE(random_state = seed, n_jobs = cores, sampling_strategy = 0.1)"
   ]
  },
  {
   "cell_type": "code",
   "execution_count": 9,
   "metadata": {
    "colab": {},
    "colab_type": "code",
    "id": "9usATBLbG4Uv"
   },
   "outputs": [],
   "source": [
    "############ PLACEHOLDERS\n",
    "\n",
    "# placeholders\n",
    "clfs = []\n",
    "importances = pd.DataFrame()\n",
    "\n",
    "# predictions\n",
    "preds_test = np.zeros(full_test.shape[0])\n",
    "preds_oof  = np.zeros(full_train.shape[0])"
   ]
  },
  {
   "cell_type": "markdown",
   "metadata": {
    "colab_type": "text",
    "id": "OnYbk3yBG4Uz"
   },
   "source": [
    "### CROSS-VALIDATION"
   ]
  },
  {
   "cell_type": "code",
   "execution_count": 10,
   "metadata": {
    "colab": {
     "base_uri": "https://localhost:8080/",
     "height": 918
    },
    "colab_type": "code",
    "executionInfo": {
     "elapsed": 52906,
     "status": "ok",
     "timestamp": 1557933151848,
     "user": {
      "displayName": "Elizaveta",
      "photoUrl": "https://lh3.googleusercontent.com/-3-3kSLC4Mzw/AAAAAAAAAAI/AAAAAAAAABg/Usb9K3n3cRI/s64/photo.jpg",
      "userId": "01253993997636551956"
     },
     "user_tz": -120
    },
    "id": "XdVpCrqxG4U0",
    "outputId": "d2b165a7-c56b-44c0-b62b-466147db5e22"
   },
   "outputs": [
    {
     "name": "stdout",
     "output_type": "stream",
     "text": [
      "---------------\n",
      "---------------\n",
      "PRODUCT CD = 0.0204010009765625\n",
      "---------------\n",
      "---------------\n",
      "Data shape: (358122, 541) (81548, 541)\n",
      "Training until validation scores don't improve for 200 rounds.\n",
      "[200]\ttraining's auc: 0.992272\tvalid_1's auc: 0.904219\n",
      "[400]\ttraining's auc: 0.99983\tvalid_1's auc: 0.921332\n",
      "[600]\ttraining's auc: 0.999996\tvalid_1's auc: 0.924996\n",
      "[800]\ttraining's auc: 1\tvalid_1's auc: 0.92663\n",
      "[1000]\ttraining's auc: 1\tvalid_1's auc: 0.926685\n",
      "Early stopping, best iteration is:\n",
      "[937]\ttraining's auc: 1\tvalid_1's auc: 0.926889\n",
      "--------------------------------\n",
      "FOLD 1: AUC = 0.926925\n",
      "--------------------------------\n",
      "\n",
      "Data shape: (363531, 541) (76139, 541)\n",
      "Training until validation scores don't improve for 200 rounds.\n",
      "[200]\ttraining's auc: 0.991024\tvalid_1's auc: 0.877655\n",
      "[400]\ttraining's auc: 0.999741\tvalid_1's auc: 0.890758\n",
      "[600]\ttraining's auc: 0.999963\tvalid_1's auc: 0.893487\n",
      "[800]\ttraining's auc: 0.999972\tvalid_1's auc: 0.893865\n",
      "[1000]\ttraining's auc: 0.999974\tvalid_1's auc: 0.894257\n",
      "Early stopping, best iteration is:\n",
      "[992]\ttraining's auc: 0.999974\tvalid_1's auc: 0.894312\n",
      "--------------------------------\n",
      "FOLD 2: AUC = 0.894286\n",
      "--------------------------------\n",
      "\n",
      "Data shape: (364760, 541) (74910, 541)\n",
      "Training until validation scores don't improve for 200 rounds.\n",
      "[200]\ttraining's auc: 0.99203\tvalid_1's auc: 0.908277\n",
      "[400]\ttraining's auc: 0.999803\tvalid_1's auc: 0.91982\n",
      "[600]\ttraining's auc: 0.999994\tvalid_1's auc: 0.921708\n",
      "[800]\ttraining's auc: 1\tvalid_1's auc: 0.921265\n",
      "Early stopping, best iteration is:\n",
      "[694]\ttraining's auc: 0.999998\tvalid_1's auc: 0.921989\n",
      "--------------------------------\n",
      "FOLD 3: AUC = 0.921989\n",
      "--------------------------------\n",
      "\n",
      "Data shape: (369590, 541) (70080, 541)\n",
      "Training until validation scores don't improve for 200 rounds.\n",
      "[200]\ttraining's auc: 0.990888\tvalid_1's auc: 0.893084\n",
      "[400]\ttraining's auc: 0.999722\tvalid_1's auc: 0.913\n",
      "[600]\ttraining's auc: 0.99999\tvalid_1's auc: 0.91739\n",
      "[800]\ttraining's auc: 0.999999\tvalid_1's auc: 0.918445\n",
      "Early stopping, best iteration is:\n",
      "[759]\ttraining's auc: 0.999998\tvalid_1's auc: 0.918521\n",
      "--------------------------------\n",
      "FOLD 4: AUC = 0.918606\n",
      "--------------------------------\n",
      "\n",
      "Data shape: (370970, 541) (68700, 541)\n",
      "Training until validation scores don't improve for 200 rounds.\n",
      "[200]\ttraining's auc: 0.990857\tvalid_1's auc: 0.912944\n",
      "[400]\ttraining's auc: 0.999781\tvalid_1's auc: 0.925642\n",
      "[600]\ttraining's auc: 0.999994\tvalid_1's auc: 0.928667\n",
      "[800]\ttraining's auc: 1\tvalid_1's auc: 0.929246\n",
      "Early stopping, best iteration is:\n",
      "[740]\ttraining's auc: 0.999999\tvalid_1's auc: 0.929474\n",
      "--------------------------------\n",
      "FOLD 5: AUC = 0.929475\n",
      "--------------------------------\n",
      "\n",
      "Data shape: (371377, 541) (68293, 541)\n",
      "Training until validation scores don't improve for 200 rounds.\n",
      "[200]\ttraining's auc: 0.990327\tvalid_1's auc: 0.925431\n",
      "[400]\ttraining's auc: 0.999758\tvalid_1's auc: 0.942777\n",
      "[600]\ttraining's auc: 0.999986\tvalid_1's auc: 0.947329\n",
      "[800]\ttraining's auc: 0.99999\tvalid_1's auc: 0.948797\n",
      "Early stopping, best iteration is:\n",
      "[748]\ttraining's auc: 0.999991\tvalid_1's auc: 0.948487\n",
      "--------------------------------\n",
      "FOLD 6: AUC = 0.948480\n",
      "--------------------------------\n",
      "\n",
      "--------------------------------\n",
      "- OOF AUC = 0.919307\n",
      "--------------------------------\n",
      "---------------\n",
      "---------------\n",
      "PRODUCT CD = 0.04766845703125\n",
      "---------------\n",
      "---------------\n",
      "Data shape: (11993, 740) (21031, 740)\n",
      "Training until validation scores don't improve for 200 rounds.\n",
      "[200]\ttraining's auc: 0.999797\tvalid_1's auc: 0.925639\n",
      "[400]\ttraining's auc: 1\tvalid_1's auc: 0.932344\n",
      "Early stopping, best iteration is:\n",
      "[397]\ttraining's auc: 1\tvalid_1's auc: 0.932201\n",
      "--------------------------------\n",
      "FOLD 1: AUC = 0.932089\n",
      "--------------------------------\n",
      "\n",
      "Data shape: (30382, 740) (2642, 740)\n",
      "Training until validation scores don't improve for 200 rounds.\n",
      "[200]\ttraining's auc: 0.999983\tvalid_1's auc: 0.858398\n",
      "[400]\ttraining's auc: 1\tvalid_1's auc: 0.876121\n",
      "Early stopping, best iteration is:\n",
      "[328]\ttraining's auc: 1\tvalid_1's auc: 0.869427\n",
      "--------------------------------\n",
      "FOLD 2: AUC = 0.870329\n",
      "--------------------------------\n",
      "\n",
      "Data shape: (30446, 740) (2578, 740)\n",
      "Training until validation scores don't improve for 200 rounds.\n",
      "[200]\ttraining's auc: 0.999978\tvalid_1's auc: 0.882603\n",
      "[400]\ttraining's auc: 1\tvalid_1's auc: 0.884763\n",
      "Early stopping, best iteration is:\n",
      "[327]\ttraining's auc: 1\tvalid_1's auc: 0.883251\n",
      "--------------------------------\n",
      "FOLD 3: AUC = 0.883628\n",
      "--------------------------------\n",
      "\n",
      "Data shape: (30647, 740) (2377, 740)\n",
      "Training until validation scores don't improve for 200 rounds.\n",
      "[200]\ttraining's auc: 0.999982\tvalid_1's auc: 0.933509\n",
      "Early stopping, best iteration is:\n",
      "[41]\ttraining's auc: 0.997977\tvalid_1's auc: 0.936925\n",
      "--------------------------------\n",
      "FOLD 4: AUC = 0.936111\n",
      "--------------------------------\n",
      "\n",
      "Data shape: (30794, 740) (2230, 740)\n",
      "Training until validation scores don't improve for 200 rounds.\n",
      "[200]\ttraining's auc: 0.999981\tvalid_1's auc: 0.936464\n",
      "[400]\ttraining's auc: 1\tvalid_1's auc: 0.939431\n",
      "Early stopping, best iteration is:\n",
      "[304]\ttraining's auc: 1\tvalid_1's auc: 0.938725\n",
      "--------------------------------\n",
      "FOLD 5: AUC = 0.938445\n",
      "--------------------------------\n",
      "\n",
      "Data shape: (30858, 740) (2166, 740)\n",
      "Training until validation scores don't improve for 200 rounds.\n",
      "[200]\ttraining's auc: 0.999986\tvalid_1's auc: 0.941368\n",
      "[400]\ttraining's auc: 1\tvalid_1's auc: 0.945022\n",
      "Early stopping, best iteration is:\n",
      "[335]\ttraining's auc: 1\tvalid_1's auc: 0.943403\n",
      "--------------------------------\n",
      "FOLD 6: AUC = 0.943468\n",
      "--------------------------------\n",
      "\n",
      "--------------------------------\n",
      "- OOF AUC = 0.896425\n",
      "--------------------------------\n",
      "---------------\n",
      "---------------\n",
      "PRODUCT CD = 0.11688232421875\n",
      "---------------\n",
      "---------------\n",
      "Data shape: (51744, 698) (16775, 698)\n",
      "Training until validation scores don't improve for 200 rounds.\n",
      "[200]\ttraining's auc: 0.995213\tvalid_1's auc: 0.916715\n",
      "[400]\ttraining's auc: 0.999855\tvalid_1's auc: 0.920929\n",
      "[600]\ttraining's auc: 1\tvalid_1's auc: 0.922975\n",
      "[800]\ttraining's auc: 1\tvalid_1's auc: 0.923311\n",
      "Early stopping, best iteration is:\n",
      "[691]\ttraining's auc: 1\tvalid_1's auc: 0.923137\n",
      "--------------------------------\n",
      "FOLD 1: AUC = 0.923136\n",
      "--------------------------------\n",
      "\n",
      "Data shape: (55379, 698) (13140, 698)\n",
      "Training until validation scores don't improve for 200 rounds.\n",
      "[200]\ttraining's auc: 0.994672\tvalid_1's auc: 0.936651\n",
      "[400]\ttraining's auc: 0.999805\tvalid_1's auc: 0.942912\n",
      "[600]\ttraining's auc: 0.999942\tvalid_1's auc: 0.944963\n",
      "[800]\ttraining's auc: 1\tvalid_1's auc: 0.945563\n",
      "[1000]\ttraining's auc: 1\tvalid_1's auc: 0.945942\n",
      "Early stopping, best iteration is:\n",
      "[804]\ttraining's auc: 1\tvalid_1's auc: 0.94563\n",
      "--------------------------------\n",
      "FOLD 2: AUC = 0.945631\n",
      "--------------------------------\n",
      "\n",
      "Data shape: (58132, 698) (10387, 698)\n",
      "Training until validation scores don't improve for 200 rounds.\n",
      "[200]\ttraining's auc: 0.99292\tvalid_1's auc: 0.959884\n",
      "[400]\ttraining's auc: 0.99973\tvalid_1's auc: 0.962739\n",
      "[600]\ttraining's auc: 0.999999\tvalid_1's auc: 0.963849\n",
      "[800]\ttraining's auc: 1\tvalid_1's auc: 0.964766\n",
      "[1000]\ttraining's auc: 1\tvalid_1's auc: 0.965425\n",
      "Early stopping, best iteration is:\n",
      "[928]\ttraining's auc: 1\tvalid_1's auc: 0.965269\n",
      "--------------------------------\n",
      "FOLD 3: AUC = 0.965269\n",
      "--------------------------------\n",
      "\n",
      "Data shape: (58347, 698) (10172, 698)\n",
      "Training until validation scores don't improve for 200 rounds.\n",
      "[200]\ttraining's auc: 0.993889\tvalid_1's auc: 0.951359\n",
      "[400]\ttraining's auc: 0.999772\tvalid_1's auc: 0.954672\n",
      "[600]\ttraining's auc: 0.999998\tvalid_1's auc: 0.955826\n",
      "[800]\ttraining's auc: 1\tvalid_1's auc: 0.957032\n",
      "[1000]\ttraining's auc: 1\tvalid_1's auc: 0.957255\n",
      "[1200]\ttraining's auc: 1\tvalid_1's auc: 0.957706\n",
      "Early stopping, best iteration is:\n",
      "[1055]\ttraining's auc: 1\tvalid_1's auc: 0.957439\n",
      "--------------------------------\n",
      "FOLD 4: AUC = 0.957438\n",
      "--------------------------------\n",
      "\n",
      "Data shape: (59041, 698) (9478, 698)\n",
      "Training until validation scores don't improve for 200 rounds.\n",
      "[200]\ttraining's auc: 0.994046\tvalid_1's auc: 0.935544\n",
      "[400]\ttraining's auc: 0.999806\tvalid_1's auc: 0.937041\n",
      "[600]\ttraining's auc: 0.999999\tvalid_1's auc: 0.93774\n",
      "[800]\ttraining's auc: 1\tvalid_1's auc: 0.937937\n",
      "Early stopping, best iteration is:\n",
      "[673]\ttraining's auc: 1\tvalid_1's auc: 0.937867\n",
      "--------------------------------\n",
      "FOLD 5: AUC = 0.937864\n",
      "--------------------------------\n",
      "\n",
      "Data shape: (59952, 698) (8567, 698)\n",
      "Training until validation scores don't improve for 200 rounds.\n",
      "[200]\ttraining's auc: 0.993292\tvalid_1's auc: 0.934769\n",
      "[400]\ttraining's auc: 0.999755\tvalid_1's auc: 0.94089\n",
      "[600]\ttraining's auc: 0.999998\tvalid_1's auc: 0.943619\n",
      "[800]\ttraining's auc: 1\tvalid_1's auc: 0.944468\n",
      "Early stopping, best iteration is:\n",
      "[747]\ttraining's auc: 1\tvalid_1's auc: 0.944217\n",
      "--------------------------------\n",
      "FOLD 6: AUC = 0.944213\n",
      "--------------------------------\n",
      "\n",
      "--------------------------------\n",
      "- OOF AUC = 0.943629\n",
      "--------------------------------\n",
      "---------------\n",
      "---------------\n",
      "PRODUCT CD = 0.058990478515625\n",
      "---------------\n",
      "---------------\n",
      "Data shape: (8578, 708) (3050, 708)\n",
      "Training until validation scores don't improve for 200 rounds.\n",
      "[200]\ttraining's auc: 0.999976\tvalid_1's auc: 0.9612\n",
      "[400]\ttraining's auc: 1\tvalid_1's auc: 0.969385\n",
      "Early stopping, best iteration is:\n",
      "[395]\ttraining's auc: 1\tvalid_1's auc: 0.969434\n",
      "--------------------------------\n",
      "FOLD 1: AUC = 0.969427\n",
      "--------------------------------\n",
      "\n",
      "Data shape: (8639, 708) (2989, 708)\n",
      "Training until validation scores don't improve for 200 rounds.\n",
      "[200]\ttraining's auc: 0.999975\tvalid_1's auc: 0.90331\n",
      "Early stopping, best iteration is:\n",
      "[23]\ttraining's auc: 0.998095\tvalid_1's auc: 0.910687\n",
      "--------------------------------\n",
      "FOLD 2: AUC = 0.910687\n",
      "--------------------------------\n",
      "\n",
      "Data shape: (10119, 708) (1509, 708)\n",
      "Training until validation scores don't improve for 200 rounds.\n",
      "[200]\ttraining's auc: 0.999996\tvalid_1's auc: 0.954728\n",
      "[400]\ttraining's auc: 1\tvalid_1's auc: 0.962606\n",
      "Early stopping, best iteration is:\n",
      "[231]\ttraining's auc: 1\tvalid_1's auc: 0.957002\n",
      "--------------------------------\n",
      "FOLD 3: AUC = 0.957021\n",
      "--------------------------------\n",
      "\n",
      "Data shape: (10242, 708) (1386, 708)\n",
      "Training until validation scores don't improve for 200 rounds.\n",
      "[200]\ttraining's auc: 0.999976\tvalid_1's auc: 0.958615\n",
      "[400]\ttraining's auc: 1\tvalid_1's auc: 0.966706\n",
      "Early stopping, best iteration is:\n",
      "[395]\ttraining's auc: 1\tvalid_1's auc: 0.966557\n",
      "--------------------------------\n",
      "FOLD 4: AUC = 0.966592\n",
      "--------------------------------\n",
      "\n",
      "Data shape: (10257, 708) (1371, 708)\n",
      "Training until validation scores don't improve for 200 rounds.\n",
      "[200]\ttraining's auc: 0.999982\tvalid_1's auc: 0.97239\n",
      "Early stopping, best iteration is:\n",
      "[185]\ttraining's auc: 0.999976\tvalid_1's auc: 0.972689\n",
      "--------------------------------\n",
      "FOLD 5: AUC = 0.972665\n",
      "--------------------------------\n",
      "\n",
      "Data shape: (10305, 708) (1323, 708)\n",
      "Training until validation scores don't improve for 200 rounds.\n",
      "[200]\ttraining's auc: 0.999988\tvalid_1's auc: 0.955635\n",
      "[400]\ttraining's auc: 1\tvalid_1's auc: 0.95963\n",
      "Early stopping, best iteration is:\n",
      "[371]\ttraining's auc: 1\tvalid_1's auc: 0.959475\n",
      "--------------------------------\n",
      "FOLD 6: AUC = 0.959488\n",
      "--------------------------------\n",
      "\n",
      "--------------------------------\n",
      "- OOF AUC = 0.922302\n",
      "--------------------------------\n",
      "---------------\n",
      "---------------\n",
      "PRODUCT CD = 0.037811279296875\n",
      "---------------\n",
      "---------------\n",
      "Data shape: (17373, 740) (20326, 740)\n",
      "Training until validation scores don't improve for 200 rounds.\n",
      "[200]\ttraining's auc: 0.999955\tvalid_1's auc: 0.924069\n",
      "[400]\ttraining's auc: 1\tvalid_1's auc: 0.933246\n",
      "[600]\ttraining's auc: 1\tvalid_1's auc: 0.937876\n",
      "Early stopping, best iteration is:\n",
      "[404]\ttraining's auc: 1\tvalid_1's auc: 0.93345\n",
      "--------------------------------\n",
      "FOLD 1: AUC = 0.933401\n",
      "--------------------------------\n",
      "\n",
      "Data shape: (33498, 740) (4201, 740)\n",
      "Training until validation scores don't improve for 200 rounds.\n",
      "[200]\ttraining's auc: 0.999986\tvalid_1's auc: 0.96944\n",
      "[400]\ttraining's auc: 1\tvalid_1's auc: 0.970676\n",
      "Early stopping, best iteration is:\n",
      "[348]\ttraining's auc: 1\tvalid_1's auc: 0.970487\n",
      "--------------------------------\n",
      "FOLD 2: AUC = 0.970602\n",
      "--------------------------------\n",
      "\n",
      "Data shape: (34254, 740) (3445, 740)\n",
      "Training until validation scores don't improve for 200 rounds.\n",
      "[200]\ttraining's auc: 0.999999\tvalid_1's auc: 0.966263\n",
      "[400]\ttraining's auc: 1\tvalid_1's auc: 0.968083\n",
      "Early stopping, best iteration is:\n",
      "[237]\ttraining's auc: 1\tvalid_1's auc: 0.966851\n",
      "--------------------------------\n",
      "FOLD 3: AUC = 0.966558\n",
      "--------------------------------\n",
      "\n",
      "Data shape: (34347, 740) (3352, 740)\n",
      "Training until validation scores don't improve for 200 rounds.\n",
      "[200]\ttraining's auc: 0.999993\tvalid_1's auc: 0.963391\n",
      "[400]\ttraining's auc: 1\tvalid_1's auc: 0.966515\n",
      "Early stopping, best iteration is:\n",
      "[326]\ttraining's auc: 1\tvalid_1's auc: 0.965808\n",
      "--------------------------------\n",
      "FOLD 4: AUC = 0.965807\n",
      "--------------------------------\n",
      "\n",
      "Data shape: (34505, 740) (3194, 740)\n",
      "Training until validation scores don't improve for 200 rounds.\n",
      "[200]\ttraining's auc: 0.999989\tvalid_1's auc: 0.961421\n",
      "[400]\ttraining's auc: 1\tvalid_1's auc: 0.970742\n",
      "[600]\ttraining's auc: 1\tvalid_1's auc: 0.974371\n",
      "Early stopping, best iteration is:\n",
      "[438]\ttraining's auc: 1\tvalid_1's auc: 0.971844\n",
      "--------------------------------\n",
      "FOLD 5: AUC = 0.971725\n",
      "--------------------------------\n",
      "\n",
      "Data shape: (34518, 740) (3181, 740)\n",
      "Training until validation scores don't improve for 200 rounds.\n",
      "[200]\ttraining's auc: 0.999993\tvalid_1's auc: 0.954103\n",
      "[400]\ttraining's auc: 1\tvalid_1's auc: 0.955129\n",
      "Early stopping, best iteration is:\n",
      "[356]\ttraining's auc: 1\tvalid_1's auc: 0.954371\n",
      "--------------------------------\n",
      "FOLD 6: AUC = 0.954890\n",
      "--------------------------------\n",
      "\n",
      "--------------------------------\n",
      "- OOF AUC = 0.954541\n",
      "--------------------------------\n",
      "CV TIME = 902.07 min\n"
     ]
    }
   ],
   "source": [
    "cv_start  = time.time()\n",
    "for pcd in full_train.ProductCD.unique():\n",
    "    \n",
    "    print('-'*15)\n",
    "    print('-'*15)\n",
    "    print('PRODUCT CD = ' + str(pcd))\n",
    "    print('-'*15)\n",
    "    print('-'*15)\n",
    "    \n",
    "    train = full_train[full_train.ProductCD == pcd]\n",
    "    test  = full_test[full_test.ProductCD   == pcd]\n",
    "\n",
    "    idx1 = train.index\n",
    "    idx2 = test.index\n",
    "        \n",
    "    train.reset_index(drop = True, inplace = True)\n",
    "    test.reset_index(drop  = True, inplace = True)\n",
    "    \n",
    "    y = train[target]\n",
    "    del train[target], test[target]\n",
    "    \n",
    "    features = full_features.copy()\n",
    "    for var in train.columns:\n",
    "        if train[var].isnull().sum() == len(train):\n",
    "            del train[var], test[var]\n",
    "            if var in features:\n",
    "                features.remove(var)\n",
    "\n",
    "\n",
    "    ############ CROSS-VALIDATION LOOP\n",
    "    for n_fold, (trn_idx, val_idx) in enumerate(folds.split(train, y, groups = train['DT_M'])):\n",
    "\n",
    "        # data partitioning\n",
    "        trn_x, trn_y = train[features].iloc[trn_idx], y.iloc[trn_idx]\n",
    "        val_x, val_y = train[features].iloc[val_idx], y.iloc[val_idx]\n",
    "        test_x       = test[features]\n",
    "\n",
    "        # label encoding\n",
    "        trn_x, val_x, test_x = label_encoding(trn_x, val_x, test_x)\n",
    "\n",
    "        ## remove outliers\n",
    "        #out_idx = (np.abs(scipy.stats.zscore(trn_x)) < 10).all(axis = 1)\n",
    "        #trn_x = trn_x[out_idx]\n",
    "        #trn_y = trn_y[out_idx]\n",
    "\n",
    "        ## scale data\n",
    "        #scaler   = RobustScaler()\n",
    "        #trn_x    = pd.DataFrame(scaler.fit_transform(trn_x), columns = features)\n",
    "        #val_x    = pd.DataFrame(scaler.transform(val_x),     columns = features)\n",
    "        #tmp_test = pd.DataFrame(scaler.transform(test_x),    columns = features)\n",
    "\n",
    "        ## augment training data with SMOTE\n",
    "        #trn_x, trn_y = sm.fit_sample(trn_x, trn_y)\n",
    "        #trn_x = pd.DataFrame(trn_x, columns = features)\n",
    "        #trn_y = pd.Series(trn_y)\n",
    "\n",
    "        ## add noise to train to reduce overfitting\n",
    "        #trn_x += np.random.normal(0, 0.01, trn_x.shape)\n",
    "\n",
    "        # print data dimensions\n",
    "        print('Data shape:', trn_x.shape, val_x.shape)\n",
    "\n",
    "        # train lightGBM\n",
    "        clf = lgb.LGBMClassifier(**lgb_params) \n",
    "        clf = clf.fit(trn_x, trn_y, \n",
    "                      eval_set              = [(trn_x, trn_y), (val_x, val_y)], \n",
    "                      eval_metric           = 'auc', \n",
    "                      early_stopping_rounds = stopping,\n",
    "                      verbose               = verbose)\n",
    "        clfs.append(clf)\n",
    "\n",
    "        # find the best iteration\n",
    "        best_iter = clf.best_iteration_\n",
    "\n",
    "        # save predictions\n",
    "        preds_oof[idx1[val_idx]] = clf.predict_proba(val_x,  num_iteration = best_iter)[:, 1]\n",
    "        preds_test[idx2]        += clf.predict_proba(test_x, num_iteration = best_iter)[:, 1] / folds.n_splits \n",
    "\n",
    "        # importance\n",
    "        fold_importance_df               = pd.DataFrame()\n",
    "        fold_importance_df['Feature']    = features\n",
    "        fold_importance_df['Importance'] = clf.feature_importances_\n",
    "        fold_importance_df['Fold']       = n_fold + 1\n",
    "        importances                      = pd.concat([importances, fold_importance_df], axis = 0)\n",
    "\n",
    "        # print performance\n",
    "        print('--------------------------------')\n",
    "        print('FOLD%2d: AUC = %.6f' % (n_fold + 1, roc_auc_score(y[val_idx], preds_oof[idx1[val_idx]])))\n",
    "        print('--------------------------------')\n",
    "        print('')\n",
    "\n",
    "        # clear memory\n",
    "        del trn_x, trn_y, val_x, val_y\n",
    "        gc.collect()\n",
    "\n",
    "\n",
    "    # print overall performance    \n",
    "    cv_perf = roc_auc_score(y, preds_oof[idx1])\n",
    "    print('--------------------------------')\n",
    "    print('- OOF AUC = %.6f' % cv_perf)\n",
    "    print('--------------------------------')\n",
    "    \n",
    "    \n",
    "print('CV TIME = {:.2f} min'.format((time.time() - cv_start) / 60))"
   ]
  },
  {
   "cell_type": "markdown",
   "metadata": {
    "colab_type": "text",
    "id": "OnYbk3yBG4Uz"
   },
   "source": [
    "### EVALUATION"
   ]
  },
  {
   "cell_type": "code",
   "execution_count": 11,
   "metadata": {
    "colab": {},
    "colab_type": "code",
    "id": "qRJGFSmyG4U3"
   },
   "outputs": [
    {
     "name": "stdout",
     "output_type": "stream",
     "text": [
      "0.93525\n"
     ]
    }
   ],
   "source": [
    "############ RECHECK PERFORMANCE  \n",
    "\n",
    "# check performance\n",
    "y = full_train[target]\n",
    "print(np.round(roc_auc_score(y, preds_oof), 5))\n",
    "cv_perf = roc_auc_score(y, preds_oof)\n",
    "\n",
    "\n",
    "############ TRACK RESULTS\n",
    "\n",
    "# v1:   group kfold:         0.91762 | 0.9324\n",
    "# v1fs: top300 features:     0.91823 | 0.9334\n",
    "# v1fs: top200 features:     0.91745 | 0.9340\n",
    "# v1p:  per product:         0.91945 | 0.9330\n",
    "\n",
    "# v2:   DT_M aggregaions:    0.91896 | 0.9330"
   ]
  },
  {
   "cell_type": "code",
   "execution_count": 12,
   "metadata": {},
   "outputs": [
    {
     "data": {
      "image/png": "[encoded data removed]",
      "text/plain": [
       "<Figure size 720x288 with 2 Axes>"
      ]
     },
     "metadata": {
      "needs_background": "dark"
     },
     "output_type": "display_data"
    }
   ],
   "source": [
    "########## CONFUSION MATRIX\n",
    "\n",
    "# construct confusion matrx\n",
    "cm = confusion_matrix(y, np.round(preds_oof))\n",
    "cm = cm.astype('float') / cm.sum(axis = 1)[:, np.newaxis]\n",
    "\n",
    "# plot matrix\n",
    "fig, ax = plt.subplots(figsize = (10, 4))\n",
    "sns.heatmap(cm, cmap = 'Blues', annot = True, lw = 0.5)\n",
    "ax.set_xlabel('Prediction')\n",
    "ax.set_ylabel('Ground Truth')\n",
    "ax.set_aspect('equal')"
   ]
  },
  {
   "cell_type": "markdown",
   "metadata": {
    "colab_type": "text",
    "id": "2dsi_jeGG4VE"
   },
   "source": [
    "# SUBMISSION"
   ]
  },
  {
   "cell_type": "code",
   "execution_count": 13,
   "metadata": {
    "colab": {},
    "colab_type": "code",
    "id": "_Tt_FxCwG4VF"
   },
   "outputs": [
    {
     "data": {
      "text/plain": [
       "'lgb_v5p_93524'"
      ]
     },
     "execution_count": 13,
     "metadata": {},
     "output_type": "execute_result"
    }
   ],
   "source": [
    "# file name\n",
    "model = 'lgb_v5p'\n",
    "perf  = str(round(cv_perf, 6))[2:7]\n",
    "name  = model + '_' + perf\n",
    "name"
   ]
  },
  {
   "cell_type": "code",
   "execution_count": 14,
   "metadata": {
    "colab": {},
    "colab_type": "code",
    "id": "gukkBbc9G4VH"
   },
   "outputs": [
    {
     "data": {
      "text/html": [
       "<div>\n",
       "<style scoped>\n",
       "    .dataframe tbody tr th:only-of-type {\n",
       "        vertical-align: middle;\n",
       "    }\n",
       "\n",
       "    .dataframe tbody tr th {\n",
       "        vertical-align: top;\n",
       "    }\n",
       "\n",
       "    .dataframe thead th {\n",
       "        text-align: right;\n",
       "    }\n",
       "</style>\n",
       "<table border=\"1\" class=\"dataframe\">\n",
       "  <thead>\n",
       "    <tr style=\"text-align: right;\">\n",
       "      <th></th>\n",
       "      <th>TransactionID</th>\n",
       "      <th>isFraud</th>\n",
       "    </tr>\n",
       "  </thead>\n",
       "  <tbody>\n",
       "    <tr>\n",
       "      <td>0</td>\n",
       "      <td>2987000</td>\n",
       "      <td>0.002386</td>\n",
       "    </tr>\n",
       "    <tr>\n",
       "      <td>1</td>\n",
       "      <td>2987001</td>\n",
       "      <td>0.002127</td>\n",
       "    </tr>\n",
       "    <tr>\n",
       "      <td>2</td>\n",
       "      <td>2987002</td>\n",
       "      <td>0.000660</td>\n",
       "    </tr>\n",
       "    <tr>\n",
       "      <td>3</td>\n",
       "      <td>2987003</td>\n",
       "      <td>0.002040</td>\n",
       "    </tr>\n",
       "    <tr>\n",
       "      <td>4</td>\n",
       "      <td>2987004</td>\n",
       "      <td>0.003348</td>\n",
       "    </tr>\n",
       "  </tbody>\n",
       "</table>\n",
       "</div>"
      ],
      "text/plain": [
       "   TransactionID   isFraud\n",
       "0        2987000  0.002386\n",
       "1        2987001  0.002127\n",
       "2        2987002  0.000660\n",
       "3        2987003  0.002040\n",
       "4        2987004  0.003348"
      ]
     },
     "execution_count": 14,
     "metadata": {},
     "output_type": "execute_result"
    }
   ],
   "source": [
    "# export OOF preds\n",
    "oof = pd.DataFrame({'TransactionID': full_train['TransactionID'], 'isFraud': preds_oof})\n",
    "oof.to_csv('../oof_preds/' + str(name) + '.csv', index = False)\n",
    "oof.head()"
   ]
  },
  {
   "cell_type": "code",
   "execution_count": 15,
   "metadata": {
    "colab": {},
    "colab_type": "code",
    "id": "gukkBbc9G4VH"
   },
   "outputs": [
    {
     "data": {
      "text/html": [
       "<div>\n",
       "<style scoped>\n",
       "    .dataframe tbody tr th:only-of-type {\n",
       "        vertical-align: middle;\n",
       "    }\n",
       "\n",
       "    .dataframe tbody tr th {\n",
       "        vertical-align: top;\n",
       "    }\n",
       "\n",
       "    .dataframe thead th {\n",
       "        text-align: right;\n",
       "    }\n",
       "</style>\n",
       "<table border=\"1\" class=\"dataframe\">\n",
       "  <thead>\n",
       "    <tr style=\"text-align: right;\">\n",
       "      <th></th>\n",
       "      <th>TransactionID</th>\n",
       "      <th>isFraud</th>\n",
       "    </tr>\n",
       "  </thead>\n",
       "  <tbody>\n",
       "    <tr>\n",
       "      <td>0</td>\n",
       "      <td>3663549</td>\n",
       "      <td>0.000572</td>\n",
       "    </tr>\n",
       "    <tr>\n",
       "      <td>1</td>\n",
       "      <td>3663550</td>\n",
       "      <td>0.001974</td>\n",
       "    </tr>\n",
       "    <tr>\n",
       "      <td>2</td>\n",
       "      <td>3663551</td>\n",
       "      <td>0.001103</td>\n",
       "    </tr>\n",
       "    <tr>\n",
       "      <td>3</td>\n",
       "      <td>3663552</td>\n",
       "      <td>0.000601</td>\n",
       "    </tr>\n",
       "    <tr>\n",
       "      <td>4</td>\n",
       "      <td>3663553</td>\n",
       "      <td>0.001373</td>\n",
       "    </tr>\n",
       "  </tbody>\n",
       "</table>\n",
       "</div>"
      ],
      "text/plain": [
       "   TransactionID   isFraud\n",
       "0        3663549  0.000572\n",
       "1        3663550  0.001974\n",
       "2        3663551  0.001103\n",
       "3        3663552  0.000601\n",
       "4        3663553  0.001373"
      ]
     },
     "execution_count": 15,
     "metadata": {},
     "output_type": "execute_result"
    }
   ],
   "source": [
    "# export submission\n",
    "sub = pd.DataFrame({'TransactionID': full_test['TransactionID'], 'isFraud': preds_test})\n",
    "sub.to_csv('../submissions/' + str(name) + '.csv', index = False)\n",
    "sub.head()"
   ]
  },
  {
   "cell_type": "raw",
   "metadata": {
    "colab_type": "text",
    "id": "OnYbk3yBG4Uz"
   },
   "source": [
    "# CROSS-VALIDATION WITH ALL PRODUCTS"
   ]
  },
  {
   "cell_type": "raw",
   "metadata": {},
   "source": [
    "############ SELECT TOP FEAUTERS\n",
    "\n",
    "features = ['DT_M', 'ProductCD']\n",
    "print(train[features].shape)"
   ]
  },
  {
   "cell_type": "raw",
   "metadata": {
    "colab": {
     "base_uri": "https://localhost:8080/",
     "height": 918
    },
    "colab_type": "code",
    "executionInfo": {
     "elapsed": 52906,
     "status": "ok",
     "timestamp": 1557933151848,
     "user": {
      "displayName": "Elizaveta",
      "photoUrl": "https://lh3.googleusercontent.com/-3-3kSLC4Mzw/AAAAAAAAAAI/AAAAAAAAABg/Usb9K3n3cRI/s64/photo.jpg",
      "userId": "01253993997636551956"
     },
     "user_tz": -120
    },
    "id": "XdVpCrqxG4U0",
    "outputId": "d2b165a7-c56b-44c0-b62b-466147db5e22"
   },
   "source": [
    "############ CROSS-VALIDATION LOOP\n",
    "cv_start  = time.time()\n",
    "for n_fold, (trn_idx, val_idx) in enumerate(folds.split(train, y, groups = train['DT_M'])):\n",
    "    \n",
    "    # data partitioning\n",
    "    trn_x, trn_y = train[features].iloc[trn_idx], y.iloc[trn_idx]\n",
    "    val_x, val_y = train[features].iloc[val_idx], y.iloc[val_idx]\n",
    "    test_x       = test[features]\n",
    "    \n",
    "    # label encoding\n",
    "    trn_x, val_x, test_x = label_encoding(trn_x, val_x, test_x)\n",
    "    \n",
    "    ## remove outliers\n",
    "    #out_idx = (np.abs(scipy.stats.zscore(trn_x)) < 10).all(axis = 1)\n",
    "    #trn_x = trn_x[out_idx]\n",
    "    #trn_y = trn_y[out_idx]\n",
    "    \n",
    "    ## scale data\n",
    "    #scaler   = RobustScaler()\n",
    "    #trn_x    = pd.DataFrame(scaler.fit_transform(trn_x), columns = features)\n",
    "    #val_x    = pd.DataFrame(scaler.transform(val_x),     columns = features)\n",
    "    #tmp_test = pd.DataFrame(scaler.transform(test_x),    columns = features)\n",
    "\n",
    "    ## augment training data with SMOTE\n",
    "    #trn_x, trn_y = sm.fit_sample(trn_x, trn_y)\n",
    "    #trn_x = pd.DataFrame(trn_x, columns = features)\n",
    "    #trn_y = pd.Series(trn_y)\n",
    "       \n",
    "    ## add noise to train to reduce overfitting\n",
    "    #trn_x += np.random.normal(0, 0.01, trn_x.shape)\n",
    "    \n",
    "    # print data dimensions\n",
    "    print('Data shape:', trn_x.shape, val_x.shape)\n",
    "        \n",
    "    # train lightGBM\n",
    "    clf = lgb.LGBMClassifier(**lgb_params) \n",
    "    clf = clf.fit(trn_x, trn_y, \n",
    "                  eval_set              = [(trn_x, trn_y), (val_x, val_y)], \n",
    "                  eval_metric           = 'auc', \n",
    "                  early_stopping_rounds = stopping,\n",
    "                  verbose               = verbose)\n",
    "    clfs.append(clf)\n",
    "    \n",
    "    # find the best iteration\n",
    "    best_iter = clf.best_iteration_\n",
    "\n",
    "    # save predictions\n",
    "    preds_oof[val_idx] = clf.predict_proba(val_x,  num_iteration = best_iter)[:, 1]\n",
    "    preds_test        += clf.predict_proba(test_x, num_iteration = best_iter)[:, 1] / folds.n_splits \n",
    "\n",
    "    # importance\n",
    "    fold_importance_df               = pd.DataFrame()\n",
    "    fold_importance_df['Feature']    = features\n",
    "    fold_importance_df['Importance'] = clf.feature_importances_\n",
    "    fold_importance_df['Fold']       = n_fold + 1\n",
    "    importances                      = pd.concat([importances, fold_importance_df], axis = 0)\n",
    "    \n",
    "    # print performance\n",
    "    print('--------------------------------')\n",
    "    print('FOLD%2d: AUC = %.6f' % (n_fold + 1, roc_auc_score(y[val_idx], preds_oof[val_idx])))\n",
    "    print('--------------------------------')\n",
    "    print('')\n",
    "        \n",
    "    # clear memory\n",
    "    del trn_x, trn_y, val_x, val_y\n",
    "    gc.collect()\n",
    "    \n",
    "    \n",
    "# print overall performance    \n",
    "cv_perf = roc_auc_score(y, preds_oof)\n",
    "print('--------------------------------')\n",
    "print('- OOF AUC = %.6f' % cv_perf)\n",
    "print('- CV TIME = {:.2f} min'.format((time.time() - cv_start) / 60))\n",
    "print('--------------------------------')"
   ]
  },
  {
   "cell_type": "raw",
   "metadata": {
    "colab_type": "text",
    "id": "2dsi_jeGG4VE"
   },
   "source": [
    "# SUBMISSION"
   ]
  },
  {
   "cell_type": "raw",
   "metadata": {
    "colab": {},
    "colab_type": "code",
    "id": "_Tt_FxCwG4VF"
   },
   "source": [
    "# file name\n",
    "model = 'lgb_v3p'\n",
    "perf  = str(round(cv_perf, 6))[2:7]\n",
    "name  = model + '_' + perf\n",
    "name"
   ]
  },
  {
   "cell_type": "raw",
   "metadata": {
    "colab": {},
    "colab_type": "code",
    "id": "gukkBbc9G4VH"
   },
   "source": [
    "# export OOF preds\n",
    "oof = pd.DataFrame({'TransactionID': full_train['TransactionID'], 'isFraud': preds_oof})\n",
    "oof.to_csv('../oof_preds/' + str(name) + '.csv', index = False)\n",
    "oof.head()"
   ]
  },
  {
   "cell_type": "raw",
   "metadata": {
    "colab": {},
    "colab_type": "code",
    "id": "gukkBbc9G4VH"
   },
   "source": [
    "# export submission\n",
    "sub = pd.DataFrame({'TransactionID': full_test['TransactionID'], 'isFraud': preds_test})\n",
    "sub.to_csv('../submissions/' + str(name) + '.csv', index = False)\n",
    "sub.head()"
   ]
  }
 ],
 "metadata": {
  "colab": {
   "collapsed_sections": [],
   "name": "code_2_lgb_main.ipynb",
   "provenance": [],
   "version": "0.3.2"
  },
  "kernelspec": {
   "display_name": "Python 3",
   "language": "python",
   "name": "python3"
  },
  "language_info": {
   "codemirror_mode": {
    "name": "ipython",
    "version": 3
   },
   "file_extension": ".py",
   "mimetype": "text/x-python",
   "name": "python",
   "nbconvert_exporter": "python",
   "pygments_lexer": "ipython3",
   "version": "3.7.1"
  }
 },
 "nbformat": 4,
 "nbformat_minor": 4
}
