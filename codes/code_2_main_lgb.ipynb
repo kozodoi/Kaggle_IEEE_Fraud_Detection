{
 "cells": [
  {
   "cell_type": "markdown",
   "metadata": {
    "colab_type": "text",
    "id": "rDg2hoRrG4UL"
   },
   "source": [
    "# SETTINGS"
   ]
  },
  {
   "cell_type": "code",
   "execution_count": 10,
   "metadata": {
    "colab": {},
    "colab_type": "code",
    "id": "2QpPWtHZG4UM"
   },
   "outputs": [],
   "source": [
    "############ LIBRARIES\n",
    "\n",
    "import numpy as np\n",
    "import pandas as pd\n",
    "pd.set_option('display.max_columns', None)\n",
    "\n",
    "import matplotlib.pyplot as plt\n",
    "import seaborn as sns\n",
    "plt.style.use('dark_background')\n",
    "%matplotlib inline\n",
    "\n",
    "import os\n",
    "import time\n",
    "import random\n",
    "import multiprocessing\n",
    "import pickle\n",
    "\n",
    "import scipy.stats\n",
    "\n",
    "import gc\n",
    "gc.enable()\n",
    "\n",
    "import warnings\n",
    "warnings.filterwarnings('ignore')\n",
    "\n",
    "import lightgbm as lgb\n",
    "\n",
    "from sklearn.model_selection import KFold, StratifiedKFold, GroupKFold\n",
    "from sklearn.preprocessing import RobustScaler, LabelEncoder\n",
    "from sklearn.decomposition import PCA, FastICA, FactorAnalysis\n",
    "from sklearn.metrics import log_loss, roc_auc_score, confusion_matrix\n",
    "from sklearn.neighbors import NearestNeighbors"
   ]
  },
  {
   "cell_type": "code",
   "execution_count": 11,
   "metadata": {},
   "outputs": [],
   "source": [
    "############ HELPER FUNCTIONS\n",
    "\n",
    "import functions\n",
    "import importlib\n",
    "importlib.reload(functions)\n",
    "from functions import *"
   ]
  },
  {
   "cell_type": "code",
   "execution_count": 12,
   "metadata": {},
   "outputs": [],
   "source": [
    "############ RANDOMNESS\n",
    "\n",
    "# seed function\n",
    "def seed_everything(seed = 23):\n",
    "    os.environ['PYTHONHASHSEED'] = str(seed)\n",
    "    random.seed(seed)\n",
    "    np.random.seed(seed)\n",
    "    \n",
    "# set seed\n",
    "seed = 23\n",
    "seed_everything(seed)"
   ]
  },
  {
   "cell_type": "markdown",
   "metadata": {
    "colab_type": "text",
    "id": "NraN1BCPG4Uc"
   },
   "source": [
    "# DATA PREPARATION"
   ]
  },
  {
   "cell_type": "code",
   "execution_count": 13,
   "metadata": {
    "colab": {
     "base_uri": "https://localhost:8080/",
     "height": 34
    },
    "colab_type": "code",
    "executionInfo": {
     "elapsed": 1771,
     "status": "ok",
     "timestamp": 1557933093757,
     "user": {
      "displayName": "Elizaveta",
      "photoUrl": "https://lh3.googleusercontent.com/-3-3kSLC4Mzw/AAAAAAAAAAI/AAAAAAAAABg/Usb9K3n3cRI/s64/photo.jpg",
      "userId": "01253993997636551956"
     },
     "user_tz": -120
    },
    "id": "7QV5eQHHG4Ud",
    "outputId": "2389881e-8c0a-4518-c185-d0a84d1d4a67"
   },
   "outputs": [
    {
     "name": "stdout",
     "output_type": "stream",
     "text": [
      "(1097231, 447)\n"
     ]
    }
   ],
   "source": [
    "# import CSV\n",
    "#df = pd.read_csv('../input/data_v1.csv.gz', compression = 'gzip')\n",
    "df = pd.read_pickle('../input/data_v1.pkl')\n",
    "print(df.shape)"
   ]
  },
  {
   "cell_type": "code",
   "execution_count": 14,
   "metadata": {
    "colab": {},
    "colab_type": "code",
    "id": "qfsTSMBAG4Uf"
   },
   "outputs": [],
   "source": [
    "# target variable\n",
    "target = 'isFraud'"
   ]
  },
  {
   "cell_type": "code",
   "execution_count": 15,
   "metadata": {
    "colab": {
     "base_uri": "https://localhost:8080/",
     "height": 51
    },
    "colab_type": "code",
    "executionInfo": {
     "elapsed": 1334,
     "status": "ok",
     "timestamp": 1557933093762,
     "user": {
      "displayName": "Elizaveta",
      "photoUrl": "https://lh3.googleusercontent.com/-3-3kSLC4Mzw/AAAAAAAAAAI/AAAAAAAAABg/Usb9K3n3cRI/s64/photo.jpg",
      "userId": "01253993997636551956"
     },
     "user_tz": -120
    },
    "id": "hxJatDSBG4Uh",
    "outputId": "9b7dd4d7-fbf6-493b-d23c-25fdbf58ee37"
   },
   "outputs": [
    {
     "name": "stdout",
     "output_type": "stream",
     "text": [
      "(590540, 447)\n",
      "(506691, 447)\n"
     ]
    }
   ],
   "source": [
    "# partitioning\n",
    "train = df[df[target].isnull() == False]\n",
    "test  = df[df[target].isnull() == True]\n",
    "print(train.shape)\n",
    "print(test.shape)\n",
    "del df"
   ]
  },
  {
   "cell_type": "code",
   "execution_count": 16,
   "metadata": {
    "colab": {},
    "colab_type": "code",
    "id": "vMbdrUNnG4Uk"
   },
   "outputs": [],
   "source": [
    "# extract target\n",
    "y = train[target]\n",
    "del train[target], test[target]"
   ]
  },
  {
   "cell_type": "markdown",
   "metadata": {
    "colab_type": "text",
    "id": "nPX4ljoNG4Un"
   },
   "source": [
    "# MODELING"
   ]
  },
  {
   "cell_type": "markdown",
   "metadata": {
    "colab_type": "text",
    "id": "B69Fdhg0G4Uo"
   },
   "source": [
    "### PARAMETERS"
   ]
  },
  {
   "cell_type": "code",
   "execution_count": 17,
   "metadata": {
    "colab": {
     "base_uri": "https://localhost:8080/",
     "height": 34
    },
    "colab_type": "code",
    "executionInfo": {
     "elapsed": 648,
     "status": "ok",
     "timestamp": 1557933094450,
     "user": {
      "displayName": "Elizaveta",
      "photoUrl": "https://lh3.googleusercontent.com/-3-3kSLC4Mzw/AAAAAAAAAAI/AAAAAAAAABg/Usb9K3n3cRI/s64/photo.jpg",
      "userId": "01253993997636551956"
     },
     "user_tz": -120
    },
    "id": "eWm2I0jDG4Uo",
    "outputId": "89ecbd36-3fac-47aa-dc7f-5b04b4d6081a"
   },
   "outputs": [
    {
     "name": "stdout",
     "output_type": "stream",
     "text": [
      "(590540, 434)\n"
     ]
    }
   ],
   "source": [
    "############ FEAUTERS\n",
    "\n",
    "# drop bad features\n",
    "excluded_feats = ['TransactionID', 'TransactionDT',\n",
    "    'uid','uid2','uid3',                                 \n",
    "    'DT', 'DT_H', 'DT_D', 'DT_DW', 'DT_DY', 'DT_W', 'DT_M', \n",
    "    'DT_D_total','DT_W_total','DT_M_total',\n",
    "    'id_30','id_31','id_33']\n",
    "features = [f for f in train.columns if f not in excluded_feats]\n",
    "print(train[features].shape)"
   ]
  },
  {
   "cell_type": "code",
   "execution_count": 18,
   "metadata": {
    "colab": {},
    "colab_type": "code",
    "id": "ynozDG6yivwQ"
   },
   "outputs": [],
   "source": [
    "############ PARAMETERS\n",
    "\n",
    "# cores\n",
    "cores = 20\n",
    "\n",
    "# cross-validation\n",
    "num_folds = 5\n",
    "shuffle   = True\n",
    "\n",
    "# number of trees\n",
    "max_rounds = 5000\n",
    "stopping   = 200\n",
    "verbose    = 200\n",
    "\n",
    "# LGB parameters\n",
    "lgb_params = {\n",
    "    'boosting_type':     'gbdt',\n",
    "    'objective':         'binary',\n",
    "    'metric':            'auc',\n",
    "    'bagging_fraction':  0.9,\n",
    "    'feature_fraction':  0.9,\n",
    "    'lambda_l1':         0.1,\n",
    "    'lambda_l2':         0.1,\n",
    "    'min_split_gain':    0,\n",
    "    'min_child_weight':  0.1,\n",
    "    'min_child_samples': 20,\n",
    "    'silent':            True,\n",
    "    'verbosity':         -1,\n",
    "    'learning_rate':     0.1,\n",
    "    'max_depth':         5,\n",
    "    'num_leaves':        50,\n",
    "    'scale_pos_weight':  1,\n",
    "    'n_estimators':      max_rounds,\n",
    "    'nthread' :          cores,\n",
    "    'random_state':      seed,\n",
    "}\n",
    "\n",
    "# data partitinoing\n",
    "#folds = StratifiedKFold(n_splits = num_folds, random_state = seed, shuffle = shuffle)\n",
    "folds = GroupKFold(n_splits = num_folds)\n",
    "\n",
    "# SMOTE settings\n",
    "#from imblearn.over_sampling import SMOTE\n",
    "#sm = SMOTE(random_state = seed, n_jobs = cores, sampling_strategy = 0.1)"
   ]
  },
  {
   "cell_type": "code",
   "execution_count": 19,
   "metadata": {
    "colab": {},
    "colab_type": "code",
    "id": "9usATBLbG4Uv"
   },
   "outputs": [],
   "source": [
    "############ PLACEHOLDERS\n",
    "\n",
    "# placeholders\n",
    "clfs = []\n",
    "importances = pd.DataFrame()\n",
    "\n",
    "# predictions\n",
    "preds_test   = np.zeros(test.shape[0])\n",
    "preds_oof    = np.zeros(train.shape[0])"
   ]
  },
  {
   "cell_type": "markdown",
   "metadata": {
    "colab_type": "text",
    "id": "OnYbk3yBG4Uz"
   },
   "source": [
    "### CROSS-VALIDATION"
   ]
  },
  {
   "cell_type": "code",
   "execution_count": 20,
   "metadata": {
    "colab": {
     "base_uri": "https://localhost:8080/",
     "height": 918
    },
    "colab_type": "code",
    "executionInfo": {
     "elapsed": 52906,
     "status": "ok",
     "timestamp": 1557933151848,
     "user": {
      "displayName": "Elizaveta",
      "photoUrl": "https://lh3.googleusercontent.com/-3-3kSLC4Mzw/AAAAAAAAAAI/AAAAAAAAABg/Usb9K3n3cRI/s64/photo.jpg",
      "userId": "01253993997636551956"
     },
     "user_tz": -120
    },
    "id": "XdVpCrqxG4U0",
    "outputId": "d2b165a7-c56b-44c0-b62b-466147db5e22"
   },
   "outputs": [
    {
     "name": "stdout",
     "output_type": "stream",
     "text": [
      "Training until validation scores don't improve for 200 rounds.\n",
      "[200]\ttraining's auc: 0.938702\tvalid_1's auc: 0.927036\n",
      "[400]\ttraining's auc: 0.955792\tvalid_1's auc: 0.939315\n",
      "[600]\ttraining's auc: 0.965832\tvalid_1's auc: 0.946904\n",
      "[800]\ttraining's auc: 0.972818\tvalid_1's auc: 0.952379\n",
      "[1000]\ttraining's auc: 0.978153\tvalid_1's auc: 0.956263\n",
      "[1200]\ttraining's auc: 0.982004\tvalid_1's auc: 0.958891\n",
      "[1400]\ttraining's auc: 0.985054\tvalid_1's auc: 0.961164\n",
      "[1600]\ttraining's auc: 0.987798\tvalid_1's auc: 0.963026\n",
      "[1800]\ttraining's auc: 0.99005\tvalid_1's auc: 0.964855\n",
      "[2000]\ttraining's auc: 0.991702\tvalid_1's auc: 0.966069\n",
      "[2200]\ttraining's auc: 0.992909\tvalid_1's auc: 0.967181\n",
      "[2400]\ttraining's auc: 0.99391\tvalid_1's auc: 0.967718\n",
      "[2600]\ttraining's auc: 0.994679\tvalid_1's auc: 0.968114\n",
      "[2800]\ttraining's auc: 0.995516\tvalid_1's auc: 0.968557\n",
      "[3000]\ttraining's auc: 0.99615\tvalid_1's auc: 0.968897\n",
      "[3200]\ttraining's auc: 0.996658\tvalid_1's auc: 0.969192\n",
      "[3400]\ttraining's auc: 0.997069\tvalid_1's auc: 0.969486\n",
      "[3600]\ttraining's auc: 0.997423\tvalid_1's auc: 0.969708\n",
      "[3800]\ttraining's auc: 0.99783\tvalid_1's auc: 0.969929\n",
      "[4000]\ttraining's auc: 0.998132\tvalid_1's auc: 0.97017\n",
      "[4200]\ttraining's auc: 0.998382\tvalid_1's auc: 0.970212\n",
      "[4400]\ttraining's auc: 0.998653\tvalid_1's auc: 0.970361\n",
      "[4600]\ttraining's auc: 0.998853\tvalid_1's auc: 0.970363\n",
      "Early stopping, best iteration is:\n",
      "[4425]\ttraining's auc: 0.998686\tvalid_1's auc: 0.970401\n",
      "--------------------------------\n",
      "FOLD 1: AUC = 0.970401\n",
      "--------------------------------\n",
      "\n",
      "Training until validation scores don't improve for 200 rounds.\n",
      "[200]\ttraining's auc: 0.937522\tvalid_1's auc: 0.925803\n",
      "[400]\ttraining's auc: 0.954691\tvalid_1's auc: 0.938376\n",
      "[600]\ttraining's auc: 0.964911\tvalid_1's auc: 0.945483\n",
      "[800]\ttraining's auc: 0.972556\tvalid_1's auc: 0.950688\n",
      "[1000]\ttraining's auc: 0.978144\tvalid_1's auc: 0.95412\n",
      "[1200]\ttraining's auc: 0.982647\tvalid_1's auc: 0.957414\n",
      "[1400]\ttraining's auc: 0.985559\tvalid_1's auc: 0.959014\n",
      "[1600]\ttraining's auc: 0.988215\tvalid_1's auc: 0.960553\n",
      "[1800]\ttraining's auc: 0.990228\tvalid_1's auc: 0.962019\n",
      "[2000]\ttraining's auc: 0.991795\tvalid_1's auc: 0.963414\n",
      "[2200]\ttraining's auc: 0.993157\tvalid_1's auc: 0.964261\n",
      "[2400]\ttraining's auc: 0.994242\tvalid_1's auc: 0.965264\n",
      "[2600]\ttraining's auc: 0.995088\tvalid_1's auc: 0.965871\n",
      "[2800]\ttraining's auc: 0.995895\tvalid_1's auc: 0.966636\n",
      "[3000]\ttraining's auc: 0.996439\tvalid_1's auc: 0.966928\n",
      "[3200]\ttraining's auc: 0.996863\tvalid_1's auc: 0.967019\n",
      "[3400]\ttraining's auc: 0.997328\tvalid_1's auc: 0.967116\n",
      "[3600]\ttraining's auc: 0.997713\tvalid_1's auc: 0.967534\n",
      "[3800]\ttraining's auc: 0.998099\tvalid_1's auc: 0.967767\n",
      "[4000]\ttraining's auc: 0.998308\tvalid_1's auc: 0.967588\n",
      "Early stopping, best iteration is:\n",
      "[3919]\ttraining's auc: 0.998225\tvalid_1's auc: 0.967782\n",
      "--------------------------------\n",
      "FOLD 2: AUC = 0.967782\n",
      "--------------------------------\n",
      "\n",
      "Training until validation scores don't improve for 200 rounds.\n",
      "[200]\ttraining's auc: 0.936877\tvalid_1's auc: 0.925862\n",
      "[400]\ttraining's auc: 0.953796\tvalid_1's auc: 0.939804\n",
      "[600]\ttraining's auc: 0.964505\tvalid_1's auc: 0.948164\n",
      "[800]\ttraining's auc: 0.971583\tvalid_1's auc: 0.953038\n",
      "[1000]\ttraining's auc: 0.978051\tvalid_1's auc: 0.95694\n",
      "[1200]\ttraining's auc: 0.982219\tvalid_1's auc: 0.9598\n",
      "[1400]\ttraining's auc: 0.98537\tvalid_1's auc: 0.96179\n",
      "[1600]\ttraining's auc: 0.987999\tvalid_1's auc: 0.963957\n",
      "[1800]\ttraining's auc: 0.98993\tvalid_1's auc: 0.965162\n",
      "[2000]\ttraining's auc: 0.991592\tvalid_1's auc: 0.966386\n",
      "[2200]\ttraining's auc: 0.993022\tvalid_1's auc: 0.967038\n",
      "[2400]\ttraining's auc: 0.994097\tvalid_1's auc: 0.967871\n",
      "[2600]\ttraining's auc: 0.994864\tvalid_1's auc: 0.968378\n",
      "[2800]\ttraining's auc: 0.99554\tvalid_1's auc: 0.968855\n",
      "[3000]\ttraining's auc: 0.996139\tvalid_1's auc: 0.969302\n",
      "[3200]\ttraining's auc: 0.996677\tvalid_1's auc: 0.969738\n",
      "[3400]\ttraining's auc: 0.997137\tvalid_1's auc: 0.969868\n",
      "[3600]\ttraining's auc: 0.997511\tvalid_1's auc: 0.969918\n",
      "[3800]\ttraining's auc: 0.99783\tvalid_1's auc: 0.970126\n",
      "[4000]\ttraining's auc: 0.998179\tvalid_1's auc: 0.970226\n",
      "[4200]\ttraining's auc: 0.998484\tvalid_1's auc: 0.970604\n",
      "[4400]\ttraining's auc: 0.998724\tvalid_1's auc: 0.970707\n",
      "[4600]\ttraining's auc: 0.998872\tvalid_1's auc: 0.970708\n",
      "Early stopping, best iteration is:\n",
      "[4567]\ttraining's auc: 0.998844\tvalid_1's auc: 0.970734\n",
      "--------------------------------\n",
      "FOLD 3: AUC = 0.970734\n",
      "--------------------------------\n",
      "\n",
      "Training until validation scores don't improve for 200 rounds.\n",
      "[200]\ttraining's auc: 0.938486\tvalid_1's auc: 0.920385\n",
      "[400]\ttraining's auc: 0.954376\tvalid_1's auc: 0.933178\n",
      "[600]\ttraining's auc: 0.964922\tvalid_1's auc: 0.940905\n",
      "[800]\ttraining's auc: 0.972987\tvalid_1's auc: 0.947667\n",
      "[1000]\ttraining's auc: 0.978544\tvalid_1's auc: 0.951806\n",
      "[1200]\ttraining's auc: 0.982443\tvalid_1's auc: 0.954672\n",
      "[1400]\ttraining's auc: 0.985473\tvalid_1's auc: 0.956662\n",
      "[1600]\ttraining's auc: 0.988062\tvalid_1's auc: 0.958168\n",
      "[1800]\ttraining's auc: 0.990042\tvalid_1's auc: 0.959505\n",
      "[2000]\ttraining's auc: 0.991753\tvalid_1's auc: 0.960621\n",
      "[2200]\ttraining's auc: 0.993113\tvalid_1's auc: 0.961905\n",
      "[2400]\ttraining's auc: 0.994227\tvalid_1's auc: 0.962715\n",
      "[2600]\ttraining's auc: 0.995031\tvalid_1's auc: 0.963504\n",
      "[2800]\ttraining's auc: 0.995861\tvalid_1's auc: 0.964267\n",
      "[3000]\ttraining's auc: 0.996451\tvalid_1's auc: 0.96481\n",
      "[3200]\ttraining's auc: 0.996911\tvalid_1's auc: 0.965075\n",
      "[3400]\ttraining's auc: 0.997353\tvalid_1's auc: 0.965465\n",
      "[3600]\ttraining's auc: 0.9977\tvalid_1's auc: 0.965678\n",
      "[3800]\ttraining's auc: 0.998066\tvalid_1's auc: 0.965678\n",
      "[4000]\ttraining's auc: 0.998337\tvalid_1's auc: 0.965808\n",
      "[4200]\ttraining's auc: 0.998563\tvalid_1's auc: 0.965936\n",
      "[4400]\ttraining's auc: 0.998755\tvalid_1's auc: 0.966037\n",
      "Early stopping, best iteration is:\n",
      "[4281]\ttraining's auc: 0.998665\tvalid_1's auc: 0.96614\n",
      "--------------------------------\n",
      "FOLD 4: AUC = 0.966140\n",
      "--------------------------------\n",
      "\n",
      "Training until validation scores don't improve for 200 rounds.\n",
      "[200]\ttraining's auc: 0.935488\tvalid_1's auc: 0.927444\n",
      "[400]\ttraining's auc: 0.954104\tvalid_1's auc: 0.941913\n",
      "[600]\ttraining's auc: 0.964973\tvalid_1's auc: 0.949626\n",
      "[800]\ttraining's auc: 0.972026\tvalid_1's auc: 0.954035\n",
      "[1000]\ttraining's auc: 0.978015\tvalid_1's auc: 0.958145\n",
      "[1200]\ttraining's auc: 0.981876\tvalid_1's auc: 0.960477\n",
      "[1400]\ttraining's auc: 0.985111\tvalid_1's auc: 0.962393\n",
      "[1600]\ttraining's auc: 0.988093\tvalid_1's auc: 0.964135\n",
      "[1800]\ttraining's auc: 0.989912\tvalid_1's auc: 0.965315\n",
      "[2000]\ttraining's auc: 0.99152\tvalid_1's auc: 0.966364\n",
      "[2200]\ttraining's auc: 0.993071\tvalid_1's auc: 0.967629\n",
      "[2400]\ttraining's auc: 0.994097\tvalid_1's auc: 0.968225\n",
      "[2600]\ttraining's auc: 0.995091\tvalid_1's auc: 0.968749\n",
      "[2800]\ttraining's auc: 0.99575\tvalid_1's auc: 0.969298\n",
      "[3000]\ttraining's auc: 0.996337\tvalid_1's auc: 0.96985\n",
      "[3200]\ttraining's auc: 0.996826\tvalid_1's auc: 0.969936\n",
      "[3400]\ttraining's auc: 0.997298\tvalid_1's auc: 0.96998\n",
      "[3600]\ttraining's auc: 0.997659\tvalid_1's auc: 0.970132\n",
      "[3800]\ttraining's auc: 0.997969\tvalid_1's auc: 0.970254\n",
      "[4000]\ttraining's auc: 0.998298\tvalid_1's auc: 0.970311\n",
      "Early stopping, best iteration is:\n",
      "[3963]\ttraining's auc: 0.998249\tvalid_1's auc: 0.970367\n",
      "--------------------------------\n",
      "FOLD 5: AUC = 0.970367\n",
      "--------------------------------\n",
      "\n",
      "--------------------------------\n",
      "- OOF AUC = 0.969058\n",
      "- CV TIME = 49.51 min\n",
      "--------------------------------\n"
     ]
    }
   ],
   "source": [
    "############ CROSS-VALIDATION LOOP\n",
    "cv_start  = time.time()\n",
    "for n_fold, (trn_idx, val_idx) in enumerate(folds.split(train, y, groupts = train['DT_M'])):\n",
    "    \n",
    "    # data partitioning\n",
    "    trn_x, trn_y = train[features].iloc[trn_idx], y.iloc[trn_idx]\n",
    "    val_x, val_y = train[features].iloc[val_idx], y.iloc[val_idx]\n",
    "    test_x       = test[features]\n",
    "    \n",
    "    # label encoding\n",
    "    trn_x, val_x, test_x = label_encoding(trn_x, val_x, test_x)\n",
    "    \n",
    "    ## remove outliers\n",
    "    #out_idx = (np.abs(scipy.stats.zscore(trn_x)) < 10).all(axis = 1)\n",
    "    #trn_x = trn_x[out_idx]\n",
    "    #trn_y = trn_y[out_idx]\n",
    "    \n",
    "    ## scale data\n",
    "    #scaler   = RobustScaler()\n",
    "    #trn_x    = pd.DataFrame(scaler.fit_transform(trn_x), columns = features)\n",
    "    #val_x    = pd.DataFrame(scaler.transform(val_x),     columns = features)\n",
    "    #tmp_test = pd.DataFrame(scaler.transform(test_x),    columns = features)\n",
    "\n",
    "    ## augment training data with SMOTE\n",
    "    #trn_x, trn_y = sm.fit_sample(trn_x, trn_y)\n",
    "    #trn_x = pd.DataFrame(trn_x, columns = features)\n",
    "    #trn_y = pd.Series(trn_y)\n",
    "       \n",
    "    ## add noise to train to reduce overfitting\n",
    "    #trn_x += np.random.normal(0, 0.01, trn_x.shape)\n",
    "        \n",
    "    # train lightGBM\n",
    "    clf = lgb.LGBMClassifier(**lgb_params) \n",
    "    clf = clf.fit(trn_x, trn_y, \n",
    "                  eval_set              = [(trn_x, trn_y), (val_x, val_y)], \n",
    "                  eval_metric           = 'auc', \n",
    "                  early_stopping_rounds = stopping,\n",
    "                  verbose               = verbose)\n",
    "    clfs.append(clf)\n",
    "    \n",
    "    # find the best iteration\n",
    "    best_iter = clf.best_iteration_\n",
    "\n",
    "    # save predictions\n",
    "    preds_oof[val_idx] = clf.predict_proba(val_x,  num_iteration = best_iter)[:, 1]\n",
    "    preds_test        += clf.predict_proba(test_x, num_iteration = best_iter)[:, 1] / folds.n_splits \n",
    "\n",
    "    # importance\n",
    "    fold_importance_df               = pd.DataFrame()\n",
    "    fold_importance_df['Feature']    = features\n",
    "    fold_importance_df['Importance'] = clf.feature_importances_\n",
    "    fold_importance_df['Fold']       = n_fold + 1\n",
    "    importances                      = pd.concat([importances, fold_importance_df], axis = 0)\n",
    "    \n",
    "    # print performance\n",
    "    print('--------------------------------')\n",
    "    print('FOLD%2d: AUC = %.6f' % (n_fold + 1, roc_auc_score(y[val_idx], preds_oof[val_idx])))\n",
    "    print('--------------------------------')\n",
    "    print('')\n",
    "        \n",
    "    # clear memory\n",
    "    del trn_x, trn_y, val_x, val_y\n",
    "    gc.collect()\n",
    "    \n",
    "    \n",
    "# print overall performance    \n",
    "cv_perf = roc_auc_score(y, preds_oof)\n",
    "print('--------------------------------')\n",
    "print('- OOF AUC = %.6f' % cv_perf)\n",
    "print('- CV TIME = {:.2f} min'.format((time.time() - cv_start) / 60))\n",
    "print('--------------------------------')"
   ]
  },
  {
   "cell_type": "markdown",
   "metadata": {
    "colab_type": "text",
    "id": "OnYbk3yBG4Uz"
   },
   "source": [
    "### EVALUATION"
   ]
  },
  {
   "cell_type": "code",
   "execution_count": 21,
   "metadata": {
    "colab": {},
    "colab_type": "code",
    "id": "qRJGFSmyG4U3"
   },
   "outputs": [
    {
     "name": "stdout",
     "output_type": "stream",
     "text": [
      "0.969058\n"
     ]
    }
   ],
   "source": [
    "############ RECHECK PERFORMANCE  \n",
    "\n",
    "# check performance\n",
    "print(np.round(roc_auc_score(y, preds_oof), 6))\n",
    "\n",
    "\n",
    "############ RESULTS (5 folds, stratified, seed = 23)\n",
    "\n",
    "# v1: 0.969089 | 0.9184"
   ]
  },
  {
   "cell_type": "code",
   "execution_count": 22,
   "metadata": {
    "colab": {},
    "colab_type": "code",
    "id": "qYJPn6jmG4U6"
   },
   "outputs": [
    {
     "data": {
      "image/png": "[encoded data removed]",
      "text/plain": [
       "<Figure size 720x1080 with 1 Axes>"
      ]
     },
     "metadata": {
      "needs_background": "dark"
     },
     "output_type": "display_data"
    }
   ],
   "source": [
    "############ VARIABLE IMPORTANCE\n",
    "\n",
    "# load importance    \n",
    "top_feats = 100\n",
    "cols = importances[['Feature', 'Importance']].groupby('Feature').mean().sort_values(by = 'Importance', ascending = False)[0:top_feats].index\n",
    "importance = importances.loc[importances.Feature.isin(cols)]\n",
    "    \n",
    "# plot variable importance\n",
    "plt.figure(figsize = (10, 15))\n",
    "sns.barplot(x = 'Importance', y = 'Feature', data = importance.sort_values(by = 'Importance', ascending = False))\n",
    "plt.tight_layout()\n",
    "plt.savefig('../var_importance.pdf')"
   ]
  },
  {
   "cell_type": "code",
   "execution_count": 23,
   "metadata": {},
   "outputs": [
    {
     "data": {
      "image/png": "[encoded data removed]",
      "text/plain": [
       "<Figure size 720x288 with 2 Axes>"
      ]
     },
     "metadata": {
      "needs_background": "dark"
     },
     "output_type": "display_data"
    }
   ],
   "source": [
    "########## CONFUSION MATRIX\n",
    "\n",
    "# construct confusion matrx\n",
    "cm = confusion_matrix(y, np.round(preds_oof))\n",
    "cm = cm.astype('float') / cm.sum(axis = 1)[:, np.newaxis]\n",
    "\n",
    "# plot matrix\n",
    "fig, ax = plt.subplots(figsize = (10, 4))\n",
    "sns.heatmap(cm, cmap = 'Blues', annot = True, lw = 0.5)\n",
    "ax.set_xlabel('Prediction')\n",
    "ax.set_ylabel('Ground Truth')\n",
    "ax.set_aspect('equal')"
   ]
  },
  {
   "cell_type": "markdown",
   "metadata": {
    "colab_type": "text",
    "id": "2dsi_jeGG4VE"
   },
   "source": [
    "# SUBMISSION"
   ]
  },
  {
   "cell_type": "code",
   "execution_count": 24,
   "metadata": {
    "colab": {},
    "colab_type": "code",
    "id": "_Tt_FxCwG4VF"
   },
   "outputs": [
    {
     "data": {
      "text/plain": [
       "'lgb_v1_96905'"
      ]
     },
     "execution_count": 24,
     "metadata": {},
     "output_type": "execute_result"
    }
   ],
   "source": [
    "# file name\n",
    "model = 'lgb_v1'\n",
    "perf  = str(round(cv_perf, 6))[2:7]\n",
    "name  = model + '_' + perf\n",
    "name"
   ]
  },
  {
   "cell_type": "code",
   "execution_count": 25,
   "metadata": {
    "colab": {},
    "colab_type": "code",
    "id": "gukkBbc9G4VH"
   },
   "outputs": [
    {
     "data": {
      "text/html": [
       "<div>\n",
       "<style scoped>\n",
       "    .dataframe tbody tr th:only-of-type {\n",
       "        vertical-align: middle;\n",
       "    }\n",
       "\n",
       "    .dataframe tbody tr th {\n",
       "        vertical-align: top;\n",
       "    }\n",
       "\n",
       "    .dataframe thead th {\n",
       "        text-align: right;\n",
       "    }\n",
       "</style>\n",
       "<table border=\"1\" class=\"dataframe\">\n",
       "  <thead>\n",
       "    <tr style=\"text-align: right;\">\n",
       "      <th></th>\n",
       "      <th>TransactionID</th>\n",
       "      <th>isFraud</th>\n",
       "    </tr>\n",
       "  </thead>\n",
       "  <tbody>\n",
       "    <tr>\n",
       "      <td>0</td>\n",
       "      <td>2987000</td>\n",
       "      <td>0.057273</td>\n",
       "    </tr>\n",
       "    <tr>\n",
       "      <td>1</td>\n",
       "      <td>2987001</td>\n",
       "      <td>0.018788</td>\n",
       "    </tr>\n",
       "    <tr>\n",
       "      <td>2</td>\n",
       "      <td>2987002</td>\n",
       "      <td>0.010390</td>\n",
       "    </tr>\n",
       "    <tr>\n",
       "      <td>3</td>\n",
       "      <td>2987003</td>\n",
       "      <td>0.000003</td>\n",
       "    </tr>\n",
       "    <tr>\n",
       "      <td>4</td>\n",
       "      <td>2987004</td>\n",
       "      <td>0.000947</td>\n",
       "    </tr>\n",
       "  </tbody>\n",
       "</table>\n",
       "</div>"
      ],
      "text/plain": [
       "   TransactionID   isFraud\n",
       "0        2987000  0.057273\n",
       "1        2987001  0.018788\n",
       "2        2987002  0.010390\n",
       "3        2987003  0.000003\n",
       "4        2987004  0.000947"
      ]
     },
     "execution_count": 25,
     "metadata": {},
     "output_type": "execute_result"
    }
   ],
   "source": [
    "# export OOF preds\n",
    "oof = pd.DataFrame({'TransactionID': train['TransactionID'], 'isFraud': preds_oof})\n",
    "oof.to_csv('../oof_preds/' + str(name) + '.csv', index = False)\n",
    "oof.head()"
   ]
  },
  {
   "cell_type": "code",
   "execution_count": 26,
   "metadata": {
    "colab": {},
    "colab_type": "code",
    "id": "gukkBbc9G4VH"
   },
   "outputs": [
    {
     "data": {
      "text/html": [
       "<div>\n",
       "<style scoped>\n",
       "    .dataframe tbody tr th:only-of-type {\n",
       "        vertical-align: middle;\n",
       "    }\n",
       "\n",
       "    .dataframe tbody tr th {\n",
       "        vertical-align: top;\n",
       "    }\n",
       "\n",
       "    .dataframe thead th {\n",
       "        text-align: right;\n",
       "    }\n",
       "</style>\n",
       "<table border=\"1\" class=\"dataframe\">\n",
       "  <thead>\n",
       "    <tr style=\"text-align: right;\">\n",
       "      <th></th>\n",
       "      <th>TransactionID</th>\n",
       "      <th>isFraud</th>\n",
       "    </tr>\n",
       "  </thead>\n",
       "  <tbody>\n",
       "    <tr>\n",
       "      <td>590540</td>\n",
       "      <td>3663549</td>\n",
       "      <td>0.000176</td>\n",
       "    </tr>\n",
       "    <tr>\n",
       "      <td>590541</td>\n",
       "      <td>3663550</td>\n",
       "      <td>0.000007</td>\n",
       "    </tr>\n",
       "    <tr>\n",
       "      <td>590542</td>\n",
       "      <td>3663551</td>\n",
       "      <td>0.000012</td>\n",
       "    </tr>\n",
       "    <tr>\n",
       "      <td>590543</td>\n",
       "      <td>3663552</td>\n",
       "      <td>0.000024</td>\n",
       "    </tr>\n",
       "    <tr>\n",
       "      <td>590544</td>\n",
       "      <td>3663553</td>\n",
       "      <td>0.000126</td>\n",
       "    </tr>\n",
       "  </tbody>\n",
       "</table>\n",
       "</div>"
      ],
      "text/plain": [
       "        TransactionID   isFraud\n",
       "590540        3663549  0.000176\n",
       "590541        3663550  0.000007\n",
       "590542        3663551  0.000012\n",
       "590543        3663552  0.000024\n",
       "590544        3663553  0.000126"
      ]
     },
     "execution_count": 26,
     "metadata": {},
     "output_type": "execute_result"
    }
   ],
   "source": [
    "# export submission\n",
    "sub = pd.DataFrame({'TransactionID': test['TransactionID'], 'isFraud': preds_test})\n",
    "sub.to_csv('../submissions/' + str(name) + '.csv', index = False)\n",
    "sub.head()"
   ]
  }
 ],
 "metadata": {
  "colab": {
   "collapsed_sections": [],
   "name": "code_2_lgb_main.ipynb",
   "provenance": [],
   "version": "0.3.2"
  },
  "kernelspec": {
   "display_name": "Python 3",
   "language": "python",
   "name": "python3"
  },
  "language_info": {
   "codemirror_mode": {
    "name": "ipython",
    "version": 3
   },
   "file_extension": ".py",
   "mimetype": "text/x-python",
   "name": "python",
   "nbconvert_exporter": "python",
   "pygments_lexer": "ipython3",
   "version": "3.6.9"
  }
 },
 "nbformat": 4,
 "nbformat_minor": 4
}
