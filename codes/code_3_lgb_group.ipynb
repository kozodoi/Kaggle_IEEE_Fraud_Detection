{
 "cells": [
  {
   "cell_type": "markdown",
   "metadata": {
    "colab_type": "text",
    "id": "rDg2hoRrG4UL"
   },
   "source": [
    "# SETTINGS"
   ]
  },
  {
   "cell_type": "code",
   "execution_count": 1,
   "metadata": {
    "colab": {},
    "colab_type": "code",
    "id": "2QpPWtHZG4UM"
   },
   "outputs": [],
   "source": [
    "############ LIBRARIES\n",
    "\n",
    "import numpy as np\n",
    "import pandas as pd\n",
    "pd.set_option('display.max_columns', None)\n",
    "\n",
    "import matplotlib.pyplot as plt\n",
    "import seaborn as sns\n",
    "plt.style.use('dark_background')\n",
    "%matplotlib inline\n",
    "\n",
    "import os\n",
    "import time\n",
    "import random\n",
    "import multiprocessing\n",
    "import pickle\n",
    "\n",
    "import scipy.stats\n",
    "\n",
    "import gc\n",
    "gc.enable()\n",
    "\n",
    "import warnings\n",
    "warnings.filterwarnings('ignore')\n",
    "\n",
    "import lightgbm as lgb\n",
    "\n",
    "from sklearn.model_selection import KFold, StratifiedKFold, GroupKFold\n",
    "from sklearn.preprocessing import RobustScaler, LabelEncoder\n",
    "from sklearn.decomposition import PCA, FastICA, FactorAnalysis\n",
    "from sklearn.metrics import log_loss, roc_auc_score, confusion_matrix\n",
    "from sklearn.neighbors import NearestNeighbors"
   ]
  },
  {
   "cell_type": "code",
   "execution_count": 2,
   "metadata": {},
   "outputs": [],
   "source": [
    "############ HELPER FUNCTIONS\n",
    "\n",
    "import functions\n",
    "import importlib\n",
    "importlib.reload(functions)\n",
    "from functions import *"
   ]
  },
  {
   "cell_type": "code",
   "execution_count": 3,
   "metadata": {},
   "outputs": [],
   "source": [
    "############ RANDOMNESS\n",
    "\n",
    "# seed function\n",
    "def seed_everything(seed = 23):\n",
    "    os.environ['PYTHONHASHSEED'] = str(seed)\n",
    "    random.seed(seed)\n",
    "    np.random.seed(seed)\n",
    "    \n",
    "# set seed\n",
    "seed = 23\n",
    "seed_everything(seed)"
   ]
  },
  {
   "cell_type": "markdown",
   "metadata": {
    "colab_type": "text",
    "id": "NraN1BCPG4Uc"
   },
   "source": [
    "# DATA PREPARATION"
   ]
  },
  {
   "cell_type": "code",
   "execution_count": 4,
   "metadata": {
    "colab": {
     "base_uri": "https://localhost:8080/",
     "height": 34
    },
    "colab_type": "code",
    "executionInfo": {
     "elapsed": 1771,
     "status": "ok",
     "timestamp": 1557933093757,
     "user": {
      "displayName": "Elizaveta",
      "photoUrl": "https://lh3.googleusercontent.com/-3-3kSLC4Mzw/AAAAAAAAAAI/AAAAAAAAABg/Usb9K3n3cRI/s64/photo.jpg",
      "userId": "01253993997636551956"
     },
     "user_tz": -120
    },
    "id": "7QV5eQHHG4Ud",
    "outputId": "2389881e-8c0a-4518-c185-d0a84d1d4a67"
   },
   "outputs": [
    {
     "name": "stdout",
     "output_type": "stream",
     "text": [
      "(1097231, 511)\n"
     ]
    }
   ],
   "source": [
    "# import CSV\n",
    "df = pd.read_pickle('../input/data_v9.pkl')\n",
    "print(df.shape)"
   ]
  },
  {
   "cell_type": "code",
   "execution_count": 5,
   "metadata": {
    "colab": {},
    "colab_type": "code",
    "id": "qfsTSMBAG4Uf"
   },
   "outputs": [],
   "source": [
    "# target variable\n",
    "target = 'isFraud'"
   ]
  },
  {
   "cell_type": "code",
   "execution_count": 6,
   "metadata": {
    "colab": {
     "base_uri": "https://localhost:8080/",
     "height": 51
    },
    "colab_type": "code",
    "executionInfo": {
     "elapsed": 1334,
     "status": "ok",
     "timestamp": 1557933093762,
     "user": {
      "displayName": "Elizaveta",
      "photoUrl": "https://lh3.googleusercontent.com/-3-3kSLC4Mzw/AAAAAAAAAAI/AAAAAAAAABg/Usb9K3n3cRI/s64/photo.jpg",
      "userId": "01253993997636551956"
     },
     "user_tz": -120
    },
    "id": "hxJatDSBG4Uh",
    "outputId": "9b7dd4d7-fbf6-493b-d23c-25fdbf58ee37"
   },
   "outputs": [
    {
     "name": "stdout",
     "output_type": "stream",
     "text": [
      "(590540, 511)\n",
      "(506691, 511)\n"
     ]
    }
   ],
   "source": [
    "# partitioning\n",
    "full_train = df[df[target].isnull() == False].reset_index(drop = True)\n",
    "full_test  = df[df[target].isnull() == True].reset_index(drop = True)\n",
    "print(full_train.shape)\n",
    "print(full_test.shape)\n",
    "del df"
   ]
  },
  {
   "cell_type": "code",
   "execution_count": 7,
   "metadata": {},
   "outputs": [
    {
     "name": "stdout",
     "output_type": "stream",
     "text": [
      "0    446307\n",
      "1    144233\n",
      "Name: group, dtype: int64\n",
      "0    364784\n",
      "1    141907\n",
      "Name: group, dtype: int64\n"
     ]
    }
   ],
   "source": [
    "# group indicator\n",
    "full_train['group'] = 1\n",
    "full_test['group']  = 1\n",
    "full_train.loc[full_train.id_01.isnull(), 'group'] = 0\n",
    "full_test.loc[full_test.id_01.isnull(),   'group'] = 0\n",
    "print(full_train['group'].value_counts())\n",
    "print(full_test['group'].value_counts())"
   ]
  },
  {
   "cell_type": "markdown",
   "metadata": {
    "colab_type": "text",
    "id": "nPX4ljoNG4Un"
   },
   "source": [
    "# MODELING"
   ]
  },
  {
   "cell_type": "markdown",
   "metadata": {
    "colab_type": "text",
    "id": "B69Fdhg0G4Uo"
   },
   "source": [
    "### PARAMETERS"
   ]
  },
  {
   "cell_type": "code",
   "execution_count": 8,
   "metadata": {
    "colab": {
     "base_uri": "https://localhost:8080/",
     "height": 34
    },
    "colab_type": "code",
    "executionInfo": {
     "elapsed": 648,
     "status": "ok",
     "timestamp": 1557933094450,
     "user": {
      "displayName": "Elizaveta",
      "photoUrl": "https://lh3.googleusercontent.com/-3-3kSLC4Mzw/AAAAAAAAAAI/AAAAAAAAABg/Usb9K3n3cRI/s64/photo.jpg",
      "userId": "01253993997636551956"
     },
     "user_tz": -120
    },
    "id": "eWm2I0jDG4Uo",
    "outputId": "89ecbd36-3fac-47aa-dc7f-5b04b4d6081a"
   },
   "outputs": [
    {
     "name": "stdout",
     "output_type": "stream",
     "text": [
      "(590540, 505)\n"
     ]
    }
   ],
   "source": [
    "############ FEAUTERS\n",
    "\n",
    "# drop bad features\n",
    "excluded_feats = ['isFraud',\n",
    "                  'TransactionID', 'TransactionDT',\n",
    "                  'bank_type',\n",
    "                  'uid1', 'uid2', 'uid3', 'uid4', 'uid5', \n",
    "                  'DT', 'DT_D', 'DT_W', 'DT_M', 'DT_hour', \n",
    "                  'DT_day_week', 'DT_day_month', \n",
    "                  'DT_D_total', 'DT_W_total', 'DT_M_total']\n",
    "full_features = [f for f in full_train.columns if f not in excluded_feats]\n",
    "print(full_train[full_features].shape)"
   ]
  },
  {
   "cell_type": "code",
   "execution_count": 9,
   "metadata": {
    "colab": {},
    "colab_type": "code",
    "id": "ynozDG6yivwQ"
   },
   "outputs": [],
   "source": [
    "############ PARAMETERS\n",
    "\n",
    "# cores\n",
    "cores = 24\n",
    "\n",
    "# cross-validation\n",
    "num_folds = 6\n",
    "shuffle   = True\n",
    "\n",
    "# number of trees\n",
    "max_rounds = 10000\n",
    "stopping   = 200\n",
    "verbose    = 250\n",
    "\n",
    "# LGB parameters\n",
    "lgb_params = {\n",
    "    'boosting_type':     'gbdt',\n",
    "    'objective':         'binary',\n",
    "    'metric':            'auc',\n",
    "    'bagging_fraction':  0.9,\n",
    "    'feature_fraction':  0.9,\n",
    "    'lambda_l1':         0.1,\n",
    "    'lambda_l2':         0.1,\n",
    "    'min_split_gain':    0,\n",
    "    'min_child_weight':  0.1,\n",
    "    'min_child_samples': 20,\n",
    "    'silent':            True,\n",
    "    'verbosity':         -1,\n",
    "    'learning_rate':     0.01,\n",
    "    'max_depth':         5,\n",
    "    'num_leaves':        100,\n",
    "    'scale_pos_weight':  1,\n",
    "    'n_estimators':      max_rounds,\n",
    "    'nthread' :          cores,\n",
    "    'random_state':      seed,\n",
    "}\n",
    "\n",
    "lgb_params = {\n",
    "                    'objective':'binary',\n",
    "                    'boosting_type':'gbdt',\n",
    "                    'metric':'auc',\n",
    "                    'n_jobs':cores,\n",
    "                    'learning_rate':0.01,\n",
    "                    'num_leaves': 2**8,\n",
    "                    'max_depth':-1,\n",
    "                    'tree_learner':'serial',\n",
    "                    'colsample_bytree': 0.5,\n",
    "                    'subsample_freq':1,\n",
    "                    'subsample':0.7,\n",
    "                    'n_estimators':max_rounds,\n",
    "                    'max_bin':255,\n",
    "                    'verbose':-1,\n",
    "                    'seed': seed,\n",
    "                } \n",
    "\n",
    "# data partitinoing\n",
    "#folds = StratifiedKFold(n_splits = num_folds, random_state = seed, shuffle = shuffle)\n",
    "folds = GroupKFold(n_splits = num_folds)\n",
    "\n",
    "# SMOTE settings\n",
    "#from imblearn.over_sampling import SMOTE\n",
    "#sm = SMOTE(random_state = seed, n_jobs = cores, sampling_strategy = 0.1)"
   ]
  },
  {
   "cell_type": "code",
   "execution_count": 10,
   "metadata": {
    "colab": {},
    "colab_type": "code",
    "id": "9usATBLbG4Uv"
   },
   "outputs": [],
   "source": [
    "############ PLACEHOLDERS\n",
    "\n",
    "# placeholders\n",
    "clfs = []\n",
    "importances = pd.DataFrame()\n",
    "\n",
    "# predictions\n",
    "preds_test = np.zeros(full_test.shape[0])\n",
    "preds_oof  = np.zeros(full_train.shape[0])"
   ]
  },
  {
   "cell_type": "markdown",
   "metadata": {
    "colab_type": "text",
    "id": "OnYbk3yBG4Uz"
   },
   "source": [
    "### CROSS-VALIDATION"
   ]
  },
  {
   "cell_type": "code",
   "execution_count": 11,
   "metadata": {
    "colab": {
     "base_uri": "https://localhost:8080/",
     "height": 918
    },
    "colab_type": "code",
    "executionInfo": {
     "elapsed": 52906,
     "status": "ok",
     "timestamp": 1557933151848,
     "user": {
      "displayName": "Elizaveta",
      "photoUrl": "https://lh3.googleusercontent.com/-3-3kSLC4Mzw/AAAAAAAAAAI/AAAAAAAAABg/Usb9K3n3cRI/s64/photo.jpg",
      "userId": "01253993997636551956"
     },
     "user_tz": -120
    },
    "id": "XdVpCrqxG4U0",
    "outputId": "d2b165a7-c56b-44c0-b62b-466147db5e22"
   },
   "outputs": [
    {
     "name": "stdout",
     "output_type": "stream",
     "text": [
      "---------------\n",
      "---------------\n",
      "GROUP = 0\n",
      "---------------\n",
      "---------------\n",
      "Data shape: (363654, 412) (82653, 412)\n",
      "Training until validation scores don't improve for 200 rounds.\n",
      "[250]\ttraining's auc: 0.989614\tvalid_1's auc: 0.894327\n",
      "[500]\ttraining's auc: 0.999746\tvalid_1's auc: 0.908873\n",
      "[750]\ttraining's auc: 0.999995\tvalid_1's auc: 0.913249\n",
      "[1000]\ttraining's auc: 1\tvalid_1's auc: 0.915736\n",
      "[1250]\ttraining's auc: 1\tvalid_1's auc: 0.91653\n",
      "Early stopping, best iteration is:\n",
      "[1266]\ttraining's auc: 1\tvalid_1's auc: 0.91662\n",
      "--------------------------------\n",
      "FOLD 1: AUC = 0.916620\n",
      "--------------------------------\n",
      "\n",
      "Data shape: (367844, 412) (78463, 412)\n",
      "Training until validation scores don't improve for 200 rounds.\n",
      "[250]\ttraining's auc: 0.988531\tvalid_1's auc: 0.878845\n",
      "[500]\ttraining's auc: 0.999666\tvalid_1's auc: 0.891047\n",
      "[750]\ttraining's auc: 0.999991\tvalid_1's auc: 0.895557\n",
      "[1000]\ttraining's auc: 0.999999\tvalid_1's auc: 0.897046\n",
      "[1250]\ttraining's auc: 1\tvalid_1's auc: 0.897659\n",
      "Early stopping, best iteration is:\n",
      "[1297]\ttraining's auc: 1\tvalid_1's auc: 0.897618\n",
      "--------------------------------\n",
      "FOLD 2: AUC = 0.897618\n",
      "--------------------------------\n",
      "\n",
      "Data shape: (370317, 412) (75990, 412)\n",
      "Training until validation scores don't improve for 200 rounds.\n",
      "[250]\ttraining's auc: 0.988387\tvalid_1's auc: 0.902574\n",
      "[500]\ttraining's auc: 0.999676\tvalid_1's auc: 0.915589\n",
      "[750]\ttraining's auc: 0.999989\tvalid_1's auc: 0.918463\n",
      "[1000]\ttraining's auc: 0.999999\tvalid_1's auc: 0.920195\n",
      "[1250]\ttraining's auc: 1\tvalid_1's auc: 0.920446\n",
      "[1500]\ttraining's auc: 1\tvalid_1's auc: 0.920545\n",
      "Early stopping, best iteration is:\n",
      "[1549]\ttraining's auc: 1\tvalid_1's auc: 0.920752\n",
      "--------------------------------\n",
      "FOLD 3: AUC = 0.920752\n",
      "--------------------------------\n",
      "\n",
      "Data shape: (375782, 412) (70525, 412)\n",
      "Training until validation scores don't improve for 200 rounds.\n",
      "[250]\ttraining's auc: 0.987508\tvalid_1's auc: 0.881849\n",
      "[500]\ttraining's auc: 0.999544\tvalid_1's auc: 0.902926\n",
      "[750]\ttraining's auc: 0.999978\tvalid_1's auc: 0.907172\n",
      "[1000]\ttraining's auc: 1\tvalid_1's auc: 0.909089\n",
      "[1250]\ttraining's auc: 1\tvalid_1's auc: 0.910057\n",
      "[1500]\ttraining's auc: 1\tvalid_1's auc: 0.911471\n",
      "Early stopping, best iteration is:\n",
      "[1320]\ttraining's auc: 1\tvalid_1's auc: 0.910408\n",
      "--------------------------------\n",
      "FOLD 4: AUC = 0.910408\n",
      "--------------------------------\n",
      "\n",
      "Data shape: (376520, 412) (69787, 412)\n",
      "Training until validation scores don't improve for 200 rounds.\n",
      "[250]\ttraining's auc: 0.988468\tvalid_1's auc: 0.908909\n",
      "[500]\ttraining's auc: 0.999636\tvalid_1's auc: 0.918913\n",
      "[750]\ttraining's auc: 0.999958\tvalid_1's auc: 0.923055\n",
      "[1000]\ttraining's auc: 0.999964\tvalid_1's auc: 0.923496\n",
      "[1250]\ttraining's auc: 1\tvalid_1's auc: 0.92412\n",
      "Early stopping, best iteration is:\n",
      "[1277]\ttraining's auc: 1\tvalid_1's auc: 0.924157\n",
      "--------------------------------\n",
      "FOLD 5: AUC = 0.924157\n",
      "--------------------------------\n",
      "\n",
      "Data shape: (377418, 412) (68889, 412)\n",
      "Training until validation scores don't improve for 200 rounds.\n",
      "[250]\ttraining's auc: 0.986947\tvalid_1's auc: 0.910582\n",
      "[500]\ttraining's auc: 0.999567\tvalid_1's auc: 0.927807\n",
      "[750]\ttraining's auc: 0.999985\tvalid_1's auc: 0.933618\n",
      "[1000]\ttraining's auc: 0.999999\tvalid_1's auc: 0.935782\n",
      "[1250]\ttraining's auc: 1\tvalid_1's auc: 0.937009\n",
      "[1500]\ttraining's auc: 1\tvalid_1's auc: 0.936748\n",
      "Early stopping, best iteration is:\n",
      "[1360]\ttraining's auc: 1\tvalid_1's auc: 0.937139\n",
      "--------------------------------\n",
      "FOLD 6: AUC = 0.937139\n",
      "--------------------------------\n",
      "\n",
      "--------------------------------\n",
      "- OOF AUC = 0.917402\n",
      "--------------------------------\n",
      "---------------\n",
      "---------------\n",
      "GROUP = 1\n",
      "---------------\n",
      "---------------\n",
      "Data shape: (85375, 493) (58858, 493)\n",
      "Training until validation scores don't improve for 200 rounds.\n",
      "[250]\ttraining's auc: 0.993649\tvalid_1's auc: 0.940104\n",
      "[500]\ttraining's auc: 0.999767\tvalid_1's auc: 0.945426\n",
      "[750]\ttraining's auc: 0.999999\tvalid_1's auc: 0.947112\n",
      "[1000]\ttraining's auc: 1\tvalid_1's auc: 0.947631\n",
      "[1250]\ttraining's auc: 1\tvalid_1's auc: 0.947588\n",
      "Early stopping, best iteration is:\n",
      "[1086]\ttraining's auc: 1\tvalid_1's auc: 0.947738\n",
      "--------------------------------\n",
      "FOLD 1: AUC = 0.947738\n",
      "--------------------------------\n",
      "\n",
      "Data shape: (125254, 493) (18979, 493)\n",
      "Training until validation scores don't improve for 200 rounds.\n",
      "[250]\ttraining's auc: 0.993063\tvalid_1's auc: 0.950611\n",
      "[500]\ttraining's auc: 0.999802\tvalid_1's auc: 0.953757\n",
      "[750]\ttraining's auc: 0.99999\tvalid_1's auc: 0.954701\n",
      "Early stopping, best iteration is:\n",
      "[741]\ttraining's auc: 0.99999\tvalid_1's auc: 0.954798\n",
      "--------------------------------\n",
      "FOLD 2: AUC = 0.954798\n",
      "--------------------------------\n",
      "\n",
      "Data shape: (125432, 493) (18801, 493)\n",
      "Training until validation scores don't improve for 200 rounds.\n",
      "[250]\ttraining's auc: 0.992866\tvalid_1's auc: 0.936079\n",
      "[500]\ttraining's auc: 0.999771\tvalid_1's auc: 0.941191\n",
      "Early stopping, best iteration is:\n",
      "[525]\ttraining's auc: 0.999842\tvalid_1's auc: 0.941374\n",
      "--------------------------------\n",
      "FOLD 3: AUC = 0.941374\n",
      "--------------------------------\n",
      "\n",
      "Data shape: (127638, 493) (16595, 493)\n",
      "Training until validation scores don't improve for 200 rounds.\n",
      "[250]\ttraining's auc: 0.992569\tvalid_1's auc: 0.933334\n",
      "[500]\ttraining's auc: 0.999786\tvalid_1's auc: 0.944185\n",
      "[750]\ttraining's auc: 0.999998\tvalid_1's auc: 0.948728\n",
      "[1000]\ttraining's auc: 0.999999\tvalid_1's auc: 0.950879\n",
      "Early stopping, best iteration is:\n",
      "[850]\ttraining's auc: 0.999999\tvalid_1's auc: 0.949884\n",
      "--------------------------------\n",
      "FOLD 4: AUC = 0.949884\n",
      "--------------------------------\n",
      "\n",
      "Data shape: (127999, 493) (16234, 493)\n",
      "Training until validation scores don't improve for 200 rounds.\n",
      "[250]\ttraining's auc: 0.992316\tvalid_1's auc: 0.95936\n",
      "[500]\ttraining's auc: 0.999718\tvalid_1's auc: 0.962324\n",
      "[750]\ttraining's auc: 0.999996\tvalid_1's auc: 0.963602\n",
      "[1000]\ttraining's auc: 1\tvalid_1's auc: 0.964159\n",
      "[1250]\ttraining's auc: 1\tvalid_1's auc: 0.964393\n",
      "Early stopping, best iteration is:\n",
      "[1130]\ttraining's auc: 1\tvalid_1's auc: 0.96432\n",
      "--------------------------------\n",
      "FOLD 5: AUC = 0.964320\n",
      "--------------------------------\n",
      "\n",
      "Data shape: (129467, 493) (14766, 493)\n",
      "Training until validation scores don't improve for 200 rounds.\n",
      "[250]\ttraining's auc: 0.992045\tvalid_1's auc: 0.947458\n",
      "[500]\ttraining's auc: 0.999516\tvalid_1's auc: 0.952957\n",
      "[750]\ttraining's auc: 0.999829\tvalid_1's auc: 0.954634\n",
      "[1000]\ttraining's auc: 0.999937\tvalid_1's auc: 0.955367\n",
      "[1250]\ttraining's auc: 0.999939\tvalid_1's auc: 0.955528\n",
      "Early stopping, best iteration is:\n",
      "[1258]\ttraining's auc: 0.999939\tvalid_1's auc: 0.955559\n",
      "--------------------------------\n",
      "FOLD 6: AUC = 0.955559\n",
      "--------------------------------\n",
      "\n",
      "--------------------------------\n",
      "- OOF AUC = 0.953745\n",
      "--------------------------------\n",
      "CV TIME = 1073.47 min\n"
     ]
    }
   ],
   "source": [
    "cv_start  = time.time()\n",
    "for pcd in full_train.group.unique():\n",
    "    \n",
    "    print('-'*15)\n",
    "    print('-'*15)\n",
    "    print('GROUP = ' + str(pcd))\n",
    "    print('-'*15)\n",
    "    print('-'*15)\n",
    "    \n",
    "    train = full_train[full_train.group == pcd]\n",
    "    test  = full_test[full_test.group   == pcd]\n",
    "\n",
    "    idx1 = train.index\n",
    "    idx2 = test.index\n",
    "        \n",
    "    train.reset_index(drop = True, inplace = True)\n",
    "    test.reset_index(drop  = True, inplace = True)\n",
    "    \n",
    "    y = train[target]\n",
    "    del train[target], test[target]\n",
    "    \n",
    "    features = full_features.copy()\n",
    "    for var in train.columns:\n",
    "        if train[var].isnull().sum() == len(train):\n",
    "            del train[var], test[var]\n",
    "            if var in features:\n",
    "                features.remove(var)\n",
    "\n",
    "\n",
    "    ############ CROSS-VALIDATION LOOP\n",
    "    for n_fold, (trn_idx, val_idx) in enumerate(folds.split(train, y, groups = train['DT_M'])):\n",
    "\n",
    "        # data partitioning\n",
    "        trn_x, trn_y = train[features].iloc[trn_idx], y.iloc[trn_idx]\n",
    "        val_x, val_y = train[features].iloc[val_idx], y.iloc[val_idx]\n",
    "        test_x       = test[features]\n",
    "\n",
    "        # label encoding\n",
    "        trn_x, val_x, test_x = label_encoding(trn_x, val_x, test_x)\n",
    "\n",
    "        # print data dimensions\n",
    "        print('Data shape:', trn_x.shape, val_x.shape)\n",
    "\n",
    "        # train lightGBM\n",
    "        clf = lgb.LGBMClassifier(**lgb_params) \n",
    "        clf = clf.fit(trn_x, trn_y, \n",
    "                      eval_set              = [(trn_x, trn_y), (val_x, val_y)], \n",
    "                      eval_metric           = 'auc', \n",
    "                      early_stopping_rounds = stopping,\n",
    "                      verbose               = verbose)\n",
    "        clfs.append(clf)\n",
    "\n",
    "        # find the best iteration\n",
    "        best_iter = clf.best_iteration_\n",
    "\n",
    "        # save predictions\n",
    "        preds_oof[idx1[val_idx]] = clf.predict_proba(val_x,  num_iteration = best_iter)[:, 1]\n",
    "        preds_test[idx2]        += clf.predict_proba(test_x, num_iteration = best_iter)[:, 1] / folds.n_splits \n",
    "\n",
    "        # importance\n",
    "        fold_importance_df               = pd.DataFrame()\n",
    "        fold_importance_df['Feature']    = features\n",
    "        fold_importance_df['Importance'] = clf.feature_importances_\n",
    "        fold_importance_df['Fold']       = n_fold + 1\n",
    "        importances                      = pd.concat([importances, fold_importance_df], axis = 0)\n",
    "\n",
    "        # print performance\n",
    "        print('--------------------------------')\n",
    "        print('FOLD%2d: AUC = %.6f' % (n_fold + 1, roc_auc_score(y[val_idx], preds_oof[idx1[val_idx]])))\n",
    "        print('--------------------------------')\n",
    "        print('')\n",
    "\n",
    "        # clear memory\n",
    "        del trn_x, trn_y, val_x, val_y\n",
    "        gc.collect()\n",
    "\n",
    "\n",
    "    # print overall performance    \n",
    "    cv_perf = roc_auc_score(y, preds_oof[idx1])\n",
    "    print('--------------------------------')\n",
    "    print('- OOF AUC = %.6f' % cv_perf)\n",
    "    print('--------------------------------')\n",
    "    \n",
    "    \n",
    "print('CV TIME = {:.2f} min'.format((time.time() - cv_start) / 60))"
   ]
  },
  {
   "cell_type": "markdown",
   "metadata": {
    "colab_type": "text",
    "id": "OnYbk3yBG4Uz"
   },
   "source": [
    "### EVALUATION"
   ]
  },
  {
   "cell_type": "code",
   "execution_count": 12,
   "metadata": {
    "colab": {},
    "colab_type": "code",
    "id": "qRJGFSmyG4U3"
   },
   "outputs": [
    {
     "name": "stdout",
     "output_type": "stream",
     "text": [
      "0.9389\n"
     ]
    }
   ],
   "source": [
    "############ RECHECK PERFORMANCE  \n",
    "\n",
    "# check performance\n",
    "y = full_train[target]\n",
    "print(np.round(roc_auc_score(y, preds_oof), 5))\n",
    "cv_perf = roc_auc_score(y, preds_oof)\n",
    "\n",
    "\n",
    "############ TRACK RESULTS\n"
   ]
  },
  {
   "cell_type": "code",
   "execution_count": 13,
   "metadata": {},
   "outputs": [
    {
     "data": {
      "image/png": "[encoded data removed]",
      "text/plain": [
       "<Figure size 720x288 with 2 Axes>"
      ]
     },
     "metadata": {
      "needs_background": "dark"
     },
     "output_type": "display_data"
    }
   ],
   "source": [
    "########## CONFUSION MATRIX\n",
    "\n",
    "# construct confusion matrx\n",
    "cm = confusion_matrix(y, np.round(preds_oof))\n",
    "cm = cm.astype('float') / cm.sum(axis = 1)[:, np.newaxis]\n",
    "\n",
    "# plot matrix\n",
    "fig, ax = plt.subplots(figsize = (10, 4))\n",
    "sns.heatmap(cm, cmap = 'Blues', annot = True, lw = 0.5)\n",
    "ax.set_xlabel('Prediction')\n",
    "ax.set_ylabel('Ground Truth')\n",
    "ax.set_aspect('equal')"
   ]
  },
  {
   "cell_type": "markdown",
   "metadata": {
    "colab_type": "text",
    "id": "2dsi_jeGG4VE"
   },
   "source": [
    "# SUBMISSION"
   ]
  },
  {
   "cell_type": "code",
   "execution_count": 14,
   "metadata": {
    "colab": {},
    "colab_type": "code",
    "id": "_Tt_FxCwG4VF"
   },
   "outputs": [
    {
     "data": {
      "text/plain": [
       "'lgb_v9g_93890'"
      ]
     },
     "execution_count": 14,
     "metadata": {},
     "output_type": "execute_result"
    }
   ],
   "source": [
    "# file name\n",
    "model = 'lgb_v9g'\n",
    "perf  = str(round(cv_perf, 6))[2:7]\n",
    "name  = model + '_' + perf\n",
    "name"
   ]
  },
  {
   "cell_type": "code",
   "execution_count": 15,
   "metadata": {
    "colab": {},
    "colab_type": "code",
    "id": "gukkBbc9G4VH"
   },
   "outputs": [
    {
     "data": {
      "text/html": [
       "<div>\n",
       "<style scoped>\n",
       "    .dataframe tbody tr th:only-of-type {\n",
       "        vertical-align: middle;\n",
       "    }\n",
       "\n",
       "    .dataframe tbody tr th {\n",
       "        vertical-align: top;\n",
       "    }\n",
       "\n",
       "    .dataframe thead th {\n",
       "        text-align: right;\n",
       "    }\n",
       "</style>\n",
       "<table border=\"1\" class=\"dataframe\">\n",
       "  <thead>\n",
       "    <tr style=\"text-align: right;\">\n",
       "      <th></th>\n",
       "      <th>TransactionID</th>\n",
       "      <th>isFraud</th>\n",
       "    </tr>\n",
       "  </thead>\n",
       "  <tbody>\n",
       "    <tr>\n",
       "      <td>0</td>\n",
       "      <td>2987000</td>\n",
       "      <td>0.009104</td>\n",
       "    </tr>\n",
       "    <tr>\n",
       "      <td>1</td>\n",
       "      <td>2987001</td>\n",
       "      <td>0.002511</td>\n",
       "    </tr>\n",
       "    <tr>\n",
       "      <td>2</td>\n",
       "      <td>2987002</td>\n",
       "      <td>0.001811</td>\n",
       "    </tr>\n",
       "    <tr>\n",
       "      <td>3</td>\n",
       "      <td>2987003</td>\n",
       "      <td>0.002931</td>\n",
       "    </tr>\n",
       "    <tr>\n",
       "      <td>4</td>\n",
       "      <td>2987004</td>\n",
       "      <td>0.000605</td>\n",
       "    </tr>\n",
       "  </tbody>\n",
       "</table>\n",
       "</div>"
      ],
      "text/plain": [
       "   TransactionID   isFraud\n",
       "0        2987000  0.009104\n",
       "1        2987001  0.002511\n",
       "2        2987002  0.001811\n",
       "3        2987003  0.002931\n",
       "4        2987004  0.000605"
      ]
     },
     "execution_count": 15,
     "metadata": {},
     "output_type": "execute_result"
    }
   ],
   "source": [
    "# export OOF preds\n",
    "oof = pd.DataFrame({'TransactionID': full_train['TransactionID'], 'isFraud': preds_oof})\n",
    "oof.to_csv('../oof_preds/' + str(name) + '.csv', index = False)\n",
    "oof.head()"
   ]
  },
  {
   "cell_type": "code",
   "execution_count": 16,
   "metadata": {
    "colab": {},
    "colab_type": "code",
    "id": "gukkBbc9G4VH"
   },
   "outputs": [
    {
     "data": {
      "text/html": [
       "<div>\n",
       "<style scoped>\n",
       "    .dataframe tbody tr th:only-of-type {\n",
       "        vertical-align: middle;\n",
       "    }\n",
       "\n",
       "    .dataframe tbody tr th {\n",
       "        vertical-align: top;\n",
       "    }\n",
       "\n",
       "    .dataframe thead th {\n",
       "        text-align: right;\n",
       "    }\n",
       "</style>\n",
       "<table border=\"1\" class=\"dataframe\">\n",
       "  <thead>\n",
       "    <tr style=\"text-align: right;\">\n",
       "      <th></th>\n",
       "      <th>TransactionID</th>\n",
       "      <th>isFraud</th>\n",
       "    </tr>\n",
       "  </thead>\n",
       "  <tbody>\n",
       "    <tr>\n",
       "      <td>0</td>\n",
       "      <td>3663549</td>\n",
       "      <td>0.000522</td>\n",
       "    </tr>\n",
       "    <tr>\n",
       "      <td>1</td>\n",
       "      <td>3663550</td>\n",
       "      <td>0.001077</td>\n",
       "    </tr>\n",
       "    <tr>\n",
       "      <td>2</td>\n",
       "      <td>3663551</td>\n",
       "      <td>0.000741</td>\n",
       "    </tr>\n",
       "    <tr>\n",
       "      <td>3</td>\n",
       "      <td>3663552</td>\n",
       "      <td>0.000351</td>\n",
       "    </tr>\n",
       "    <tr>\n",
       "      <td>4</td>\n",
       "      <td>3663553</td>\n",
       "      <td>0.000622</td>\n",
       "    </tr>\n",
       "  </tbody>\n",
       "</table>\n",
       "</div>"
      ],
      "text/plain": [
       "   TransactionID   isFraud\n",
       "0        3663549  0.000522\n",
       "1        3663550  0.001077\n",
       "2        3663551  0.000741\n",
       "3        3663552  0.000351\n",
       "4        3663553  0.000622"
      ]
     },
     "execution_count": 16,
     "metadata": {},
     "output_type": "execute_result"
    }
   ],
   "source": [
    "# export submission\n",
    "sub = pd.DataFrame({'TransactionID': full_test['TransactionID'], 'isFraud': preds_test})\n",
    "sub.to_csv('../submissions/' + str(name) + '.csv', index = False)\n",
    "sub.head()"
   ]
  },
  {
   "cell_type": "code",
   "execution_count": 17,
   "metadata": {},
   "outputs": [
    {
     "data": {
      "text/plain": [
       "SpearmanrResult(correlation=0.783196413839036, pvalue=0.0)"
      ]
     },
     "execution_count": 17,
     "metadata": {},
     "output_type": "execute_result"
    }
   ],
   "source": [
    "# check rank correlation with the best submission\n",
    "from scipy.stats import spearmanr\n",
    "sub  = sub.sort_values('TransactionID')\n",
    "best = pd.read_csv(\"../submissions/BlendSolution.csv\")\n",
    "best = best.sort_values('TransactionID')\n",
    "spearmanr(sub.isFraud, best.isFraud)"
   ]
  }
 ],
 "metadata": {
  "colab": {
   "collapsed_sections": [],
   "name": "code_2_lgb_main.ipynb",
   "provenance": [],
   "version": "0.3.2"
  },
  "kernelspec": {
   "display_name": "Python 3",
   "language": "python",
   "name": "python3"
  },
  "language_info": {
   "codemirror_mode": {
    "name": "ipython",
    "version": 3
   },
   "file_extension": ".py",
   "mimetype": "text/x-python",
   "name": "python",
   "nbconvert_exporter": "python",
   "pygments_lexer": "ipython3",
   "version": "3.7.1"
  }
 },
 "nbformat": 4,
 "nbformat_minor": 4
}
