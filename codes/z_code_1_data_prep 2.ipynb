{
 "cells": [
  {
   "cell_type": "markdown",
   "metadata": {},
   "source": [
    "# 1. SETTINGS"
   ]
  },
  {
   "cell_type": "code",
   "execution_count": 12,
   "metadata": {},
   "outputs": [],
   "source": [
    "# import packages\n",
    "import pandas as pd\n",
    "import numpy as np\n",
    "import scipy.stats\n",
    "import os"
   ]
  },
  {
   "cell_type": "code",
   "execution_count": 13,
   "metadata": {},
   "outputs": [],
   "source": [
    "# pandas options\n",
    "pd.set_option('display.max_columns', None)"
   ]
  },
  {
   "cell_type": "code",
   "execution_count": 14,
   "metadata": {},
   "outputs": [],
   "source": [
    "# ignore warnings\n",
    "import warnings\n",
    "warnings.filterwarnings('ignore')"
   ]
  },
  {
   "cell_type": "code",
   "execution_count": 15,
   "metadata": {},
   "outputs": [],
   "source": [
    "# garbage collection\n",
    "import gc\n",
    "gc.enable()"
   ]
  },
  {
   "cell_type": "code",
   "execution_count": 16,
   "metadata": {},
   "outputs": [],
   "source": [
    "# helper functions\n",
    "import functions\n",
    "import importlib\n",
    "importlib.reload(functions)\n",
    "from functions import *"
   ]
  },
  {
   "cell_type": "code",
   "execution_count": 17,
   "metadata": {},
   "outputs": [
    {
     "data": {
      "text/plain": [
       "4"
      ]
     },
     "execution_count": 17,
     "metadata": {},
     "output_type": "execute_result"
    }
   ],
   "source": [
    "my_func(2, 3)"
   ]
  },
  {
   "cell_type": "markdown",
   "metadata": {},
   "source": [
    "# 2. IMPORT"
   ]
  },
  {
   "cell_type": "code",
   "execution_count": null,
   "metadata": {},
   "outputs": [],
   "source": [
    "# import data\n",
    "train = pd.read_csv('../data/train_requests.csv', sep = ',', low_memory = False, error_bad_lines = False)\n",
    "test  = pd.read_csv('../data/test_requests.csv',  sep = ',', low_memory = False, error_bad_lines = False)\n",
    "y = train['granted_number_of_nights']\n",
    "\n",
    "# check dimensions\n",
    "print(train.shape)\n",
    "print(y.shape)\n",
    "print(test.shape)"
   ]
  },
  {
   "cell_type": "code",
   "execution_count": null,
   "metadata": {},
   "outputs": [],
   "source": [
    "# check data\n",
    "train.head()"
   ]
  },
  {
   "cell_type": "code",
   "execution_count": null,
   "metadata": {},
   "outputs": [],
   "source": [
    "# check data\n",
    "test.head()"
   ]
  },
  {
   "cell_type": "markdown",
   "metadata": {},
   "source": [
    "# 3. MERGER"
   ]
  },
  {
   "cell_type": "code",
   "execution_count": null,
   "metadata": {},
   "outputs": [],
   "source": [
    "# target variable\n",
    "test['granted_number_of_nights']  = np.nan"
   ]
  },
  {
   "cell_type": "code",
   "execution_count": null,
   "metadata": {},
   "outputs": [],
   "source": [
    "# align columns\n",
    "train = train.reindex_axis(sorted(train.columns), axis = 1)\n",
    "test  = test.reindex_axis(sorted(test.columns),   axis = 1)\n",
    "\n",
    "# check equalty\n",
    "train.columns == test.columns"
   ]
  },
  {
   "cell_type": "code",
   "execution_count": null,
   "metadata": {},
   "outputs": [],
   "source": [
    "# concatenate\n",
    "df = pd.concat([train, test], axis = 0)\n",
    "df = df.reset_index(drop = True)\n",
    "del train, test\n",
    "print(df.shape)"
   ]
  },
  {
   "cell_type": "code",
   "execution_count": null,
   "metadata": {},
   "outputs": [],
   "source": [
    "# check distributions\n",
    "df.describe()"
   ]
  },
  {
   "cell_type": "markdown",
   "metadata": {},
   "source": [
    "# 4. PROCESSING"
   ]
  },
  {
   "cell_type": "markdown",
   "metadata": {},
   "source": [
    "### DROP IRRELEVANT FEATURES"
   ]
  },
  {
   "cell_type": "code",
   "execution_count": null,
   "metadata": {},
   "outputs": [],
   "source": [
    "# remove columns with a single value\n",
    "print(df.shape)\n",
    "df = df.loc[:, df.nunique(dropna = False) != 1]\n",
    "print(df.shape)"
   ]
  },
  {
   "cell_type": "code",
   "execution_count": null,
   "metadata": {},
   "outputs": [],
   "source": [
    "# remove irrelevant columns\n",
    "print(df.shape)\n",
    "drops = ['group_main_requester_id', 'request_backoffice_creator_id']\n",
    "for var in drops:\n",
    "    del df[var]\n",
    "print(df.shape)"
   ]
  },
  {
   "cell_type": "markdown",
   "metadata": {},
   "source": [
    "### MISSING VALUES"
   ]
  },
  {
   "cell_type": "code",
   "execution_count": null,
   "metadata": {},
   "outputs": [],
   "source": [
    "# check missings\n",
    "count_missings(df)"
   ]
  },
  {
   "cell_type": "code",
   "execution_count": null,
   "metadata": {},
   "outputs": [],
   "source": [
    "# impute NAs with 0\n",
    "nas = []\n",
    "for var in nas:\n",
    "    df[var].fillna(0, inplace = True)"
   ]
  },
  {
   "cell_type": "code",
   "execution_count": null,
   "metadata": {},
   "outputs": [],
   "source": [
    "# impute missings with means\n",
    "#target = df['duration'].copy()\n",
    "#df = df.replace([np.inf, -np.inf], np.nan)\n",
    "#means = df.mean(axis = 0)\n",
    "#df.fillna(means, inplace = True)\n",
    "#df['duration'] = target"
   ]
  },
  {
   "cell_type": "markdown",
   "metadata": {},
   "source": [
    "### VARIABLE TYPES"
   ]
  },
  {
   "cell_type": "code",
   "execution_count": null,
   "metadata": {},
   "outputs": [],
   "source": [
    "# check data types\n",
    "df.dtypes"
   ]
  },
  {
   "cell_type": "code",
   "execution_count": null,
   "metadata": {},
   "outputs": [],
   "source": [
    "# check value counts\n",
    "facs = [f for f in df.columns if df[f].dtype == \"object\"]\n",
    "for fac in facs:\n",
    "    print('--------------------------------')\n",
    "    print(fac + ': ' + str(df[fac].nunique()) + ' unique values')\n",
    "    print('--------------------------------')\n",
    "    print(df[fac].value_counts().head(3))\n",
    "    print('--------------------------------')\n",
    "    print('')"
   ]
  },
  {
   "cell_type": "code",
   "execution_count": null,
   "metadata": {},
   "outputs": [],
   "source": [
    "# convert to integers\n",
    "to_int = ['animal_presence', 'child_to_come', 'long_term_housing_request', 'victim_of_violence']\n",
    "for col in to_int:\n",
    "    df[col], _ = pd.factorize(df[col])\n",
    "    \n",
    "    \n",
    "# convert to strings\n",
    "to_str = ['request_id', 'group_composition_id', 'housing_situation_id', 'social_situation_id']\n",
    "for col in to_str:\n",
    "    df[col] = df[col].astype('object')\n",
    "    \n",
    "    \n",
    "# convert to dates\n",
    "dates = ['answer_creation_date', 'group_creation_date', 'request_creation_date']\n",
    "for var in dates:\n",
    "    df[var] = pd.to_datetime(df[var].astype('str'), infer_datetime_format = True)"
   ]
  },
  {
   "cell_type": "markdown",
   "metadata": {},
   "source": [
    "### AGGREGATIONS"
   ]
  },
  {
   "cell_type": "raw",
   "metadata": {},
   "source": [
    "%%time\n",
    "\n",
    "# aggregated data\n",
    "df_agg = aggregate_data(df, \n",
    "                        group_var = 'request_id',\n",
    "                        num_stats = ['mean', 'std', 'sum'], \n",
    "                        factors   = ['gender', 'pregnancy', 'childcare_center_supervision', \n",
    "                                     'disabled_worker_certification', 'individual_role', 'individual_role_2_label',\n",
    "                                     'marital_status_label', 'housing_situation_2_label'])"
   ]
  },
  {
   "cell_type": "raw",
   "metadata": {},
   "source": [
    "# check data\n",
    "df_agg.head()"
   ]
  },
  {
   "cell_type": "raw",
   "metadata": {},
   "source": [
    "# remove columns with a single value\n",
    "print(df_agg.shape)\n",
    "df_agg = df_agg.loc[:, df_agg.nunique(dropna = False) != 1]\n",
    "print(df_agg.shape)"
   ]
  },
  {
   "cell_type": "markdown",
   "metadata": {},
   "source": [
    "# 5. WORKING WITH FEATURES"
   ]
  },
  {
   "cell_type": "markdown",
   "metadata": {},
   "source": [
    "### EXTRACT FEATURES FROM TEXT"
   ]
  },
  {
   "cell_type": "code",
   "execution_count": null,
   "metadata": {},
   "outputs": [],
   "source": [
    "# compute features\n",
    "text_vars = ['group_composition_label', 'housing_situation_label']\n",
    "print(df.shape)\n",
    "df = add_text_features(df, strings = text_vars, k = 5, keep = False)\n",
    "print(df.shape)"
   ]
  },
  {
   "cell_type": "markdown",
   "metadata": {},
   "source": [
    "### CREATE NEW FEATURES"
   ]
  },
  {
   "cell_type": "code",
   "execution_count": null,
   "metadata": {},
   "outputs": [],
   "source": [
    "# date differences\n",
    "dates = ['answer_creation_date', 'group_creation_date', 'request_creation_date']\n",
    "df['daydif_1'] = (df[dates[0]] - df[dates[1]]).astype('int') / 1000000\n",
    "df['daydif_1'] = (df[dates[0]] - df[dates[2]]).astype('int') / 1000000\n",
    "df['daydif_1'] = (df[dates[1]] - df[dates[2]]).astype('int') / 1000000"
   ]
  },
  {
   "cell_type": "markdown",
   "metadata": {},
   "source": [
    "### ENCODE FACTORS"
   ]
  },
  {
   "cell_type": "code",
   "execution_count": null,
   "metadata": {},
   "outputs": [],
   "source": [
    "# convert categorical features\n",
    "df = encode_factors(df, method = 'label', skip = ['request_id'])\n",
    "df.shape"
   ]
  },
  {
   "cell_type": "markdown",
   "metadata": {},
   "source": [
    "# 6. EXPORT"
   ]
  },
  {
   "cell_type": "code",
   "execution_count": null,
   "metadata": {},
   "outputs": [],
   "source": [
    "# import individual data\n",
    "ind = pd.read_csv('../data/data_group.csv', sep = ',', low_memory = False, error_bad_lines = False)\n",
    "print(ind.shape)"
   ]
  },
  {
   "cell_type": "code",
   "execution_count": null,
   "metadata": {},
   "outputs": [],
   "source": [
    "# merge individual data\n",
    "df  = df.set_index('request_id')\n",
    "ind = ind.set_index('request_id')\n",
    "df_new = df.join(ind)\n",
    "print(df_new.shape)"
   ]
  },
  {
   "cell_type": "code",
   "execution_count": null,
   "metadata": {},
   "outputs": [],
   "source": [
    "# retuen index\n",
    "df_new = df_new.reset_index()\n",
    "print(df_new.shape)"
   ]
  },
  {
   "cell_type": "code",
   "execution_count": null,
   "metadata": {},
   "outputs": [],
   "source": [
    "# export CSV\n",
    "df_new.to_csv('../data/data_v2.csv', index = False)\n",
    "df_new.shape"
   ]
  }
 ],
 "metadata": {
  "kernelspec": {
   "display_name": "Python 3",
   "language": "python",
   "name": "python3"
  },
  "language_info": {
   "codemirror_mode": {
    "name": "ipython",
    "version": 3
   },
   "file_extension": ".py",
   "mimetype": "text/x-python",
   "name": "python",
   "nbconvert_exporter": "python",
   "pygments_lexer": "ipython3",
   "version": "3.6.9"
  }
 },
 "nbformat": 4,
 "nbformat_minor": 4
}
