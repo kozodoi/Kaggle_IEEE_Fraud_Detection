{
 "cells": [
  {
   "cell_type": "markdown",
   "metadata": {
    "colab_type": "text",
    "id": "rDg2hoRrG4UL"
   },
   "source": [
    "# SETTINGS"
   ]
  },
  {
   "cell_type": "code",
   "execution_count": 1,
   "metadata": {
    "colab": {},
    "colab_type": "code",
    "id": "2QpPWtHZG4UM"
   },
   "outputs": [],
   "source": [
    "############ LIBRARIES\n",
    "\n",
    "import numpy as np\n",
    "import pandas as pd\n",
    "pd.set_option('display.max_columns', None)\n",
    "\n",
    "import matplotlib.pyplot as plt\n",
    "import seaborn as sns\n",
    "plt.style.use('dark_background')\n",
    "%matplotlib inline\n",
    "\n",
    "import os\n",
    "import time\n",
    "import random\n",
    "import multiprocessing\n",
    "import pickle\n",
    "\n",
    "import scipy.stats\n",
    "\n",
    "import gc\n",
    "gc.enable()\n",
    "\n",
    "import warnings\n",
    "warnings.filterwarnings('ignore')\n",
    "\n",
    "import lightgbm as lgb\n",
    "\n",
    "from sklearn.model_selection import KFold, StratifiedKFold, GroupKFold\n",
    "from sklearn.preprocessing import RobustScaler, LabelEncoder\n",
    "from sklearn.decomposition import PCA, FastICA, FactorAnalysis\n",
    "from sklearn.metrics import log_loss, roc_auc_score, confusion_matrix\n",
    "from sklearn.neighbors import NearestNeighbors"
   ]
  },
  {
   "cell_type": "code",
   "execution_count": 2,
   "metadata": {},
   "outputs": [],
   "source": [
    "############ HELPER FUNCTIONS\n",
    "\n",
    "import functions\n",
    "import importlib\n",
    "importlib.reload(functions)\n",
    "from functions import *"
   ]
  },
  {
   "cell_type": "code",
   "execution_count": 3,
   "metadata": {},
   "outputs": [],
   "source": [
    "############ RANDOMNESS\n",
    "\n",
    "# seed function\n",
    "def seed_everything(seed = 23):\n",
    "    os.environ['PYTHONHASHSEED'] = str(seed)\n",
    "    random.seed(seed)\n",
    "    np.random.seed(seed)\n",
    "    \n",
    "# set seed\n",
    "seed = 23\n",
    "seed_everything(seed)"
   ]
  },
  {
   "cell_type": "markdown",
   "metadata": {
    "colab_type": "text",
    "id": "NraN1BCPG4Uc"
   },
   "source": [
    "# DATA PREPARATION"
   ]
  },
  {
   "cell_type": "code",
   "execution_count": 4,
   "metadata": {},
   "outputs": [
    {
     "name": "stdout",
     "output_type": "stream",
     "text": [
      "(1097231, 511)\n"
     ]
    }
   ],
   "source": [
    "# import CSV\n",
    "df = pd.read_pickle('../input/data_v9.pkl')\n",
    "print(df.shape)"
   ]
  },
  {
   "cell_type": "code",
   "execution_count": 5,
   "metadata": {
    "colab": {},
    "colab_type": "code",
    "id": "qfsTSMBAG4Uf"
   },
   "outputs": [],
   "source": [
    "# target variable\n",
    "target = 'isFraud'"
   ]
  },
  {
   "cell_type": "code",
   "execution_count": 6,
   "metadata": {
    "colab": {
     "base_uri": "https://localhost:8080/",
     "height": 51
    },
    "colab_type": "code",
    "executionInfo": {
     "elapsed": 1334,
     "status": "ok",
     "timestamp": 1557933093762,
     "user": {
      "displayName": "Elizaveta",
      "photoUrl": "https://lh3.googleusercontent.com/-3-3kSLC4Mzw/AAAAAAAAAAI/AAAAAAAAABg/Usb9K3n3cRI/s64/photo.jpg",
      "userId": "01253993997636551956"
     },
     "user_tz": -120
    },
    "id": "hxJatDSBG4Uh",
    "outputId": "9b7dd4d7-fbf6-493b-d23c-25fdbf58ee37"
   },
   "outputs": [
    {
     "name": "stdout",
     "output_type": "stream",
     "text": [
      "(590540, 511)\n",
      "(506691, 511)\n"
     ]
    }
   ],
   "source": [
    "# partitioning\n",
    "train = df[df[target].isnull() == False]\n",
    "test  = df[df[target].isnull() == True]\n",
    "print(train.shape)\n",
    "print(test.shape)\n",
    "del df"
   ]
  },
  {
   "cell_type": "code",
   "execution_count": 7,
   "metadata": {
    "colab": {},
    "colab_type": "code",
    "id": "vMbdrUNnG4Uk"
   },
   "outputs": [],
   "source": [
    "# extract target\n",
    "y = train[target]\n",
    "del train[target], test[target]"
   ]
  },
  {
   "cell_type": "markdown",
   "metadata": {
    "colab_type": "text",
    "id": "nPX4ljoNG4Un"
   },
   "source": [
    "# MODELING"
   ]
  },
  {
   "cell_type": "markdown",
   "metadata": {
    "colab_type": "text",
    "id": "B69Fdhg0G4Uo"
   },
   "source": [
    "### PARAMETERS"
   ]
  },
  {
   "cell_type": "code",
   "execution_count": 8,
   "metadata": {
    "colab": {
     "base_uri": "https://localhost:8080/",
     "height": 34
    },
    "colab_type": "code",
    "executionInfo": {
     "elapsed": 648,
     "status": "ok",
     "timestamp": 1557933094450,
     "user": {
      "displayName": "Elizaveta",
      "photoUrl": "https://lh3.googleusercontent.com/-3-3kSLC4Mzw/AAAAAAAAAAI/AAAAAAAAABg/Usb9K3n3cRI/s64/photo.jpg",
      "userId": "01253993997636551956"
     },
     "user_tz": -120
    },
    "id": "eWm2I0jDG4Uo",
    "outputId": "89ecbd36-3fac-47aa-dc7f-5b04b4d6081a"
   },
   "outputs": [
    {
     "name": "stdout",
     "output_type": "stream",
     "text": [
      "(590540, 504)\n"
     ]
    }
   ],
   "source": [
    "############ FEAUTERS\n",
    "\n",
    "# drop bad features\n",
    "excluded_feats = ['TransactionID', 'TransactionDT',\n",
    "                  'bank_type',\n",
    "                  'uid1', 'uid2', 'uid3', 'uid4', 'uid5', \n",
    "                  'DT', 'DT_D', 'DT_W', 'DT_M', 'DT_hour', \n",
    "                  'DT_day_week', 'DT_day_month', \n",
    "                  'DT_D_total', 'DT_W_total', 'DT_M_total']\n",
    "features = [f for f in train.columns if f not in excluded_feats]\n",
    "print(train[features].shape)"
   ]
  },
  {
   "cell_type": "code",
   "execution_count": 9,
   "metadata": {
    "colab": {},
    "colab_type": "code",
    "id": "ynozDG6yivwQ"
   },
   "outputs": [],
   "source": [
    "############ PARAMETERS\n",
    "\n",
    "# cores\n",
    "cores = 24\n",
    "\n",
    "# cross-validation\n",
    "num_folds = 6\n",
    "shuffle   = True\n",
    "\n",
    "# number of trees\n",
    "max_rounds = 10000\n",
    "stopping   = 200\n",
    "verbose    = 250\n",
    "\n",
    "# LGB parameters\n",
    "lgb_params = {\n",
    "    'boosting_type':     'gbdt',\n",
    "    'objective':         'binary',\n",
    "    'metric':            'auc',\n",
    "    'bagging_fraction':  0.9,\n",
    "    'feature_fraction':  0.9,\n",
    "    'lambda_l1':         0.1,\n",
    "    'lambda_l2':         0.1,\n",
    "    'min_split_gain':    0,\n",
    "    'min_child_weight':  0.1,\n",
    "    'min_child_samples': 20,\n",
    "    'silent':            True,\n",
    "    'verbosity':         -1,\n",
    "    'learning_rate':     0.01,\n",
    "    'max_depth':         7,\n",
    "    'num_leaves':        256,\n",
    "    'scale_pos_weight':  1,\n",
    "    'n_estimators':      max_rounds,\n",
    "    'nthread' :          cores,\n",
    "    'random_state':      seed,\n",
    "}\n",
    "\n",
    "\n",
    "lgb_params = {\n",
    "                    'objective':'binary',\n",
    "                    'boosting_type':'gbdt',\n",
    "                    'metric':'auc',\n",
    "                    'n_jobs':cores,\n",
    "                    'learning_rate':0.005,\n",
    "                    'num_leaves': 2**8,\n",
    "                    'max_depth':-1,\n",
    "                    'tree_learner':'serial',\n",
    "                    'colsample_bytree': 0.5,\n",
    "                    'subsample_freq':1,\n",
    "                    'subsample':0.8,\n",
    "                    'n_estimators':max_rounds,\n",
    "                    'max_bin':255,\n",
    "                    'verbose':-1,\n",
    "                    'seed': seed,\n",
    "                } \n",
    "\n",
    "\n",
    "# data partitinoing\n",
    "#folds = StratifiedKFold(n_splits = num_folds, random_state = seed, shuffle = shuffle)\n",
    "folds = GroupKFold(n_splits = num_folds)\n",
    "\n",
    "# SMOTE settings\n",
    "#from imblearn.over_sampling import SMOTE\n",
    "#sm = SMOTE(random_state = seed, n_jobs = cores, sampling_strategy = 0.05)"
   ]
  },
  {
   "cell_type": "code",
   "execution_count": 10,
   "metadata": {
    "colab": {},
    "colab_type": "code",
    "id": "9usATBLbG4Uv"
   },
   "outputs": [],
   "source": [
    "############ PLACEHOLDERS\n",
    "\n",
    "# placeholders\n",
    "clfs = []\n",
    "importances = pd.DataFrame()\n",
    "\n",
    "# predictions\n",
    "preds_test   = np.zeros(test.shape[0])\n",
    "preds_oof    = np.zeros(train.shape[0])"
   ]
  },
  {
   "cell_type": "markdown",
   "metadata": {
    "colab_type": "text",
    "id": "OnYbk3yBG4Uz"
   },
   "source": [
    "### CROSS-VALIDATION"
   ]
  },
  {
   "cell_type": "code",
   "execution_count": 12,
   "metadata": {
    "colab": {
     "base_uri": "https://localhost:8080/",
     "height": 918
    },
    "colab_type": "code",
    "executionInfo": {
     "elapsed": 52906,
     "status": "ok",
     "timestamp": 1557933151848,
     "user": {
      "displayName": "Elizaveta",
      "photoUrl": "https://lh3.googleusercontent.com/-3-3kSLC4Mzw/AAAAAAAAAAI/AAAAAAAAABg/Usb9K3n3cRI/s64/photo.jpg",
      "userId": "01253993997636551956"
     },
     "user_tz": -120
    },
    "id": "XdVpCrqxG4U0",
    "outputId": "d2b165a7-c56b-44c0-b62b-466147db5e22"
   },
   "outputs": [
    {
     "name": "stdout",
     "output_type": "stream",
     "text": [
      "Data shape: (453219, 504) (137321, 504)\n",
      "Training until validation scores don't improve for 200 rounds.\n",
      "[250]\ttraining's auc: 0.949337\tvalid_1's auc: 0.883803\n",
      "[500]\ttraining's auc: 0.975508\tvalid_1's auc: 0.897563\n",
      "[750]\ttraining's auc: 0.988813\tvalid_1's auc: 0.905853\n",
      "[1000]\ttraining's auc: 0.994881\tvalid_1's auc: 0.910249\n",
      "[1250]\ttraining's auc: 0.997775\tvalid_1's auc: 0.913335\n",
      "[1500]\ttraining's auc: 0.998998\tvalid_1's auc: 0.915836\n",
      "[1750]\ttraining's auc: 0.999546\tvalid_1's auc: 0.917674\n",
      "[2000]\ttraining's auc: 0.999797\tvalid_1's auc: 0.918873\n",
      "[2250]\ttraining's auc: 0.999905\tvalid_1's auc: 0.919665\n",
      "[2500]\ttraining's auc: 0.999959\tvalid_1's auc: 0.920283\n",
      "[2750]\ttraining's auc: 0.999983\tvalid_1's auc: 0.920786\n",
      "[3000]\ttraining's auc: 0.999993\tvalid_1's auc: 0.92102\n",
      "[3250]\ttraining's auc: 0.999997\tvalid_1's auc: 0.921439\n",
      "[3500]\ttraining's auc: 0.999999\tvalid_1's auc: 0.921398\n",
      "[3750]\ttraining's auc: 1\tvalid_1's auc: 0.921646\n",
      "[4000]\ttraining's auc: 1\tvalid_1's auc: 0.92165\n",
      "Early stopping, best iteration is:\n",
      "[3886]\ttraining's auc: 1\tvalid_1's auc: 0.92174\n",
      "--------------------------------\n",
      "FOLD 1: AUC = 0.921740\n",
      "--------------------------------\n",
      "\n",
      "Data shape: (488908, 504) (101632, 504)\n",
      "Training until validation scores don't improve for 200 rounds.\n",
      "[250]\ttraining's auc: 0.948795\tvalid_1's auc: 0.909299\n",
      "[500]\ttraining's auc: 0.975112\tvalid_1's auc: 0.92443\n",
      "[750]\ttraining's auc: 0.989222\tvalid_1's auc: 0.932272\n",
      "[1000]\ttraining's auc: 0.995255\tvalid_1's auc: 0.936185\n",
      "[1250]\ttraining's auc: 0.997986\tvalid_1's auc: 0.938571\n",
      "[1500]\ttraining's auc: 0.999126\tvalid_1's auc: 0.939917\n",
      "[1750]\ttraining's auc: 0.999612\tvalid_1's auc: 0.940677\n",
      "[2000]\ttraining's auc: 0.999825\tvalid_1's auc: 0.941271\n",
      "[2250]\ttraining's auc: 0.999921\tvalid_1's auc: 0.941646\n",
      "[2500]\ttraining's auc: 0.999966\tvalid_1's auc: 0.94187\n",
      "[2750]\ttraining's auc: 0.999986\tvalid_1's auc: 0.942063\n",
      "[3000]\ttraining's auc: 0.999994\tvalid_1's auc: 0.942225\n",
      "[3250]\ttraining's auc: 0.999998\tvalid_1's auc: 0.942412\n",
      "[3500]\ttraining's auc: 0.999999\tvalid_1's auc: 0.942504\n",
      "Early stopping, best iteration is:\n",
      "[3381]\ttraining's auc: 0.999999\tvalid_1's auc: 0.942524\n",
      "--------------------------------\n",
      "FOLD 2: AUC = 0.942524\n",
      "--------------------------------\n",
      "\n",
      "Data shape: (497955, 504) (92585, 504)\n",
      "Training until validation scores don't improve for 200 rounds.\n",
      "[250]\ttraining's auc: 0.946534\tvalid_1's auc: 0.909325\n",
      "[500]\ttraining's auc: 0.973975\tvalid_1's auc: 0.924392\n",
      "[750]\ttraining's auc: 0.988205\tvalid_1's auc: 0.933655\n",
      "[1000]\ttraining's auc: 0.994671\tvalid_1's auc: 0.938228\n",
      "[1250]\ttraining's auc: 0.997636\tvalid_1's auc: 0.940738\n",
      "[1500]\ttraining's auc: 0.998941\tvalid_1's auc: 0.94243\n",
      "[1750]\ttraining's auc: 0.999517\tvalid_1's auc: 0.943323\n",
      "[2000]\ttraining's auc: 0.999775\tvalid_1's auc: 0.944006\n",
      "[2250]\ttraining's auc: 0.999896\tvalid_1's auc: 0.944462\n",
      "[2500]\ttraining's auc: 0.999952\tvalid_1's auc: 0.944878\n",
      "[2750]\ttraining's auc: 0.999978\tvalid_1's auc: 0.945267\n",
      "[3000]\ttraining's auc: 0.999991\tvalid_1's auc: 0.945554\n",
      "[3250]\ttraining's auc: 0.999996\tvalid_1's auc: 0.945645\n",
      "[3500]\ttraining's auc: 0.999999\tvalid_1's auc: 0.945711\n",
      "[3750]\ttraining's auc: 1\tvalid_1's auc: 0.945832\n",
      "[4000]\ttraining's auc: 1\tvalid_1's auc: 0.945766\n",
      "Early stopping, best iteration is:\n",
      "[3829]\ttraining's auc: 1\tvalid_1's auc: 0.945916\n",
      "--------------------------------\n",
      "FOLD 3: AUC = 0.945916\n",
      "--------------------------------\n",
      "\n",
      "Data shape: (501214, 504) (89326, 504)\n",
      "Training until validation scores don't improve for 200 rounds.\n",
      "[250]\ttraining's auc: 0.947328\tvalid_1's auc: 0.901981\n",
      "[500]\ttraining's auc: 0.973245\tvalid_1's auc: 0.917605\n",
      "[750]\ttraining's auc: 0.987621\tvalid_1's auc: 0.926268\n",
      "[1000]\ttraining's auc: 0.994203\tvalid_1's auc: 0.931273\n",
      "[1250]\ttraining's auc: 0.997414\tvalid_1's auc: 0.933899\n",
      "[1500]\ttraining's auc: 0.998866\tvalid_1's auc: 0.935293\n",
      "[1750]\ttraining's auc: 0.999478\tvalid_1's auc: 0.935944\n",
      "[2000]\ttraining's auc: 0.99975\tvalid_1's auc: 0.936368\n",
      "[2250]\ttraining's auc: 0.999882\tvalid_1's auc: 0.936517\n",
      "[2500]\ttraining's auc: 0.999945\tvalid_1's auc: 0.936752\n",
      "[2750]\ttraining's auc: 0.999975\tvalid_1's auc: 0.936967\n",
      "[3000]\ttraining's auc: 0.999989\tvalid_1's auc: 0.937174\n",
      "[3250]\ttraining's auc: 0.999996\tvalid_1's auc: 0.937205\n",
      "[3500]\ttraining's auc: 0.999999\tvalid_1's auc: 0.937268\n",
      "Early stopping, best iteration is:\n",
      "[3487]\ttraining's auc: 0.999998\tvalid_1's auc: 0.937279\n",
      "--------------------------------\n",
      "FOLD 4: AUC = 0.937279\n",
      "--------------------------------\n",
      "\n",
      "Data shape: (504519, 504) (86021, 504)\n",
      "Training until validation scores don't improve for 200 rounds.\n",
      "[250]\ttraining's auc: 0.946295\tvalid_1's auc: 0.92164\n",
      "[500]\ttraining's auc: 0.973268\tvalid_1's auc: 0.934431\n",
      "[750]\ttraining's auc: 0.987615\tvalid_1's auc: 0.940692\n",
      "[1000]\ttraining's auc: 0.994238\tvalid_1's auc: 0.943857\n",
      "[1250]\ttraining's auc: 0.99737\tvalid_1's auc: 0.945749\n",
      "[1500]\ttraining's auc: 0.998794\tvalid_1's auc: 0.946776\n",
      "[1750]\ttraining's auc: 0.999429\tvalid_1's auc: 0.947382\n",
      "[2000]\ttraining's auc: 0.999728\tvalid_1's auc: 0.947952\n",
      "[2250]\ttraining's auc: 0.999866\tvalid_1's auc: 0.948479\n",
      "[2500]\ttraining's auc: 0.99994\tvalid_1's auc: 0.948729\n",
      "[2750]\ttraining's auc: 0.999973\tvalid_1's auc: 0.948956\n",
      "[3000]\ttraining's auc: 0.999988\tvalid_1's auc: 0.948942\n",
      "Early stopping, best iteration is:\n",
      "[2887]\ttraining's auc: 0.999983\tvalid_1's auc: 0.949025\n",
      "--------------------------------\n",
      "FOLD 5: AUC = 0.949025\n",
      "--------------------------------\n",
      "\n",
      "Data shape: (506885, 504) (83655, 504)\n",
      "Training until validation scores don't improve for 200 rounds.\n",
      "[250]\ttraining's auc: 0.94567\tvalid_1's auc: 0.907793\n",
      "[500]\ttraining's auc: 0.972205\tvalid_1's auc: 0.926772\n",
      "[750]\ttraining's auc: 0.987087\tvalid_1's auc: 0.937502\n",
      "[1000]\ttraining's auc: 0.993976\tvalid_1's auc: 0.942441\n",
      "[1250]\ttraining's auc: 0.997245\tvalid_1's auc: 0.94516\n",
      "[1500]\ttraining's auc: 0.998752\tvalid_1's auc: 0.946668\n",
      "[1750]\ttraining's auc: 0.999412\tvalid_1's auc: 0.947685\n",
      "[2000]\ttraining's auc: 0.999709\tvalid_1's auc: 0.94847\n",
      "[2250]\ttraining's auc: 0.999857\tvalid_1's auc: 0.949045\n",
      "[2500]\ttraining's auc: 0.999931\tvalid_1's auc: 0.94942\n",
      "[2750]\ttraining's auc: 0.999969\tvalid_1's auc: 0.94974\n",
      "[3000]\ttraining's auc: 0.999986\tvalid_1's auc: 0.949836\n",
      "[3250]\ttraining's auc: 0.999994\tvalid_1's auc: 0.950045\n",
      "[3500]\ttraining's auc: 0.999998\tvalid_1's auc: 0.9501\n",
      "[3750]\ttraining's auc: 0.999999\tvalid_1's auc: 0.950145\n",
      "Early stopping, best iteration is:\n",
      "[3711]\ttraining's auc: 0.999999\tvalid_1's auc: 0.950175\n",
      "--------------------------------\n",
      "FOLD 6: AUC = 0.950175\n",
      "--------------------------------\n",
      "\n",
      "--------------------------------\n",
      "- OOF AUC = 0.940302\n",
      "- CV TIME = 1169.21 min\n",
      "--------------------------------\n"
     ]
    }
   ],
   "source": [
    "############ CROSS-VALIDATION LOOP\n",
    "cv_start  = time.time()\n",
    "for n_fold, (trn_idx, val_idx) in enumerate(folds.split(train, y, groups = train['DT_M'])):\n",
    "    \n",
    "    # data partitioning\n",
    "    trn_x, trn_y = train[features].iloc[trn_idx], y.iloc[trn_idx]\n",
    "    val_x, val_y = train[features].iloc[val_idx], y.iloc[val_idx]\n",
    "    test_x       = test[features]\n",
    "    \n",
    "    ## augment training data with SMOTE\n",
    "    #trn_x[trn_x.columns]  = trn_x[trn_x.columns].apply(pd.to_numeric,   errors = 'coerce')\n",
    "    #val_x[val_x.columns]  = val_x[val_x.columns].apply(pd.to_numeric,   errors = 'coerce')\n",
    "    #test_x[val_x.columns] = test_x[test_x.columns].apply(pd.to_numeric, errors = 'coerce')\n",
    "    #trn_x  = trn_x.replace([np.inf,  -np.inf], np.nan)\n",
    "    #val_x  = val_x.replace([np.inf,  -np.inf], np.nan)\n",
    "    #test_x = test_x.replace([np.inf, -np.inf], np.nan)\n",
    "    #trn_x  = trn_x.fillna(trn_x.median())\n",
    "    #val_x  = val_x.fillna(val_x.median())\n",
    "    #test_x = test_x.fillna(test_x.median())\n",
    "    #trn_x, trn_y = sm.fit_sample(trn_x, trn_y)\n",
    "    #trn_x = pd.DataFrame(trn_x, columns = features)\n",
    "    #trn_y = pd.Series(trn_y)\n",
    "    \n",
    "    # label encoding\n",
    "    trn_x, val_x, test_x = label_encoding(trn_x, val_x, test_x)\n",
    "    \n",
    "    ## remove outliers\n",
    "    #for num_var in num_vars:\n",
    "    #    trn_x[num_var] = trn_x[num_var].replace([np.inf, -np.inf], np.nan)\n",
    "    #    trn_x[num_var] = trn_x[num_var].fillna(trn_x[num_var].median())\n",
    "    #out_idx = (np.abs(scipy.stats.zscore(trn_x[num_vars])) < 20).all(axis = 1) + (trn_y.values == 1)\n",
    "    #trn_x = trn_x[out_idx]\n",
    "    #trn_y = trn_y[out_idx]\n",
    "    \n",
    "    ## scale data\n",
    "    #scaler   = RobustScaler()\n",
    "    #trn_x    = pd.DataFrame(scaler.fit_transform(trn_x), columns = features)\n",
    "    #val_x    = pd.DataFrame(scaler.transform(val_x),     columns = features)\n",
    "    #tmp_test = pd.DataFrame(scaler.transform(test_x),    columns = features)\n",
    "       \n",
    "    ## add noise to train to reduce overfitting\n",
    "    #trn_x += np.random.normal(0, 0.01, trn_x.shape)\n",
    "    \n",
    "    # print data dimensions\n",
    "    print('Data shape:', trn_x.shape, val_x.shape)\n",
    "        \n",
    "    # train lightGBM\n",
    "    clf = lgb.LGBMClassifier(**lgb_params) \n",
    "    clf = clf.fit(trn_x, trn_y, \n",
    "                  eval_set              = [(trn_x, trn_y), (val_x, val_y)], \n",
    "                  eval_metric           = 'auc', \n",
    "                  early_stopping_rounds = stopping,\n",
    "                  verbose               = verbose)\n",
    "    clfs.append(clf)\n",
    "    \n",
    "    # find the best iteration\n",
    "    best_iter = clf.best_iteration_\n",
    "\n",
    "    # save predictions\n",
    "    preds_oof[val_idx] = clf.predict_proba(val_x,  num_iteration = best_iter)[:, 1]\n",
    "    preds_test        += clf.predict_proba(test_x, num_iteration = best_iter)[:, 1] / folds.n_splits \n",
    "\n",
    "    # importance\n",
    "    fold_importance_df               = pd.DataFrame()\n",
    "    fold_importance_df['Feature']    = features\n",
    "    fold_importance_df['Importance'] = clf.feature_importances_\n",
    "    fold_importance_df['Fold']       = n_fold + 1\n",
    "    importances                      = pd.concat([importances, fold_importance_df], axis = 0)\n",
    "    \n",
    "    # print performance\n",
    "    print('--------------------------------')\n",
    "    print('FOLD%2d: AUC = %.6f' % (n_fold + 1, roc_auc_score(y[val_idx], preds_oof[val_idx])))\n",
    "    print('--------------------------------')\n",
    "    print('')\n",
    "        \n",
    "    # clear memory\n",
    "    del trn_x, trn_y, val_x, val_y\n",
    "    gc.collect()\n",
    "    \n",
    "    \n",
    "# print overall performance    \n",
    "cv_perf = roc_auc_score(y, preds_oof)\n",
    "print('--------------------------------')\n",
    "print('- OOF AUC = %.6f' % cv_perf)\n",
    "print('- CV TIME = {:.2f} min'.format((time.time() - cv_start) / 60))\n",
    "print('--------------------------------')"
   ]
  },
  {
   "cell_type": "markdown",
   "metadata": {
    "colab_type": "text",
    "id": "OnYbk3yBG4Uz"
   },
   "source": [
    "### EVALUATION"
   ]
  },
  {
   "cell_type": "code",
   "execution_count": 13,
   "metadata": {
    "colab": {},
    "colab_type": "code",
    "id": "qRJGFSmyG4U3"
   },
   "outputs": [
    {
     "name": "stdout",
     "output_type": "stream",
     "text": [
      "0.9403\n"
     ]
    }
   ],
   "source": [
    "############ RECHECK PERFORMANCE  \n",
    "\n",
    "# check performance\n",
    "print(np.round(roc_auc_score(y, preds_oof), 5))\n",
    "\n",
    "\n",
    "############ TRACK RESULTS\n"
   ]
  },
  {
   "cell_type": "code",
   "execution_count": 14,
   "metadata": {
    "colab": {},
    "colab_type": "code",
    "id": "qYJPn6jmG4U6"
   },
   "outputs": [
    {
     "data": {
      "image/png": "[encoded data removed]",
      "text/plain": [
       "<Figure size 720x1080 with 1 Axes>"
      ]
     },
     "metadata": {
      "needs_background": "dark"
     },
     "output_type": "display_data"
    }
   ],
   "source": [
    "############ VARIABLE IMPORTANCE\n",
    "\n",
    "# load importance    \n",
    "top_feats = 100\n",
    "cols = importances[['Feature', 'Importance']].groupby('Feature').mean().sort_values(by = 'Importance', ascending = False)[0:top_feats].index\n",
    "importance = importances.loc[importances.Feature.isin(cols)]\n",
    "    \n",
    "# plot variable importance\n",
    "plt.figure(figsize = (10, 15))\n",
    "sns.barplot(x = 'Importance', y = 'Feature', data = importance.sort_values(by = 'Importance', ascending = False))\n",
    "plt.tight_layout()\n",
    "plt.savefig('../var_importance.pdf')"
   ]
  },
  {
   "cell_type": "code",
   "execution_count": 15,
   "metadata": {},
   "outputs": [
    {
     "data": {
      "image/png": "[encoded data removed]",
      "text/plain": [
       "<Figure size 720x288 with 2 Axes>"
      ]
     },
     "metadata": {
      "needs_background": "dark"
     },
     "output_type": "display_data"
    }
   ],
   "source": [
    "########## CONFUSION MATRIX\n",
    "\n",
    "# construct confusion matrx\n",
    "cm = confusion_matrix(y, np.round(preds_oof))\n",
    "cm = cm.astype('float') / cm.sum(axis = 1)[:, np.newaxis]\n",
    "\n",
    "# plot matrix\n",
    "fig, ax = plt.subplots(figsize = (10, 4))\n",
    "sns.heatmap(cm, cmap = 'Blues', annot = True, lw = 0.5)\n",
    "ax.set_xlabel('Prediction')\n",
    "ax.set_ylabel('Ground Truth')\n",
    "ax.set_aspect('equal')"
   ]
  },
  {
   "cell_type": "markdown",
   "metadata": {
    "colab_type": "text",
    "id": "2dsi_jeGG4VE"
   },
   "source": [
    "# SUBMISSION"
   ]
  },
  {
   "cell_type": "code",
   "execution_count": 16,
   "metadata": {
    "colab": {},
    "colab_type": "code",
    "id": "_Tt_FxCwG4VF"
   },
   "outputs": [
    {
     "data": {
      "text/plain": [
       "'lgb_v9_94030'"
      ]
     },
     "execution_count": 16,
     "metadata": {},
     "output_type": "execute_result"
    }
   ],
   "source": [
    "# file name\n",
    "model = 'lgb_v9'\n",
    "perf  = str(round(cv_perf, 6))[2:7]\n",
    "name  = model + '_' + perf\n",
    "name"
   ]
  },
  {
   "cell_type": "code",
   "execution_count": 17,
   "metadata": {
    "colab": {},
    "colab_type": "code",
    "id": "gukkBbc9G4VH"
   },
   "outputs": [
    {
     "data": {
      "text/html": [
       "<div>\n",
       "<style scoped>\n",
       "    .dataframe tbody tr th:only-of-type {\n",
       "        vertical-align: middle;\n",
       "    }\n",
       "\n",
       "    .dataframe tbody tr th {\n",
       "        vertical-align: top;\n",
       "    }\n",
       "\n",
       "    .dataframe thead th {\n",
       "        text-align: right;\n",
       "    }\n",
       "</style>\n",
       "<table border=\"1\" class=\"dataframe\">\n",
       "  <thead>\n",
       "    <tr style=\"text-align: right;\">\n",
       "      <th></th>\n",
       "      <th>TransactionID</th>\n",
       "      <th>isFraud</th>\n",
       "    </tr>\n",
       "  </thead>\n",
       "  <tbody>\n",
       "    <tr>\n",
       "      <td>0</td>\n",
       "      <td>2987000</td>\n",
       "      <td>0.012934</td>\n",
       "    </tr>\n",
       "    <tr>\n",
       "      <td>1</td>\n",
       "      <td>2987001</td>\n",
       "      <td>0.004078</td>\n",
       "    </tr>\n",
       "    <tr>\n",
       "      <td>2</td>\n",
       "      <td>2987002</td>\n",
       "      <td>0.002925</td>\n",
       "    </tr>\n",
       "    <tr>\n",
       "      <td>3</td>\n",
       "      <td>2987003</td>\n",
       "      <td>0.002768</td>\n",
       "    </tr>\n",
       "    <tr>\n",
       "      <td>4</td>\n",
       "      <td>2987004</td>\n",
       "      <td>0.001473</td>\n",
       "    </tr>\n",
       "  </tbody>\n",
       "</table>\n",
       "</div>"
      ],
      "text/plain": [
       "   TransactionID   isFraud\n",
       "0        2987000  0.012934\n",
       "1        2987001  0.004078\n",
       "2        2987002  0.002925\n",
       "3        2987003  0.002768\n",
       "4        2987004  0.001473"
      ]
     },
     "execution_count": 17,
     "metadata": {},
     "output_type": "execute_result"
    }
   ],
   "source": [
    "# export OOF preds\n",
    "oof = pd.DataFrame({'TransactionID': train['TransactionID'], 'isFraud': preds_oof})\n",
    "oof.to_csv('../oof_preds/' + str(name) + '.csv', index = False)\n",
    "oof.head()"
   ]
  },
  {
   "cell_type": "code",
   "execution_count": 18,
   "metadata": {
    "colab": {},
    "colab_type": "code",
    "id": "gukkBbc9G4VH"
   },
   "outputs": [
    {
     "data": {
      "text/html": [
       "<div>\n",
       "<style scoped>\n",
       "    .dataframe tbody tr th:only-of-type {\n",
       "        vertical-align: middle;\n",
       "    }\n",
       "\n",
       "    .dataframe tbody tr th {\n",
       "        vertical-align: top;\n",
       "    }\n",
       "\n",
       "    .dataframe thead th {\n",
       "        text-align: right;\n",
       "    }\n",
       "</style>\n",
       "<table border=\"1\" class=\"dataframe\">\n",
       "  <thead>\n",
       "    <tr style=\"text-align: right;\">\n",
       "      <th></th>\n",
       "      <th>TransactionID</th>\n",
       "      <th>isFraud</th>\n",
       "    </tr>\n",
       "  </thead>\n",
       "  <tbody>\n",
       "    <tr>\n",
       "      <td>590540</td>\n",
       "      <td>3663549</td>\n",
       "      <td>0.000439</td>\n",
       "    </tr>\n",
       "    <tr>\n",
       "      <td>590541</td>\n",
       "      <td>3663550</td>\n",
       "      <td>0.001329</td>\n",
       "    </tr>\n",
       "    <tr>\n",
       "      <td>590542</td>\n",
       "      <td>3663551</td>\n",
       "      <td>0.001123</td>\n",
       "    </tr>\n",
       "    <tr>\n",
       "      <td>590543</td>\n",
       "      <td>3663552</td>\n",
       "      <td>0.000630</td>\n",
       "    </tr>\n",
       "    <tr>\n",
       "      <td>590544</td>\n",
       "      <td>3663553</td>\n",
       "      <td>0.000699</td>\n",
       "    </tr>\n",
       "  </tbody>\n",
       "</table>\n",
       "</div>"
      ],
      "text/plain": [
       "        TransactionID   isFraud\n",
       "590540        3663549  0.000439\n",
       "590541        3663550  0.001329\n",
       "590542        3663551  0.001123\n",
       "590543        3663552  0.000630\n",
       "590544        3663553  0.000699"
      ]
     },
     "execution_count": 18,
     "metadata": {},
     "output_type": "execute_result"
    }
   ],
   "source": [
    "# export submission\n",
    "sub = pd.DataFrame({'TransactionID': test['TransactionID'], 'isFraud': preds_test})\n",
    "sub.to_csv('../submissions/' + str(name) + '.csv', index = False)\n",
    "sub.head()"
   ]
  },
  {
   "cell_type": "code",
   "execution_count": 19,
   "metadata": {},
   "outputs": [
    {
     "data": {
      "text/plain": [
       "SpearmanrResult(correlation=0.7744039858777817, pvalue=0.0)"
      ]
     },
     "execution_count": 19,
     "metadata": {},
     "output_type": "execute_result"
    }
   ],
   "source": [
    "# check rank correlation with the best submission\n",
    "from scipy.stats import spearmanr\n",
    "sub  = sub.sort_values('TransactionID')\n",
    "best = pd.read_csv(\"../submissions/BlendSolution.csv\")\n",
    "best = best.sort_values('TransactionID')\n",
    "spearmanr(sub.isFraud, best.isFraud)"
   ]
  },
  {
   "cell_type": "markdown",
   "metadata": {
    "colab_type": "text",
    "id": "OnYbk3yBG4Uz"
   },
   "source": [
    "# MODEL WITH TOP FEATURES"
   ]
  },
  {
   "cell_type": "code",
   "execution_count": 20,
   "metadata": {},
   "outputs": [
    {
     "name": "stdout",
     "output_type": "stream",
     "text": [
      "(590540, 444)\n"
     ]
    }
   ],
   "source": [
    "############ SELECT TOP FEAUTERS\n",
    "\n",
    "top_feats = 444\n",
    "cols = importances[['Feature', 'Importance']].groupby('Feature').mean().sort_values(by = 'Importance', ascending = False)[0:top_feats].index\n",
    "\n",
    "features = cols\n",
    "print(train[features].shape)"
   ]
  },
  {
   "cell_type": "code",
   "execution_count": 21,
   "metadata": {
    "colab": {
     "base_uri": "https://localhost:8080/",
     "height": 918
    },
    "colab_type": "code",
    "executionInfo": {
     "elapsed": 52906,
     "status": "ok",
     "timestamp": 1557933151848,
     "user": {
      "displayName": "Elizaveta",
      "photoUrl": "https://lh3.googleusercontent.com/-3-3kSLC4Mzw/AAAAAAAAAAI/AAAAAAAAABg/Usb9K3n3cRI/s64/photo.jpg",
      "userId": "01253993997636551956"
     },
     "user_tz": -120
    },
    "id": "XdVpCrqxG4U0",
    "outputId": "d2b165a7-c56b-44c0-b62b-466147db5e22"
   },
   "outputs": [
    {
     "name": "stdout",
     "output_type": "stream",
     "text": [
      "Data shape: (453219, 444) (137321, 444)\n",
      "Training until validation scores don't improve for 200 rounds.\n",
      "[250]\ttraining's auc: 0.949341\tvalid_1's auc: 0.884652\n",
      "[500]\ttraining's auc: 0.975527\tvalid_1's auc: 0.897847\n",
      "[750]\ttraining's auc: 0.989084\tvalid_1's auc: 0.905396\n",
      "[1000]\ttraining's auc: 0.995033\tvalid_1's auc: 0.910399\n",
      "[1250]\ttraining's auc: 0.997761\tvalid_1's auc: 0.913561\n",
      "[1500]\ttraining's auc: 0.999008\tvalid_1's auc: 0.915662\n",
      "[1750]\ttraining's auc: 0.999549\tvalid_1's auc: 0.91727\n",
      "[2000]\ttraining's auc: 0.999797\tvalid_1's auc: 0.918663\n",
      "[2250]\ttraining's auc: 0.999906\tvalid_1's auc: 0.919569\n",
      "[2500]\ttraining's auc: 0.999959\tvalid_1's auc: 0.920258\n",
      "[2750]\ttraining's auc: 0.999982\tvalid_1's auc: 0.920686\n",
      "[3000]\ttraining's auc: 0.999993\tvalid_1's auc: 0.920883\n",
      "[3250]\ttraining's auc: 0.999997\tvalid_1's auc: 0.921313\n",
      "[3500]\ttraining's auc: 0.999999\tvalid_1's auc: 0.921626\n",
      "[3750]\ttraining's auc: 1\tvalid_1's auc: 0.92184\n",
      "[4000]\ttraining's auc: 1\tvalid_1's auc: 0.922001\n",
      "[4250]\ttraining's auc: 1\tvalid_1's auc: 0.921983\n",
      "Early stopping, best iteration is:\n",
      "[4060]\ttraining's auc: 1\tvalid_1's auc: 0.922109\n",
      "--------------------------------\n",
      "FOLD 1: AUC = 0.922109\n",
      "--------------------------------\n",
      "\n",
      "Data shape: (488908, 444) (101632, 444)\n",
      "Training until validation scores don't improve for 200 rounds.\n",
      "[250]\ttraining's auc: 0.948634\tvalid_1's auc: 0.908111\n",
      "[500]\ttraining's auc: 0.974774\tvalid_1's auc: 0.923311\n",
      "[750]\ttraining's auc: 0.989111\tvalid_1's auc: 0.931668\n",
      "[1000]\ttraining's auc: 0.995263\tvalid_1's auc: 0.935857\n",
      "[1250]\ttraining's auc: 0.99799\tvalid_1's auc: 0.938033\n",
      "[1500]\ttraining's auc: 0.999115\tvalid_1's auc: 0.93932\n",
      "[1750]\ttraining's auc: 0.99961\tvalid_1's auc: 0.940031\n",
      "[2000]\ttraining's auc: 0.999823\tvalid_1's auc: 0.940714\n",
      "[2250]\ttraining's auc: 0.999921\tvalid_1's auc: 0.941065\n",
      "[2500]\ttraining's auc: 0.999966\tvalid_1's auc: 0.941317\n",
      "[2750]\ttraining's auc: 0.999986\tvalid_1's auc: 0.941497\n",
      "[3000]\ttraining's auc: 0.999995\tvalid_1's auc: 0.941623\n",
      "Early stopping, best iteration is:\n",
      "[2900]\ttraining's auc: 0.999992\tvalid_1's auc: 0.941666\n",
      "--------------------------------\n",
      "FOLD 2: AUC = 0.941666\n",
      "--------------------------------\n",
      "\n",
      "Data shape: (497955, 444) (92585, 444)\n",
      "Training until validation scores don't improve for 200 rounds.\n",
      "[250]\ttraining's auc: 0.946136\tvalid_1's auc: 0.908834\n",
      "[500]\ttraining's auc: 0.973454\tvalid_1's auc: 0.924059\n",
      "[750]\ttraining's auc: 0.987958\tvalid_1's auc: 0.933653\n",
      "[1000]\ttraining's auc: 0.99453\tvalid_1's auc: 0.938375\n",
      "[1250]\ttraining's auc: 0.99759\tvalid_1's auc: 0.941253\n",
      "[1500]\ttraining's auc: 0.998915\tvalid_1's auc: 0.942681\n",
      "[1750]\ttraining's auc: 0.999495\tvalid_1's auc: 0.943771\n",
      "[2000]\ttraining's auc: 0.999769\tvalid_1's auc: 0.944578\n",
      "[2250]\ttraining's auc: 0.999894\tvalid_1's auc: 0.945085\n",
      "[2500]\ttraining's auc: 0.99995\tvalid_1's auc: 0.945494\n",
      "[2750]\ttraining's auc: 0.999978\tvalid_1's auc: 0.945953\n",
      "[3000]\ttraining's auc: 0.999991\tvalid_1's auc: 0.946135\n",
      "[3250]\ttraining's auc: 0.999997\tvalid_1's auc: 0.946471\n",
      "[3500]\ttraining's auc: 0.999999\tvalid_1's auc: 0.946476\n",
      "Early stopping, best iteration is:\n",
      "[3397]\ttraining's auc: 0.999998\tvalid_1's auc: 0.946549\n",
      "--------------------------------\n",
      "FOLD 3: AUC = 0.946549\n",
      "--------------------------------\n",
      "\n",
      "Data shape: (501214, 444) (89326, 444)\n",
      "Training until validation scores don't improve for 200 rounds.\n",
      "[250]\ttraining's auc: 0.947225\tvalid_1's auc: 0.901287\n",
      "[500]\ttraining's auc: 0.972997\tvalid_1's auc: 0.917286\n",
      "[750]\ttraining's auc: 0.987528\tvalid_1's auc: 0.925801\n",
      "[1000]\ttraining's auc: 0.994247\tvalid_1's auc: 0.930666\n",
      "[1250]\ttraining's auc: 0.997453\tvalid_1's auc: 0.933225\n",
      "[1500]\ttraining's auc: 0.99889\tvalid_1's auc: 0.934742\n",
      "[1750]\ttraining's auc: 0.999484\tvalid_1's auc: 0.935768\n",
      "[2000]\ttraining's auc: 0.999752\tvalid_1's auc: 0.936312\n",
      "[2250]\ttraining's auc: 0.999882\tvalid_1's auc: 0.936534\n",
      "[2500]\ttraining's auc: 0.999946\tvalid_1's auc: 0.936852\n",
      "[2750]\ttraining's auc: 0.999976\tvalid_1's auc: 0.937007\n",
      "[3000]\ttraining's auc: 0.99999\tvalid_1's auc: 0.937208\n",
      "[3250]\ttraining's auc: 0.999996\tvalid_1's auc: 0.937238\n",
      "Early stopping, best iteration is:\n",
      "[3194]\ttraining's auc: 0.999995\tvalid_1's auc: 0.937322\n",
      "--------------------------------\n",
      "FOLD 4: AUC = 0.937322\n",
      "--------------------------------\n",
      "\n",
      "Data shape: (504519, 444) (86021, 444)\n",
      "Training until validation scores don't improve for 200 rounds.\n",
      "[250]\ttraining's auc: 0.947159\tvalid_1's auc: 0.921291\n",
      "[500]\ttraining's auc: 0.973344\tvalid_1's auc: 0.934466\n",
      "[750]\ttraining's auc: 0.987525\tvalid_1's auc: 0.940792\n",
      "[1000]\ttraining's auc: 0.994243\tvalid_1's auc: 0.943871\n",
      "[1250]\ttraining's auc: 0.997402\tvalid_1's auc: 0.945942\n",
      "[1500]\ttraining's auc: 0.998829\tvalid_1's auc: 0.947093\n",
      "[1750]\ttraining's auc: 0.999436\tvalid_1's auc: 0.947917\n",
      "[2000]\ttraining's auc: 0.999728\tvalid_1's auc: 0.948333\n",
      "[2250]\ttraining's auc: 0.999869\tvalid_1's auc: 0.948613\n",
      "[2500]\ttraining's auc: 0.999938\tvalid_1's auc: 0.948833\n",
      "[2750]\ttraining's auc: 0.999972\tvalid_1's auc: 0.948864\n",
      "Early stopping, best iteration is:\n",
      "[2594]\ttraining's auc: 0.999954\tvalid_1's auc: 0.948933\n",
      "--------------------------------\n",
      "FOLD 5: AUC = 0.948933\n",
      "--------------------------------\n",
      "\n",
      "Data shape: (506885, 444) (83655, 444)\n",
      "Training until validation scores don't improve for 200 rounds.\n",
      "[250]\ttraining's auc: 0.946069\tvalid_1's auc: 0.906989\n",
      "[500]\ttraining's auc: 0.9724\tvalid_1's auc: 0.926069\n",
      "[750]\ttraining's auc: 0.987187\tvalid_1's auc: 0.936654\n",
      "[1000]\ttraining's auc: 0.993942\tvalid_1's auc: 0.941501\n",
      "[1250]\ttraining's auc: 0.997194\tvalid_1's auc: 0.944366\n",
      "[1500]\ttraining's auc: 0.998713\tvalid_1's auc: 0.94626\n",
      "[1750]\ttraining's auc: 0.999392\tvalid_1's auc: 0.947273\n",
      "[2000]\ttraining's auc: 0.9997\tvalid_1's auc: 0.948168\n",
      "[2250]\ttraining's auc: 0.999856\tvalid_1's auc: 0.948713\n",
      "[2500]\ttraining's auc: 0.999932\tvalid_1's auc: 0.949208\n",
      "[2750]\ttraining's auc: 0.999969\tvalid_1's auc: 0.949438\n",
      "[3000]\ttraining's auc: 0.999986\tvalid_1's auc: 0.949646\n",
      "[3250]\ttraining's auc: 0.999994\tvalid_1's auc: 0.950002\n",
      "Early stopping, best iteration is:\n",
      "[3225]\ttraining's auc: 0.999994\tvalid_1's auc: 0.950039\n",
      "--------------------------------\n",
      "FOLD 6: AUC = 0.950039\n",
      "--------------------------------\n",
      "\n",
      "--------------------------------\n",
      "- OOF AUC = 0.940060\n",
      "- CV TIME = 94.22 min\n",
      "--------------------------------\n"
     ]
    }
   ],
   "source": [
    "############ CROSS-VALIDATION LOOP\n",
    "cv_start  = time.time()\n",
    "for n_fold, (trn_idx, val_idx) in enumerate(folds.split(train, y, groups = train['DT_M'])):\n",
    "    \n",
    "    # data partitioning\n",
    "    trn_x, trn_y = train[features].iloc[trn_idx], y.iloc[trn_idx]\n",
    "    val_x, val_y = train[features].iloc[val_idx], y.iloc[val_idx]\n",
    "    test_x       = test[features]\n",
    "    \n",
    "    # label encoding\n",
    "    trn_x, val_x, test_x = label_encoding(trn_x, val_x, test_x)\n",
    "    \n",
    "    # print data dimensions\n",
    "    print('Data shape:', trn_x.shape, val_x.shape)\n",
    "        \n",
    "    # train lightGBM\n",
    "    clf = lgb.LGBMClassifier(**lgb_params) \n",
    "    clf = clf.fit(trn_x, trn_y, \n",
    "                  eval_set              = [(trn_x, trn_y), (val_x, val_y)], \n",
    "                  eval_metric           = 'auc', \n",
    "                  early_stopping_rounds = stopping,\n",
    "                  verbose               = verbose)\n",
    "    clfs.append(clf)\n",
    "    \n",
    "    # find the best iteration\n",
    "    best_iter = clf.best_iteration_\n",
    "\n",
    "    # save predictions\n",
    "    preds_oof[val_idx] = clf.predict_proba(val_x,  num_iteration = best_iter)[:, 1]\n",
    "    preds_test        += clf.predict_proba(test_x, num_iteration = best_iter)[:, 1] / folds.n_splits \n",
    "\n",
    "    # importance\n",
    "    fold_importance_df               = pd.DataFrame()\n",
    "    fold_importance_df['Feature']    = features\n",
    "    fold_importance_df['Importance'] = clf.feature_importances_\n",
    "    fold_importance_df['Fold']       = n_fold + 1\n",
    "    importances                      = pd.concat([importances, fold_importance_df], axis = 0)\n",
    "    \n",
    "    # print performance\n",
    "    print('--------------------------------')\n",
    "    print('FOLD%2d: AUC = %.6f' % (n_fold + 1, roc_auc_score(y[val_idx], preds_oof[val_idx])))\n",
    "    print('--------------------------------')\n",
    "    print('')\n",
    "        \n",
    "    # clear memory\n",
    "    del trn_x, trn_y, val_x, val_y\n",
    "    gc.collect()\n",
    "    \n",
    "    \n",
    "# print overall performance    \n",
    "cv_perf = roc_auc_score(y, preds_oof)\n",
    "print('--------------------------------')\n",
    "print('- OOF AUC = %.6f' % cv_perf)\n",
    "print('- CV TIME = {:.2f} min'.format((time.time() - cv_start) / 60))\n",
    "print('--------------------------------')"
   ]
  },
  {
   "cell_type": "code",
   "execution_count": 22,
   "metadata": {
    "colab": {},
    "colab_type": "code",
    "id": "_Tt_FxCwG4VF"
   },
   "outputs": [
    {
     "data": {
      "text/plain": [
       "'lgb_v9fs_94006'"
      ]
     },
     "execution_count": 22,
     "metadata": {},
     "output_type": "execute_result"
    }
   ],
   "source": [
    "# file name\n",
    "model = 'lgb_v9fs'\n",
    "perf  = str(round(cv_perf, 6))[2:7]\n",
    "name  = model + '_' + perf\n",
    "name"
   ]
  },
  {
   "cell_type": "code",
   "execution_count": 23,
   "metadata": {
    "colab": {},
    "colab_type": "code",
    "id": "gukkBbc9G4VH"
   },
   "outputs": [
    {
     "data": {
      "text/html": [
       "<div>\n",
       "<style scoped>\n",
       "    .dataframe tbody tr th:only-of-type {\n",
       "        vertical-align: middle;\n",
       "    }\n",
       "\n",
       "    .dataframe tbody tr th {\n",
       "        vertical-align: top;\n",
       "    }\n",
       "\n",
       "    .dataframe thead th {\n",
       "        text-align: right;\n",
       "    }\n",
       "</style>\n",
       "<table border=\"1\" class=\"dataframe\">\n",
       "  <thead>\n",
       "    <tr style=\"text-align: right;\">\n",
       "      <th></th>\n",
       "      <th>TransactionID</th>\n",
       "      <th>isFraud</th>\n",
       "    </tr>\n",
       "  </thead>\n",
       "  <tbody>\n",
       "    <tr>\n",
       "      <td>0</td>\n",
       "      <td>2987000</td>\n",
       "      <td>0.013705</td>\n",
       "    </tr>\n",
       "    <tr>\n",
       "      <td>1</td>\n",
       "      <td>2987001</td>\n",
       "      <td>0.004549</td>\n",
       "    </tr>\n",
       "    <tr>\n",
       "      <td>2</td>\n",
       "      <td>2987002</td>\n",
       "      <td>0.003304</td>\n",
       "    </tr>\n",
       "    <tr>\n",
       "      <td>3</td>\n",
       "      <td>2987003</td>\n",
       "      <td>0.002294</td>\n",
       "    </tr>\n",
       "    <tr>\n",
       "      <td>4</td>\n",
       "      <td>2987004</td>\n",
       "      <td>0.001193</td>\n",
       "    </tr>\n",
       "  </tbody>\n",
       "</table>\n",
       "</div>"
      ],
      "text/plain": [
       "   TransactionID   isFraud\n",
       "0        2987000  0.013705\n",
       "1        2987001  0.004549\n",
       "2        2987002  0.003304\n",
       "3        2987003  0.002294\n",
       "4        2987004  0.001193"
      ]
     },
     "execution_count": 23,
     "metadata": {},
     "output_type": "execute_result"
    }
   ],
   "source": [
    "# export OOF preds\n",
    "oof = pd.DataFrame({'TransactionID': train['TransactionID'], 'isFraud': preds_oof})\n",
    "oof.to_csv('../oof_preds/' + str(name) + '.csv', index = False)\n",
    "oof.head()"
   ]
  },
  {
   "cell_type": "code",
   "execution_count": 24,
   "metadata": {
    "colab": {},
    "colab_type": "code",
    "id": "gukkBbc9G4VH"
   },
   "outputs": [
    {
     "data": {
      "text/html": [
       "<div>\n",
       "<style scoped>\n",
       "    .dataframe tbody tr th:only-of-type {\n",
       "        vertical-align: middle;\n",
       "    }\n",
       "\n",
       "    .dataframe tbody tr th {\n",
       "        vertical-align: top;\n",
       "    }\n",
       "\n",
       "    .dataframe thead th {\n",
       "        text-align: right;\n",
       "    }\n",
       "</style>\n",
       "<table border=\"1\" class=\"dataframe\">\n",
       "  <thead>\n",
       "    <tr style=\"text-align: right;\">\n",
       "      <th></th>\n",
       "      <th>TransactionID</th>\n",
       "      <th>isFraud</th>\n",
       "    </tr>\n",
       "  </thead>\n",
       "  <tbody>\n",
       "    <tr>\n",
       "      <td>590540</td>\n",
       "      <td>3663549</td>\n",
       "      <td>0.000942</td>\n",
       "    </tr>\n",
       "    <tr>\n",
       "      <td>590541</td>\n",
       "      <td>3663550</td>\n",
       "      <td>0.002986</td>\n",
       "    </tr>\n",
       "    <tr>\n",
       "      <td>590542</td>\n",
       "      <td>3663551</td>\n",
       "      <td>0.002389</td>\n",
       "    </tr>\n",
       "    <tr>\n",
       "      <td>590543</td>\n",
       "      <td>3663552</td>\n",
       "      <td>0.001257</td>\n",
       "    </tr>\n",
       "    <tr>\n",
       "      <td>590544</td>\n",
       "      <td>3663553</td>\n",
       "      <td>0.001438</td>\n",
       "    </tr>\n",
       "  </tbody>\n",
       "</table>\n",
       "</div>"
      ],
      "text/plain": [
       "        TransactionID   isFraud\n",
       "590540        3663549  0.000942\n",
       "590541        3663550  0.002986\n",
       "590542        3663551  0.002389\n",
       "590543        3663552  0.001257\n",
       "590544        3663553  0.001438"
      ]
     },
     "execution_count": 24,
     "metadata": {},
     "output_type": "execute_result"
    }
   ],
   "source": [
    "# export submission\n",
    "sub = pd.DataFrame({'TransactionID': test['TransactionID'], 'isFraud': preds_test})\n",
    "sub.to_csv('../submissions/' + str(name) + '.csv', index = False)\n",
    "sub.head()"
   ]
  },
  {
   "cell_type": "code",
   "execution_count": 25,
   "metadata": {},
   "outputs": [
    {
     "data": {
      "text/plain": [
       "SpearmanrResult(correlation=0.7749301912212568, pvalue=0.0)"
      ]
     },
     "execution_count": 25,
     "metadata": {},
     "output_type": "execute_result"
    }
   ],
   "source": [
    "# check rank correlation with the best submission\n",
    "from scipy.stats import spearmanr\n",
    "sub  = sub.sort_values('TransactionID')\n",
    "best = pd.read_csv(\"../submissions/BlendSolution.csv\")\n",
    "best = best.sort_values('TransactionID')\n",
    "spearmanr(sub.isFraud, best.isFraud)"
   ]
  }
 ],
 "metadata": {
  "colab": {
   "collapsed_sections": [],
   "name": "code_2_lgb_main.ipynb",
   "provenance": [],
   "version": "0.3.2"
  },
  "kernelspec": {
   "display_name": "Python 3",
   "language": "python",
   "name": "python3"
  },
  "language_info": {
   "codemirror_mode": {
    "name": "ipython",
    "version": 3
   },
   "file_extension": ".py",
   "mimetype": "text/x-python",
   "name": "python",
   "nbconvert_exporter": "python",
   "pygments_lexer": "ipython3",
   "version": "3.7.1"
  }
 },
 "nbformat": 4,
 "nbformat_minor": 4
}
