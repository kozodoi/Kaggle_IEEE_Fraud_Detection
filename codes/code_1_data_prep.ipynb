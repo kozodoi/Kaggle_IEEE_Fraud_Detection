{
 "cells": [
  {
   "cell_type": "markdown",
   "metadata": {},
   "source": [
    "# SETTINGS"
   ]
  },
  {
   "cell_type": "code",
   "execution_count": null,
   "metadata": {},
   "outputs": [],
   "source": [
    "############ LIBRARIES\n",
    "\n",
    "import numpy as np\n",
    "import pandas as pd\n",
    "pd.set_option('display.max_columns', None)\n",
    "\n",
    "import matplotlib.pyplot as plt\n",
    "import seaborn as sns\n",
    "plt.style.use('dark_background')\n",
    "%matplotlib inline\n",
    "\n",
    "import os\n",
    "import time\n",
    "import datetime\n",
    "import random\n",
    "import multiprocessing\n",
    "import pickle\n",
    "\n",
    "import scipy.stats\n",
    "\n",
    "import gc\n",
    "gc.enable()\n",
    "\n",
    "import warnings\n",
    "warnings.filterwarnings('ignore')"
   ]
  },
  {
   "cell_type": "code",
   "execution_count": null,
   "metadata": {},
   "outputs": [],
   "source": [
    "############ HELPER FUNCTIONS\n",
    "\n",
    "import functions\n",
    "import importlib\n",
    "importlib.reload(functions)\n",
    "from functions import *"
   ]
  },
  {
   "cell_type": "code",
   "execution_count": null,
   "metadata": {},
   "outputs": [],
   "source": [
    "############ RANDOMNESS\n",
    "\n",
    "# seed function\n",
    "def seed_everything(seed = 23):\n",
    "    os.environ['PYTHONHASHSEED'] = str(seed)\n",
    "    random.seed(seed)\n",
    "    np.random.seed(seed)\n",
    "    \n",
    "# set seed\n",
    "seed = 23\n",
    "seed_everything(seed)"
   ]
  },
  {
   "cell_type": "markdown",
   "metadata": {},
   "source": [
    "# IMPORT"
   ]
  },
  {
   "cell_type": "code",
   "execution_count": null,
   "metadata": {},
   "outputs": [],
   "source": [
    "############ DATA IMPORT\n",
    "\n",
    "# id data\n",
    "train_id = pd.read_csv('../input/train_identity.csv')\n",
    "test_id  = pd.read_csv('../input/test_identity.csv')\n",
    "\n",
    "# transaction data\n",
    "train_tr = pd.read_csv('../input/train_transaction.csv')\n",
    "test_tr  = pd.read_csv('../input/test_transaction.csv')\n",
    "\n",
    "# check dimensions\n",
    "print(train_id.shape)\n",
    "print(train_tr.shape)\n",
    "print('-'*15)\n",
    "print(test_id.shape)\n",
    "print(test_tr.shape)"
   ]
  },
  {
   "cell_type": "code",
   "execution_count": null,
   "metadata": {},
   "outputs": [],
   "source": [
    "# check data\n",
    "train_id.head()"
   ]
  },
  {
   "cell_type": "code",
   "execution_count": null,
   "metadata": {},
   "outputs": [],
   "source": [
    "# check data\n",
    "train_tr.head()"
   ]
  },
  {
   "cell_type": "markdown",
   "metadata": {},
   "source": [
    "# MERGER"
   ]
  },
  {
   "cell_type": "code",
   "execution_count": null,
   "metadata": {},
   "outputs": [],
   "source": [
    "# target variable\n",
    "target = 'isFraud'\n",
    "test_tr[target]  = np.nan"
   ]
  },
  {
   "cell_type": "code",
   "execution_count": null,
   "metadata": {},
   "outputs": [],
   "source": [
    "############ ALIGN DATA SETS\n",
    "\n",
    "# align columns\n",
    "train_tr = train_tr.reindex(sorted(train_tr.columns), axis = 1)\n",
    "train_id = train_id.reindex(sorted(train_id.columns), axis = 1)\n",
    "test_tr  = test_tr.reindex(sorted(test_tr.columns),   axis = 1)\n",
    "test_id  = test_id.reindex(sorted(test_id.columns),   axis = 1)\n",
    "\n",
    "# check equalty\n",
    "print(np.all(train_tr.columns == test_tr.columns))\n",
    "print(np.all(train_id.columns == test_id.columns))"
   ]
  },
  {
   "cell_type": "code",
   "execution_count": null,
   "metadata": {},
   "outputs": [],
   "source": [
    "############ MERGE TRAIN & TEST\n",
    "\n",
    "# rbind columns\n",
    "df_tr = pd.concat([train_tr, test_tr], axis = 0)\n",
    "df_id = pd.concat([train_id, test_id], axis = 0)\n",
    "print(df_tr.shape)\n",
    "print(df_id.shape)\n",
    "\n",
    "# clear memory\n",
    "del train_tr, test_tr\n",
    "del train_id, test_id"
   ]
  },
  {
   "cell_type": "code",
   "execution_count": null,
   "metadata": {},
   "outputs": [],
   "source": [
    "# merge ID and transactions\n",
    "df = pd.merge(df_tr, df_id, on = 'TransactionID', how = 'left')\n",
    "print(df.shape)\n",
    "del df_tr, df_id"
   ]
  },
  {
   "cell_type": "markdown",
   "metadata": {},
   "source": [
    "# PROCESSING"
   ]
  },
  {
   "cell_type": "markdown",
   "metadata": {},
   "source": [
    "### COMPRESS"
   ]
  },
  {
   "cell_type": "code",
   "execution_count": null,
   "metadata": {},
   "outputs": [],
   "source": [
    "# compress data\n",
    "df = reduce_mem_usage(df)"
   ]
  },
  {
   "cell_type": "markdown",
   "metadata": {},
   "source": [
    "### DROP IRRELEVANT FEATURES"
   ]
  },
  {
   "cell_type": "code",
   "execution_count": null,
   "metadata": {},
   "outputs": [],
   "source": [
    "# remove columns with a single value\n",
    "print(df.shape)\n",
    "df = df.loc[:, df.nunique(dropna = False) != 1]\n",
    "print(df.shape)"
   ]
  },
  {
   "cell_type": "code",
   "execution_count": null,
   "metadata": {},
   "outputs": [],
   "source": [
    "# remove irrelevant columns\n",
    "print(df.shape)\n",
    "drops = []\n",
    "for var in drops:\n",
    "    del df[var]\n",
    "print(df.shape)"
   ]
  },
  {
   "cell_type": "markdown",
   "metadata": {},
   "source": [
    "### MISSING VALUES"
   ]
  },
  {
   "cell_type": "code",
   "execution_count": null,
   "metadata": {},
   "outputs": [],
   "source": [
    "# check missings\n",
    "count_missings(df)"
   ]
  },
  {
   "cell_type": "raw",
   "metadata": {},
   "source": [
    "# impute NA with 0\n",
    "nas = []\n",
    "for var in nas:\n",
    "    df[var].fillna(0, inplace = True)"
   ]
  },
  {
   "cell_type": "raw",
   "metadata": {},
   "source": [
    "# impute NA with means\n",
    "df = df.replace([np.inf, -np.inf], np.nan)\n",
    "nas = []\n",
    "for var in nas:\n",
    "    df[var].fillna(df[var].mean(), inplace = True)"
   ]
  },
  {
   "cell_type": "markdown",
   "metadata": {},
   "source": [
    "### VARIABLE TYPES"
   ]
  },
  {
   "cell_type": "code",
   "execution_count": null,
   "metadata": {},
   "outputs": [],
   "source": [
    "# check data types\n",
    "df.dtypes"
   ]
  },
  {
   "cell_type": "code",
   "execution_count": null,
   "metadata": {},
   "outputs": [],
   "source": [
    "# check distributions\n",
    "df.describe()"
   ]
  },
  {
   "cell_type": "code",
   "execution_count": null,
   "metadata": {},
   "outputs": [],
   "source": [
    "# check value counts\n",
    "facs = [f for f in df.columns if df[f].dtype == \"object\"]\n",
    "for fac in facs:\n",
    "    print('--------------------------------')\n",
    "    print(fac + ': ' + str(df[fac].nunique()) + ' unique values')\n",
    "    print('--------------------------------')\n",
    "    print(df[fac].value_counts(normalize = True, dropna = False).head(2))\n",
    "    print('--------------------------------')\n",
    "    print('')"
   ]
  },
  {
   "cell_type": "code",
   "execution_count": null,
   "metadata": {},
   "outputs": [],
   "source": [
    "# class imbalance\n",
    "df[target].value_counts(normalize = True, dropna = True)"
   ]
  },
  {
   "cell_type": "markdown",
   "metadata": {},
   "source": [
    "# EXPORT"
   ]
  },
  {
   "cell_type": "code",
   "execution_count": null,
   "metadata": {},
   "outputs": [],
   "source": [
    "# export data\n",
    "df.to_pickle(\"../input/data.pkl\")\n",
    "df.shape"
   ]
  }
 ],
 "metadata": {
  "kernelspec": {
   "display_name": "Python 3",
   "language": "python",
   "name": "python3"
  },
  "language_info": {
   "codemirror_mode": {
    "name": "ipython",
    "version": 3
   },
   "file_extension": ".py",
   "mimetype": "text/x-python",
   "name": "python",
   "nbconvert_exporter": "python",
   "pygments_lexer": "ipython3",
   "version": "3.7.1"
  }
 },
 "nbformat": 4,
 "nbformat_minor": 4
}
