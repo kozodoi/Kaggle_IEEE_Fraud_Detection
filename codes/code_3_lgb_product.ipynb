{
 "cells": [
  {
   "cell_type": "markdown",
   "metadata": {
    "colab_type": "text",
    "id": "rDg2hoRrG4UL"
   },
   "source": [
    "# SETTINGS"
   ]
  },
  {
   "cell_type": "code",
   "execution_count": 1,
   "metadata": {
    "colab": {},
    "colab_type": "code",
    "id": "2QpPWtHZG4UM"
   },
   "outputs": [],
   "source": [
    "############ LIBRARIES\n",
    "\n",
    "import numpy as np\n",
    "import pandas as pd\n",
    "pd.set_option('display.max_columns', None)\n",
    "\n",
    "import matplotlib.pyplot as plt\n",
    "import seaborn as sns\n",
    "plt.style.use('dark_background')\n",
    "%matplotlib inline\n",
    "\n",
    "import os\n",
    "import time\n",
    "import random\n",
    "import multiprocessing\n",
    "import pickle\n",
    "\n",
    "import scipy.stats\n",
    "\n",
    "import gc\n",
    "gc.enable()\n",
    "\n",
    "import warnings\n",
    "warnings.filterwarnings('ignore')\n",
    "\n",
    "import lightgbm as lgb\n",
    "\n",
    "from sklearn.model_selection import KFold, StratifiedKFold, GroupKFold\n",
    "from sklearn.preprocessing import RobustScaler, LabelEncoder\n",
    "from sklearn.decomposition import PCA, FastICA, FactorAnalysis\n",
    "from sklearn.metrics import log_loss, roc_auc_score, confusion_matrix\n",
    "from sklearn.neighbors import NearestNeighbors"
   ]
  },
  {
   "cell_type": "code",
   "execution_count": 2,
   "metadata": {},
   "outputs": [],
   "source": [
    "############ HELPER FUNCTIONS\n",
    "\n",
    "import functions\n",
    "import importlib\n",
    "importlib.reload(functions)\n",
    "from functions import *"
   ]
  },
  {
   "cell_type": "code",
   "execution_count": 3,
   "metadata": {},
   "outputs": [],
   "source": [
    "############ RANDOMNESS\n",
    "\n",
    "# seed function\n",
    "def seed_everything(seed = 23):\n",
    "    os.environ['PYTHONHASHSEED'] = str(seed)\n",
    "    random.seed(seed)\n",
    "    np.random.seed(seed)\n",
    "    \n",
    "# set seed\n",
    "seed = 23\n",
    "seed_everything(seed)"
   ]
  },
  {
   "cell_type": "markdown",
   "metadata": {
    "colab_type": "text",
    "id": "NraN1BCPG4Uc"
   },
   "source": [
    "# DATA PREPARATION"
   ]
  },
  {
   "cell_type": "code",
   "execution_count": 4,
   "metadata": {
    "colab": {
     "base_uri": "https://localhost:8080/",
     "height": 34
    },
    "colab_type": "code",
    "executionInfo": {
     "elapsed": 1771,
     "status": "ok",
     "timestamp": 1557933093757,
     "user": {
      "displayName": "Elizaveta",
      "photoUrl": "https://lh3.googleusercontent.com/-3-3kSLC4Mzw/AAAAAAAAAAI/AAAAAAAAABg/Usb9K3n3cRI/s64/photo.jpg",
      "userId": "01253993997636551956"
     },
     "user_tz": -120
    },
    "id": "7QV5eQHHG4Ud",
    "outputId": "2389881e-8c0a-4518-c185-d0a84d1d4a67"
   },
   "outputs": [
    {
     "name": "stdout",
     "output_type": "stream",
     "text": [
      "(1097231, 511)\n"
     ]
    }
   ],
   "source": [
    "# import CSV\n",
    "df = pd.read_pickle('../input/data_v9.pkl')\n",
    "print(df.shape)"
   ]
  },
  {
   "cell_type": "code",
   "execution_count": 5,
   "metadata": {
    "colab": {},
    "colab_type": "code",
    "id": "qfsTSMBAG4Uf"
   },
   "outputs": [],
   "source": [
    "# target variable\n",
    "target = 'isFraud'"
   ]
  },
  {
   "cell_type": "code",
   "execution_count": 6,
   "metadata": {
    "colab": {
     "base_uri": "https://localhost:8080/",
     "height": 51
    },
    "colab_type": "code",
    "executionInfo": {
     "elapsed": 1334,
     "status": "ok",
     "timestamp": 1557933093762,
     "user": {
      "displayName": "Elizaveta",
      "photoUrl": "https://lh3.googleusercontent.com/-3-3kSLC4Mzw/AAAAAAAAAAI/AAAAAAAAABg/Usb9K3n3cRI/s64/photo.jpg",
      "userId": "01253993997636551956"
     },
     "user_tz": -120
    },
    "id": "hxJatDSBG4Uh",
    "outputId": "9b7dd4d7-fbf6-493b-d23c-25fdbf58ee37"
   },
   "outputs": [
    {
     "name": "stdout",
     "output_type": "stream",
     "text": [
      "(590540, 511)\n",
      "(506691, 511)\n"
     ]
    }
   ],
   "source": [
    "# partitioning\n",
    "full_train = df[df[target].isnull() == False].reset_index(drop = True)\n",
    "full_test  = df[df[target].isnull() == True].reset_index(drop = True)\n",
    "print(full_train.shape)\n",
    "print(full_test.shape)\n",
    "del df"
   ]
  },
  {
   "cell_type": "markdown",
   "metadata": {
    "colab_type": "text",
    "id": "nPX4ljoNG4Un"
   },
   "source": [
    "# MODELING"
   ]
  },
  {
   "cell_type": "markdown",
   "metadata": {
    "colab_type": "text",
    "id": "B69Fdhg0G4Uo"
   },
   "source": [
    "### PARAMETERS"
   ]
  },
  {
   "cell_type": "code",
   "execution_count": 7,
   "metadata": {
    "colab": {
     "base_uri": "https://localhost:8080/",
     "height": 34
    },
    "colab_type": "code",
    "executionInfo": {
     "elapsed": 648,
     "status": "ok",
     "timestamp": 1557933094450,
     "user": {
      "displayName": "Elizaveta",
      "photoUrl": "https://lh3.googleusercontent.com/-3-3kSLC4Mzw/AAAAAAAAAAI/AAAAAAAAABg/Usb9K3n3cRI/s64/photo.jpg",
      "userId": "01253993997636551956"
     },
     "user_tz": -120
    },
    "id": "eWm2I0jDG4Uo",
    "outputId": "89ecbd36-3fac-47aa-dc7f-5b04b4d6081a"
   },
   "outputs": [
    {
     "name": "stdout",
     "output_type": "stream",
     "text": [
      "(590540, 504)\n"
     ]
    }
   ],
   "source": [
    "############ FEAUTERS\n",
    "\n",
    "# drop bad features\n",
    "excluded_feats = ['isFraud',\n",
    "                  'TransactionID', 'TransactionDT',\n",
    "                  'bank_type',\n",
    "                  'uid1', 'uid2', 'uid3', 'uid4', 'uid5', \n",
    "                  'DT', 'DT_D', 'DT_W', 'DT_M', 'DT_hour', \n",
    "                  'DT_day_week', 'DT_day_month', \n",
    "                  'DT_D_total', 'DT_W_total', 'DT_M_total']\n",
    "full_features = [f for f in full_train.columns if f not in excluded_feats]\n",
    "print(full_train[full_features].shape)"
   ]
  },
  {
   "cell_type": "code",
   "execution_count": 8,
   "metadata": {
    "colab": {},
    "colab_type": "code",
    "id": "ynozDG6yivwQ"
   },
   "outputs": [],
   "source": [
    "############ PARAMETERS\n",
    "\n",
    "# cores\n",
    "cores = 24\n",
    "\n",
    "# cross-validation\n",
    "num_folds = 6\n",
    "shuffle   = True\n",
    "\n",
    "# number of trees\n",
    "max_rounds = 10000\n",
    "stopping   = 200\n",
    "verbose    = 250\n",
    "\n",
    "# LGB parameters\n",
    "lgb_params = {\n",
    "    'boosting_type':     'gbdt',\n",
    "    'objective':         'binary',\n",
    "    'metric':            'auc',\n",
    "    'bagging_fraction':  0.9,\n",
    "    'feature_fraction':  0.9,\n",
    "    'lambda_l1':         0.1,\n",
    "    'lambda_l2':         0.1,\n",
    "    'min_split_gain':    0,\n",
    "    'min_child_weight':  0.1,\n",
    "    'min_child_samples': 20,\n",
    "    'silent':            True,\n",
    "    'verbosity':         -1,\n",
    "    'learning_rate':     0.01,\n",
    "    'max_depth':         5,\n",
    "    'num_leaves':        100,\n",
    "    'scale_pos_weight':  1,\n",
    "    'n_estimators':      max_rounds,\n",
    "    'nthread' :          cores,\n",
    "    'random_state':      seed,\n",
    "}\n",
    "\n",
    "lgb_params = {\n",
    "                    'objective':'binary',\n",
    "                    'boosting_type':'gbdt',\n",
    "                    'metric':'auc',\n",
    "                    'n_jobs':cores,\n",
    "                    'learning_rate':0.01,\n",
    "                    'num_leaves': 2**8,\n",
    "                    'max_depth':-1,\n",
    "                    'tree_learner':'serial',\n",
    "                    'colsample_bytree': 0.5,\n",
    "                    'subsample_freq':1,\n",
    "                    'subsample':0.7,\n",
    "                    'n_estimators':max_rounds,\n",
    "                    'max_bin':255,\n",
    "                    'verbose':-1,\n",
    "                    'seed': seed,\n",
    "                } \n",
    "\n",
    "# data partitinoing\n",
    "#folds = StratifiedKFold(n_splits = num_folds, random_state = seed, shuffle = shuffle)\n",
    "folds = GroupKFold(n_splits = num_folds)\n",
    "\n",
    "# SMOTE settings\n",
    "#from imblearn.over_sampling import SMOTE\n",
    "#sm = SMOTE(random_state = seed, n_jobs = cores, sampling_strategy = 0.1)"
   ]
  },
  {
   "cell_type": "code",
   "execution_count": 9,
   "metadata": {
    "colab": {},
    "colab_type": "code",
    "id": "9usATBLbG4Uv"
   },
   "outputs": [],
   "source": [
    "############ PLACEHOLDERS\n",
    "\n",
    "# placeholders\n",
    "clfs = []\n",
    "importances = pd.DataFrame()\n",
    "\n",
    "# predictions\n",
    "preds_test = np.zeros(full_test.shape[0])\n",
    "preds_oof  = np.zeros(full_train.shape[0])"
   ]
  },
  {
   "cell_type": "markdown",
   "metadata": {
    "colab_type": "text",
    "id": "OnYbk3yBG4Uz"
   },
   "source": [
    "### CROSS-VALIDATION"
   ]
  },
  {
   "cell_type": "code",
   "execution_count": 10,
   "metadata": {
    "colab": {
     "base_uri": "https://localhost:8080/",
     "height": 918
    },
    "colab_type": "code",
    "executionInfo": {
     "elapsed": 52906,
     "status": "ok",
     "timestamp": 1557933151848,
     "user": {
      "displayName": "Elizaveta",
      "photoUrl": "https://lh3.googleusercontent.com/-3-3kSLC4Mzw/AAAAAAAAAAI/AAAAAAAAABg/Usb9K3n3cRI/s64/photo.jpg",
      "userId": "01253993997636551956"
     },
     "user_tz": -120
    },
    "id": "XdVpCrqxG4U0",
    "outputId": "d2b165a7-c56b-44c0-b62b-466147db5e22"
   },
   "outputs": [
    {
     "name": "stdout",
     "output_type": "stream",
     "text": [
      "---------------\n",
      "---------------\n",
      "PRODUCT CD = W\n",
      "---------------\n",
      "---------------\n",
      "Data shape: (358122, 307) (81548, 307)\n",
      "Training until validation scores don't improve for 200 rounds.\n",
      "[250]\ttraining's auc: 0.991302\tvalid_1's auc: 0.897745\n",
      "[500]\ttraining's auc: 0.99985\tvalid_1's auc: 0.912228\n",
      "[750]\ttraining's auc: 0.999995\tvalid_1's auc: 0.915903\n",
      "[1000]\ttraining's auc: 1\tvalid_1's auc: 0.917197\n",
      "[1250]\ttraining's auc: 1\tvalid_1's auc: 0.918132\n",
      "Early stopping, best iteration is:\n",
      "[1190]\ttraining's auc: 1\tvalid_1's auc: 0.917848\n",
      "--------------------------------\n",
      "FOLD 1: AUC = 0.917848\n",
      "--------------------------------\n",
      "\n",
      "Data shape: (363531, 307) (76139, 307)\n",
      "Training until validation scores don't improve for 200 rounds.\n",
      "[250]\ttraining's auc: 0.989435\tvalid_1's auc: 0.87855\n",
      "[500]\ttraining's auc: 0.999769\tvalid_1's auc: 0.89183\n",
      "[750]\ttraining's auc: 0.999994\tvalid_1's auc: 0.894822\n",
      "[1000]\ttraining's auc: 1\tvalid_1's auc: 0.896599\n",
      "[1250]\ttraining's auc: 1\tvalid_1's auc: 0.897168\n",
      "Early stopping, best iteration is:\n",
      "[1248]\ttraining's auc: 1\tvalid_1's auc: 0.897178\n",
      "--------------------------------\n",
      "FOLD 2: AUC = 0.897178\n",
      "--------------------------------\n",
      "\n",
      "Data shape: (364760, 307) (74910, 307)\n",
      "Training until validation scores don't improve for 200 rounds.\n",
      "[250]\ttraining's auc: 0.989953\tvalid_1's auc: 0.899115\n",
      "[500]\ttraining's auc: 0.999767\tvalid_1's auc: 0.913296\n",
      "[750]\ttraining's auc: 0.999994\tvalid_1's auc: 0.916621\n",
      "[1000]\ttraining's auc: 1\tvalid_1's auc: 0.918232\n",
      "[1250]\ttraining's auc: 1\tvalid_1's auc: 0.91821\n",
      "Early stopping, best iteration is:\n",
      "[1052]\ttraining's auc: 1\tvalid_1's auc: 0.91859\n",
      "--------------------------------\n",
      "FOLD 3: AUC = 0.918590\n",
      "--------------------------------\n",
      "\n",
      "Data shape: (369590, 307) (70080, 307)\n",
      "Training until validation scores don't improve for 200 rounds.\n",
      "[250]\ttraining's auc: 0.988605\tvalid_1's auc: 0.882506\n",
      "[500]\ttraining's auc: 0.999743\tvalid_1's auc: 0.902685\n",
      "[750]\ttraining's auc: 0.999994\tvalid_1's auc: 0.908103\n",
      "[1000]\ttraining's auc: 0.999999\tvalid_1's auc: 0.909228\n",
      "[1250]\ttraining's auc: 1\tvalid_1's auc: 0.909822\n",
      "Early stopping, best iteration is:\n",
      "[1213]\ttraining's auc: 1\tvalid_1's auc: 0.909605\n",
      "--------------------------------\n",
      "FOLD 4: AUC = 0.909605\n",
      "--------------------------------\n",
      "\n",
      "Data shape: (370970, 307) (68700, 307)\n",
      "Training until validation scores don't improve for 200 rounds.\n",
      "[250]\ttraining's auc: 0.989762\tvalid_1's auc: 0.908352\n",
      "[500]\ttraining's auc: 0.999756\tvalid_1's auc: 0.919531\n",
      "[750]\ttraining's auc: 0.999994\tvalid_1's auc: 0.922687\n",
      "[1000]\ttraining's auc: 1\tvalid_1's auc: 0.923734\n",
      "[1250]\ttraining's auc: 1\tvalid_1's auc: 0.923898\n",
      "Early stopping, best iteration is:\n",
      "[1083]\ttraining's auc: 1\tvalid_1's auc: 0.924252\n",
      "--------------------------------\n",
      "FOLD 5: AUC = 0.924252\n",
      "--------------------------------\n",
      "\n",
      "Data shape: (371377, 307) (68293, 307)\n",
      "Training until validation scores don't improve for 200 rounds.\n",
      "[250]\ttraining's auc: 0.988359\tvalid_1's auc: 0.909631\n",
      "[500]\ttraining's auc: 0.999711\tvalid_1's auc: 0.928037\n",
      "[750]\ttraining's auc: 0.999981\tvalid_1's auc: 0.933434\n",
      "[1000]\ttraining's auc: 0.999989\tvalid_1's auc: 0.935732\n",
      "[1250]\ttraining's auc: 0.999991\tvalid_1's auc: 0.936819\n",
      "[1500]\ttraining's auc: 0.999994\tvalid_1's auc: 0.937183\n",
      "Early stopping, best iteration is:\n",
      "[1461]\ttraining's auc: 0.999993\tvalid_1's auc: 0.937431\n",
      "--------------------------------\n",
      "FOLD 6: AUC = 0.937431\n",
      "--------------------------------\n",
      "\n",
      "--------------------------------\n",
      "- OOF AUC = 0.916178\n",
      "--------------------------------\n",
      "---------------\n",
      "---------------\n",
      "PRODUCT CD = H\n",
      "---------------\n",
      "---------------\n",
      "Data shape: (11993, 491) (21031, 491)\n",
      "Training until validation scores don't improve for 200 rounds.\n",
      "[250]\ttraining's auc: 0.999932\tvalid_1's auc: 0.925285\n",
      "[500]\ttraining's auc: 1\tvalid_1's auc: 0.931024\n",
      "Early stopping, best iteration is:\n",
      "[393]\ttraining's auc: 1\tvalid_1's auc: 0.928444\n",
      "--------------------------------\n",
      "FOLD 1: AUC = 0.928444\n",
      "--------------------------------\n",
      "\n",
      "Data shape: (30382, 491) (2642, 491)\n",
      "Training until validation scores don't improve for 200 rounds.\n",
      "[250]\ttraining's auc: 0.999997\tvalid_1's auc: 0.879751\n",
      "[500]\ttraining's auc: 1\tvalid_1's auc: 0.902393\n",
      "Early stopping, best iteration is:\n",
      "[321]\ttraining's auc: 1\tvalid_1's auc: 0.885118\n",
      "--------------------------------\n",
      "FOLD 2: AUC = 0.885118\n",
      "--------------------------------\n",
      "\n",
      "Data shape: (30446, 491) (2578, 491)\n",
      "Training until validation scores don't improve for 200 rounds.\n",
      "[250]\ttraining's auc: 0.999994\tvalid_1's auc: 0.886343\n",
      "Early stopping, best iteration is:\n",
      "[80]\ttraining's auc: 0.999052\tvalid_1's auc: 0.888621\n",
      "--------------------------------\n",
      "FOLD 3: AUC = 0.888621\n",
      "--------------------------------\n",
      "\n",
      "Data shape: (30647, 491) (2377, 491)\n",
      "Training until validation scores don't improve for 200 rounds.\n",
      "[250]\ttraining's auc: 0.999994\tvalid_1's auc: 0.937769\n",
      "[500]\ttraining's auc: 1\tvalid_1's auc: 0.938699\n",
      "Early stopping, best iteration is:\n",
      "[408]\ttraining's auc: 1\tvalid_1's auc: 0.939586\n",
      "--------------------------------\n",
      "FOLD 4: AUC = 0.939586\n",
      "--------------------------------\n",
      "\n",
      "Data shape: (30794, 491) (2230, 491)\n",
      "Training until validation scores don't improve for 200 rounds.\n",
      "Early stopping, best iteration is:\n",
      "[37]\ttraining's auc: 0.996938\tvalid_1's auc: 0.940464\n",
      "--------------------------------\n",
      "FOLD 5: AUC = 0.940464\n",
      "--------------------------------\n",
      "\n",
      "Data shape: (30858, 491) (2166, 491)\n",
      "Training until validation scores don't improve for 200 rounds.\n",
      "[250]\ttraining's auc: 0.999997\tvalid_1's auc: 0.943895\n",
      "[500]\ttraining's auc: 1\tvalid_1's auc: 0.945153\n",
      "Early stopping, best iteration is:\n",
      "[329]\ttraining's auc: 1\tvalid_1's auc: 0.944645\n",
      "--------------------------------\n",
      "FOLD 6: AUC = 0.944645\n",
      "--------------------------------\n",
      "\n",
      "--------------------------------\n",
      "- OOF AUC = 0.900136\n",
      "--------------------------------\n",
      "---------------\n",
      "---------------\n",
      "PRODUCT CD = C\n",
      "---------------\n",
      "---------------\n",
      "Data shape: (51744, 450) (16775, 450)\n",
      "Training until validation scores don't improve for 200 rounds.\n",
      "[250]\ttraining's auc: 0.995972\tvalid_1's auc: 0.916667\n",
      "[500]\ttraining's auc: 0.999944\tvalid_1's auc: 0.921622\n",
      "[750]\ttraining's auc: 0.999985\tvalid_1's auc: 0.922305\n",
      "[1000]\ttraining's auc: 1\tvalid_1's auc: 0.923309\n",
      "Early stopping, best iteration is:\n",
      "[978]\ttraining's auc: 1\tvalid_1's auc: 0.923278\n",
      "--------------------------------\n",
      "FOLD 1: AUC = 0.923278\n",
      "--------------------------------\n",
      "\n",
      "Data shape: (55379, 450) (13140, 450)\n",
      "Training until validation scores don't improve for 200 rounds.\n",
      "[250]\ttraining's auc: 0.995547\tvalid_1's auc: 0.93936\n",
      "[500]\ttraining's auc: 0.999963\tvalid_1's auc: 0.944013\n",
      "[750]\ttraining's auc: 1\tvalid_1's auc: 0.944899\n",
      "[1000]\ttraining's auc: 1\tvalid_1's auc: 0.945048\n",
      "Early stopping, best iteration is:\n",
      "[859]\ttraining's auc: 1\tvalid_1's auc: 0.945045\n",
      "--------------------------------\n",
      "FOLD 2: AUC = 0.945045\n",
      "--------------------------------\n",
      "\n",
      "Data shape: (58132, 450) (10387, 450)\n",
      "Training until validation scores don't improve for 200 rounds.\n",
      "[250]\ttraining's auc: 0.994289\tvalid_1's auc: 0.954871\n",
      "[500]\ttraining's auc: 0.999911\tvalid_1's auc: 0.958556\n",
      "[750]\ttraining's auc: 1\tvalid_1's auc: 0.960037\n",
      "Early stopping, best iteration is:\n",
      "[744]\ttraining's auc: 1\tvalid_1's auc: 0.960098\n",
      "--------------------------------\n",
      "FOLD 3: AUC = 0.960098\n",
      "--------------------------------\n",
      "\n",
      "Data shape: (58347, 450) (10172, 450)\n",
      "Training until validation scores don't improve for 200 rounds.\n",
      "[250]\ttraining's auc: 0.995099\tvalid_1's auc: 0.950676\n",
      "[500]\ttraining's auc: 0.999933\tvalid_1's auc: 0.95411\n",
      "[750]\ttraining's auc: 1\tvalid_1's auc: 0.95564\n",
      "Early stopping, best iteration is:\n",
      "[733]\ttraining's auc: 1\tvalid_1's auc: 0.955563\n",
      "--------------------------------\n",
      "FOLD 4: AUC = 0.955563\n",
      "--------------------------------\n",
      "\n",
      "Data shape: (59041, 450) (9478, 450)\n",
      "Training until validation scores don't improve for 200 rounds.\n",
      "[250]\ttraining's auc: 0.995302\tvalid_1's auc: 0.934603\n",
      "[500]\ttraining's auc: 0.999943\tvalid_1's auc: 0.937737\n",
      "[750]\ttraining's auc: 1\tvalid_1's auc: 0.93719\n",
      "Early stopping, best iteration is:\n",
      "[594]\ttraining's auc: 0.999996\tvalid_1's auc: 0.938014\n",
      "--------------------------------\n",
      "FOLD 5: AUC = 0.938014\n",
      "--------------------------------\n",
      "\n",
      "Data shape: (59952, 450) (8567, 450)\n",
      "Training until validation scores don't improve for 200 rounds.\n",
      "[250]\ttraining's auc: 0.995184\tvalid_1's auc: 0.932605\n",
      "[500]\ttraining's auc: 0.999918\tvalid_1's auc: 0.93687\n",
      "[750]\ttraining's auc: 0.999995\tvalid_1's auc: 0.937962\n",
      "[1000]\ttraining's auc: 0.999997\tvalid_1's auc: 0.938171\n",
      "Early stopping, best iteration is:\n",
      "[817]\ttraining's auc: 0.999996\tvalid_1's auc: 0.938386\n",
      "--------------------------------\n",
      "FOLD 6: AUC = 0.938386\n",
      "--------------------------------\n",
      "\n",
      "--------------------------------\n",
      "- OOF AUC = 0.941404\n",
      "--------------------------------\n",
      "---------------\n",
      "---------------\n",
      "PRODUCT CD = S\n",
      "---------------\n",
      "---------------\n",
      "Data shape: (8578, 471) (3050, 471)\n",
      "Training until validation scores don't improve for 200 rounds.\n",
      "[250]\ttraining's auc: 0.99998\tvalid_1's auc: 0.960077\n",
      "[500]\ttraining's auc: 1\tvalid_1's auc: 0.968334\n",
      "Early stopping, best iteration is:\n",
      "[432]\ttraining's auc: 1\tvalid_1's auc: 0.96671\n",
      "--------------------------------\n",
      "FOLD 1: AUC = 0.966710\n",
      "--------------------------------\n",
      "\n",
      "Data shape: (8639, 471) (2989, 471)\n",
      "Training until validation scores don't improve for 200 rounds.\n",
      "[250]\ttraining's auc: 0.999982\tvalid_1's auc: 0.617608\n",
      "[500]\ttraining's auc: 1\tvalid_1's auc: 0.64619\n",
      "Early stopping, best iteration is:\n",
      "[448]\ttraining's auc: 1\tvalid_1's auc: 0.625857\n",
      "--------------------------------\n",
      "FOLD 2: AUC = 0.625857\n",
      "--------------------------------\n",
      "\n",
      "Data shape: (10119, 471) (1509, 471)\n",
      "Training until validation scores don't improve for 200 rounds.\n",
      "[250]\ttraining's auc: 0.999996\tvalid_1's auc: 0.939858\n",
      "[500]\ttraining's auc: 1\tvalid_1's auc: 0.949818\n",
      "Early stopping, best iteration is:\n",
      "[348]\ttraining's auc: 1\tvalid_1's auc: 0.943612\n",
      "--------------------------------\n",
      "FOLD 3: AUC = 0.943612\n",
      "--------------------------------\n",
      "\n",
      "Data shape: (10242, 471) (1386, 471)\n",
      "Training until validation scores don't improve for 200 rounds.\n",
      "[250]\ttraining's auc: 0.999984\tvalid_1's auc: 0.963787\n",
      "[500]\ttraining's auc: 1\tvalid_1's auc: 0.969101\n",
      "Early stopping, best iteration is:\n",
      "[430]\ttraining's auc: 1\tvalid_1's auc: 0.968034\n",
      "--------------------------------\n",
      "FOLD 4: AUC = 0.968034\n",
      "--------------------------------\n",
      "\n",
      "Data shape: (10257, 471) (1371, 471)\n",
      "Training until validation scores don't improve for 200 rounds.\n",
      "[250]\ttraining's auc: 0.999985\tvalid_1's auc: 0.961474\n",
      "[500]\ttraining's auc: 1\tvalid_1's auc: 0.965317\n",
      "Early stopping, best iteration is:\n",
      "[373]\ttraining's auc: 1\tvalid_1's auc: 0.964168\n",
      "--------------------------------\n",
      "FOLD 5: AUC = 0.964168\n",
      "--------------------------------\n",
      "\n",
      "Data shape: (10305, 471) (1323, 471)\n",
      "Training until validation scores don't improve for 200 rounds.\n",
      "[250]\ttraining's auc: 0.999992\tvalid_1's auc: 0.951422\n",
      "[500]\ttraining's auc: 1\tvalid_1's auc: 0.955647\n",
      "Early stopping, best iteration is:\n",
      "[426]\ttraining's auc: 1\tvalid_1's auc: 0.954743\n",
      "--------------------------------\n",
      "FOLD 6: AUC = 0.954743\n",
      "--------------------------------\n",
      "\n",
      "--------------------------------\n",
      "- OOF AUC = 0.908920\n",
      "--------------------------------\n",
      "---------------\n",
      "---------------\n",
      "PRODUCT CD = R\n",
      "---------------\n",
      "---------------\n",
      "Data shape: (17373, 491) (20326, 491)\n",
      "Training until validation scores don't improve for 200 rounds.\n",
      "[250]\ttraining's auc: 0.999976\tvalid_1's auc: 0.924291\n",
      "[500]\ttraining's auc: 1\tvalid_1's auc: 0.932797\n",
      "Early stopping, best iteration is:\n",
      "[403]\ttraining's auc: 1\tvalid_1's auc: 0.93084\n",
      "--------------------------------\n",
      "FOLD 1: AUC = 0.930811\n",
      "--------------------------------\n",
      "\n",
      "Data shape: (33498, 491) (4201, 491)\n",
      "Training until validation scores don't improve for 200 rounds.\n",
      "[250]\ttraining's auc: 0.999995\tvalid_1's auc: 0.968878\n",
      "[500]\ttraining's auc: 1\tvalid_1's auc: 0.969691\n",
      "Early stopping, best iteration is:\n",
      "[345]\ttraining's auc: 1\tvalid_1's auc: 0.969597\n",
      "--------------------------------\n",
      "FOLD 2: AUC = 0.969597\n",
      "--------------------------------\n",
      "\n",
      "Data shape: (34254, 491) (3445, 491)\n",
      "Training until validation scores don't improve for 200 rounds.\n",
      "[250]\ttraining's auc: 1\tvalid_1's auc: 0.967378\n",
      "Early stopping, best iteration is:\n",
      "[243]\ttraining's auc: 1\tvalid_1's auc: 0.967311\n",
      "--------------------------------\n",
      "FOLD 3: AUC = 0.967311\n",
      "--------------------------------\n",
      "\n",
      "Data shape: (34347, 491) (3352, 491)\n",
      "Training until validation scores don't improve for 200 rounds.\n",
      "[250]\ttraining's auc: 0.999997\tvalid_1's auc: 0.959752\n",
      "[500]\ttraining's auc: 1\tvalid_1's auc: 0.964371\n",
      "Early stopping, best iteration is:\n",
      "[324]\ttraining's auc: 1\tvalid_1's auc: 0.961385\n",
      "--------------------------------\n",
      "FOLD 4: AUC = 0.961385\n",
      "--------------------------------\n",
      "\n",
      "Data shape: (34505, 491) (3194, 491)\n",
      "Training until validation scores don't improve for 200 rounds.\n",
      "[250]\ttraining's auc: 0.999996\tvalid_1's auc: 0.966654\n",
      "[500]\ttraining's auc: 1\tvalid_1's auc: 0.970215\n",
      "Early stopping, best iteration is:\n",
      "[350]\ttraining's auc: 1\tvalid_1's auc: 0.968213\n",
      "--------------------------------\n",
      "FOLD 5: AUC = 0.968213\n",
      "--------------------------------\n",
      "\n",
      "Data shape: (34518, 491) (3181, 491)\n",
      "Training until validation scores don't improve for 200 rounds.\n",
      "Early stopping, best iteration is:\n",
      "[30]\ttraining's auc: 0.998616\tvalid_1's auc: 0.965692\n",
      "--------------------------------\n",
      "FOLD 6: AUC = 0.965692\n",
      "--------------------------------\n",
      "\n",
      "--------------------------------\n",
      "- OOF AUC = 0.951438\n",
      "--------------------------------\n",
      "CV TIME = 1123.01 min\n"
     ]
    }
   ],
   "source": [
    "cv_start  = time.time()\n",
    "for pcd in full_train.ProductCD.unique():\n",
    "    \n",
    "    print('-'*15)\n",
    "    print('-'*15)\n",
    "    print('PRODUCT CD = ' + str(pcd))\n",
    "    print('-'*15)\n",
    "    print('-'*15)\n",
    "    \n",
    "    train = full_train[full_train.ProductCD == pcd]\n",
    "    test  = full_test[full_test.ProductCD   == pcd]\n",
    "\n",
    "    idx1 = train.index\n",
    "    idx2 = test.index\n",
    "        \n",
    "    train.reset_index(drop = True, inplace = True)\n",
    "    test.reset_index(drop  = True, inplace = True)\n",
    "    \n",
    "    y = train[target]\n",
    "    del train[target], test[target]\n",
    "    \n",
    "    features = full_features.copy()\n",
    "    for var in train.columns:\n",
    "        if train[var].isnull().sum() == len(train):\n",
    "            del train[var], test[var]\n",
    "            if var in features:\n",
    "                features.remove(var)\n",
    "\n",
    "\n",
    "    ############ CROSS-VALIDATION LOOP\n",
    "    for n_fold, (trn_idx, val_idx) in enumerate(folds.split(train, y, groups = train['DT_M'])):\n",
    "\n",
    "        # data partitioning\n",
    "        trn_x, trn_y = train[features].iloc[trn_idx], y.iloc[trn_idx]\n",
    "        val_x, val_y = train[features].iloc[val_idx], y.iloc[val_idx]\n",
    "        test_x       = test[features]\n",
    "\n",
    "        # label encoding\n",
    "        trn_x, val_x, test_x = label_encoding(trn_x, val_x, test_x)\n",
    "\n",
    "        # print data dimensions\n",
    "        print('Data shape:', trn_x.shape, val_x.shape)\n",
    "\n",
    "        # train lightGBM\n",
    "        clf = lgb.LGBMClassifier(**lgb_params) \n",
    "        clf = clf.fit(trn_x, trn_y, \n",
    "                      eval_set              = [(trn_x, trn_y), (val_x, val_y)], \n",
    "                      eval_metric           = 'auc', \n",
    "                      early_stopping_rounds = stopping,\n",
    "                      verbose               = verbose)\n",
    "        clfs.append(clf)\n",
    "\n",
    "        # find the best iteration\n",
    "        best_iter = clf.best_iteration_\n",
    "\n",
    "        # save predictions\n",
    "        preds_oof[idx1[val_idx]] = clf.predict_proba(val_x,  num_iteration = best_iter)[:, 1]\n",
    "        preds_test[idx2]        += clf.predict_proba(test_x, num_iteration = best_iter)[:, 1] / folds.n_splits \n",
    "\n",
    "        # importance\n",
    "        fold_importance_df               = pd.DataFrame()\n",
    "        fold_importance_df['Feature']    = features\n",
    "        fold_importance_df['Importance'] = clf.feature_importances_\n",
    "        fold_importance_df['Fold']       = n_fold + 1\n",
    "        importances                      = pd.concat([importances, fold_importance_df], axis = 0)\n",
    "\n",
    "        # print performance\n",
    "        print('--------------------------------')\n",
    "        print('FOLD%2d: AUC = %.6f' % (n_fold + 1, roc_auc_score(y[val_idx], preds_oof[idx1[val_idx]])))\n",
    "        print('--------------------------------')\n",
    "        print('')\n",
    "\n",
    "        # clear memory\n",
    "        del trn_x, trn_y, val_x, val_y\n",
    "        gc.collect()\n",
    "\n",
    "\n",
    "    # print overall performance    \n",
    "    cv_perf = roc_auc_score(y, preds_oof[idx1])\n",
    "    print('--------------------------------')\n",
    "    print('- OOF AUC = %.6f' % cv_perf)\n",
    "    print('--------------------------------')\n",
    "    \n",
    "    \n",
    "print('CV TIME = {:.2f} min'.format((time.time() - cv_start) / 60))"
   ]
  },
  {
   "cell_type": "markdown",
   "metadata": {
    "colab_type": "text",
    "id": "OnYbk3yBG4Uz"
   },
   "source": [
    "### EVALUATION"
   ]
  },
  {
   "cell_type": "code",
   "execution_count": 11,
   "metadata": {
    "colab": {},
    "colab_type": "code",
    "id": "qRJGFSmyG4U3"
   },
   "outputs": [
    {
     "name": "stdout",
     "output_type": "stream",
     "text": [
      "0.93144\n"
     ]
    }
   ],
   "source": [
    "############ RECHECK PERFORMANCE  \n",
    "\n",
    "# check performance\n",
    "y = full_train[target]\n",
    "print(np.round(roc_auc_score(y, preds_oof), 5))\n",
    "cv_perf = roc_auc_score(y, preds_oof)\n",
    "\n",
    "\n",
    "############ TRACK RESULTS\n"
   ]
  },
  {
   "cell_type": "code",
   "execution_count": 12,
   "metadata": {},
   "outputs": [
    {
     "data": {
      "image/png": "[encoded data removed]",
      "text/plain": [
       "<Figure size 720x288 with 2 Axes>"
      ]
     },
     "metadata": {
      "needs_background": "dark"
     },
     "output_type": "display_data"
    }
   ],
   "source": [
    "########## CONFUSION MATRIX\n",
    "\n",
    "# construct confusion matrx\n",
    "cm = confusion_matrix(y, np.round(preds_oof))\n",
    "cm = cm.astype('float') / cm.sum(axis = 1)[:, np.newaxis]\n",
    "\n",
    "# plot matrix\n",
    "fig, ax = plt.subplots(figsize = (10, 4))\n",
    "sns.heatmap(cm, cmap = 'Blues', annot = True, lw = 0.5)\n",
    "ax.set_xlabel('Prediction')\n",
    "ax.set_ylabel('Ground Truth')\n",
    "ax.set_aspect('equal')"
   ]
  },
  {
   "cell_type": "markdown",
   "metadata": {
    "colab_type": "text",
    "id": "2dsi_jeGG4VE"
   },
   "source": [
    "# SUBMISSION"
   ]
  },
  {
   "cell_type": "code",
   "execution_count": 13,
   "metadata": {
    "colab": {},
    "colab_type": "code",
    "id": "_Tt_FxCwG4VF"
   },
   "outputs": [
    {
     "data": {
      "text/plain": [
       "'lgb_v9p_93144'"
      ]
     },
     "execution_count": 13,
     "metadata": {},
     "output_type": "execute_result"
    }
   ],
   "source": [
    "# file name\n",
    "model = 'lgb_v9p'\n",
    "perf  = str(round(cv_perf, 6))[2:7]\n",
    "name  = model + '_' + perf\n",
    "name"
   ]
  },
  {
   "cell_type": "code",
   "execution_count": 14,
   "metadata": {
    "colab": {},
    "colab_type": "code",
    "id": "gukkBbc9G4VH"
   },
   "outputs": [
    {
     "data": {
      "text/html": [
       "<div>\n",
       "<style scoped>\n",
       "    .dataframe tbody tr th:only-of-type {\n",
       "        vertical-align: middle;\n",
       "    }\n",
       "\n",
       "    .dataframe tbody tr th {\n",
       "        vertical-align: top;\n",
       "    }\n",
       "\n",
       "    .dataframe thead th {\n",
       "        text-align: right;\n",
       "    }\n",
       "</style>\n",
       "<table border=\"1\" class=\"dataframe\">\n",
       "  <thead>\n",
       "    <tr style=\"text-align: right;\">\n",
       "      <th></th>\n",
       "      <th>TransactionID</th>\n",
       "      <th>isFraud</th>\n",
       "    </tr>\n",
       "  </thead>\n",
       "  <tbody>\n",
       "    <tr>\n",
       "      <td>0</td>\n",
       "      <td>2987000</td>\n",
       "      <td>0.003592</td>\n",
       "    </tr>\n",
       "    <tr>\n",
       "      <td>1</td>\n",
       "      <td>2987001</td>\n",
       "      <td>0.002628</td>\n",
       "    </tr>\n",
       "    <tr>\n",
       "      <td>2</td>\n",
       "      <td>2987002</td>\n",
       "      <td>0.002492</td>\n",
       "    </tr>\n",
       "    <tr>\n",
       "      <td>3</td>\n",
       "      <td>2987003</td>\n",
       "      <td>0.002072</td>\n",
       "    </tr>\n",
       "    <tr>\n",
       "      <td>4</td>\n",
       "      <td>2987004</td>\n",
       "      <td>0.005532</td>\n",
       "    </tr>\n",
       "  </tbody>\n",
       "</table>\n",
       "</div>"
      ],
      "text/plain": [
       "   TransactionID   isFraud\n",
       "0        2987000  0.003592\n",
       "1        2987001  0.002628\n",
       "2        2987002  0.002492\n",
       "3        2987003  0.002072\n",
       "4        2987004  0.005532"
      ]
     },
     "execution_count": 14,
     "metadata": {},
     "output_type": "execute_result"
    }
   ],
   "source": [
    "# export OOF preds\n",
    "oof = pd.DataFrame({'TransactionID': full_train['TransactionID'], 'isFraud': preds_oof})\n",
    "oof.to_csv('../oof_preds/' + str(name) + '.csv', index = False)\n",
    "oof.head()"
   ]
  },
  {
   "cell_type": "code",
   "execution_count": 15,
   "metadata": {
    "colab": {},
    "colab_type": "code",
    "id": "gukkBbc9G4VH"
   },
   "outputs": [
    {
     "data": {
      "text/html": [
       "<div>\n",
       "<style scoped>\n",
       "    .dataframe tbody tr th:only-of-type {\n",
       "        vertical-align: middle;\n",
       "    }\n",
       "\n",
       "    .dataframe tbody tr th {\n",
       "        vertical-align: top;\n",
       "    }\n",
       "\n",
       "    .dataframe thead th {\n",
       "        text-align: right;\n",
       "    }\n",
       "</style>\n",
       "<table border=\"1\" class=\"dataframe\">\n",
       "  <thead>\n",
       "    <tr style=\"text-align: right;\">\n",
       "      <th></th>\n",
       "      <th>TransactionID</th>\n",
       "      <th>isFraud</th>\n",
       "    </tr>\n",
       "  </thead>\n",
       "  <tbody>\n",
       "    <tr>\n",
       "      <td>0</td>\n",
       "      <td>3663549</td>\n",
       "      <td>0.000531</td>\n",
       "    </tr>\n",
       "    <tr>\n",
       "      <td>1</td>\n",
       "      <td>3663550</td>\n",
       "      <td>0.001157</td>\n",
       "    </tr>\n",
       "    <tr>\n",
       "      <td>2</td>\n",
       "      <td>3663551</td>\n",
       "      <td>0.000928</td>\n",
       "    </tr>\n",
       "    <tr>\n",
       "      <td>3</td>\n",
       "      <td>3663552</td>\n",
       "      <td>0.000504</td>\n",
       "    </tr>\n",
       "    <tr>\n",
       "      <td>4</td>\n",
       "      <td>3663553</td>\n",
       "      <td>0.000716</td>\n",
       "    </tr>\n",
       "  </tbody>\n",
       "</table>\n",
       "</div>"
      ],
      "text/plain": [
       "   TransactionID   isFraud\n",
       "0        3663549  0.000531\n",
       "1        3663550  0.001157\n",
       "2        3663551  0.000928\n",
       "3        3663552  0.000504\n",
       "4        3663553  0.000716"
      ]
     },
     "execution_count": 15,
     "metadata": {},
     "output_type": "execute_result"
    }
   ],
   "source": [
    "# export submission\n",
    "sub = pd.DataFrame({'TransactionID': full_test['TransactionID'], 'isFraud': preds_test})\n",
    "sub.to_csv('../submissions/' + str(name) + '.csv', index = False)\n",
    "sub.head()"
   ]
  },
  {
   "cell_type": "code",
   "execution_count": 16,
   "metadata": {},
   "outputs": [
    {
     "data": {
      "text/plain": [
       "SpearmanrResult(correlation=0.7231633958218673, pvalue=0.0)"
      ]
     },
     "execution_count": 16,
     "metadata": {},
     "output_type": "execute_result"
    }
   ],
   "source": [
    "# check rank correlation with the best submission\n",
    "from scipy.stats import spearmanr\n",
    "sub  = sub.sort_values('TransactionID')\n",
    "best = pd.read_csv(\"../submissions/BlendSolution.csv\")\n",
    "best = best.sort_values('TransactionID')\n",
    "spearmanr(sub.isFraud, best.isFraud)"
   ]
  }
 ],
 "metadata": {
  "colab": {
   "collapsed_sections": [],
   "name": "code_2_lgb_main.ipynb",
   "provenance": [],
   "version": "0.3.2"
  },
  "kernelspec": {
   "display_name": "Python 3",
   "language": "python",
   "name": "python3"
  },
  "language_info": {
   "codemirror_mode": {
    "name": "ipython",
    "version": 3
   },
   "file_extension": ".py",
   "mimetype": "text/x-python",
   "name": "python",
   "nbconvert_exporter": "python",
   "pygments_lexer": "ipython3",
   "version": "3.7.1"
  }
 },
 "nbformat": 4,
 "nbformat_minor": 4
}
